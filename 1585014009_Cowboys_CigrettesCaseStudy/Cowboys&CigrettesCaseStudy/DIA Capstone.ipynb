{
 "cells": [
  {
   "cell_type": "markdown",
   "id": "3ed36fd0",
   "metadata": {},
   "source": [
    "# DIA Capstone: Modeling"
   ]
  },
  {
   "cell_type": "markdown",
   "id": "8b6a1d04",
   "metadata": {},
   "source": [
    "## 1. Sourcing and Loading"
   ]
  },
  {
   "cell_type": "markdown",
   "id": "59a06e5a",
   "metadata": {},
   "source": [
    "### 1a. Load relevant libraries "
   ]
  },
  {
   "cell_type": "code",
   "execution_count": 1,
   "id": "16c02d7c",
   "metadata": {},
   "outputs": [],
   "source": [
    "import pandas as pd\n",
    "import math\n",
    "import numpy as np\n",
    "import matplotlib.pylab as plt\n",
    "%matplotlib inline\n",
    "from sklearn.metrics import mean_squared_error\n",
    "from statsmodels.tsa.arima_model import ARIMA\n",
    "from sklearn.preprocessing import MinMaxScaler\n",
    "from tensorflow.keras.models import Sequential\n",
    "from tensorflow.keras.layers import Dense, Dropout, LSTM\n",
    "from tensorflow.keras.callbacks import ModelCheckpoint, EarlyStopping\n",
    "from sklearn.metrics import mean_squared_error\n",
    "import math"
   ]
  },
  {
   "cell_type": "markdown",
   "id": "97d545c5",
   "metadata": {},
   "source": [
    "### 1b. Load the data"
   ]
  },
  {
   "cell_type": "code",
   "execution_count": 2,
   "id": "865af503",
   "metadata": {},
   "outputs": [],
   "source": [
    "DIA = pd.read_csv('DIA (3).csv')"
   ]
  },
  {
   "cell_type": "markdown",
   "id": "552abe5b",
   "metadata": {},
   "source": [
    "### 1c. Explore the data\n",
    "We now need to check whether the data conduces to a time series style analysis."
   ]
  },
  {
   "cell_type": "code",
   "execution_count": 3,
   "id": "113a0790",
   "metadata": {},
   "outputs": [
    {
     "name": "stdout",
     "output_type": "stream",
     "text": [
      "<class 'pandas.core.frame.DataFrame'>\n",
      "RangeIndex: 1257 entries, 0 to 1256\n",
      "Data columns (total 7 columns):\n",
      " #   Column     Non-Null Count  Dtype  \n",
      "---  ------     --------------  -----  \n",
      " 0   Date       1257 non-null   object \n",
      " 1   Open       1257 non-null   float64\n",
      " 2   High       1257 non-null   float64\n",
      " 3   Low        1257 non-null   float64\n",
      " 4   Close      1257 non-null   float64\n",
      " 5   Adj Close  1257 non-null   float64\n",
      " 6   Volume     1257 non-null   int64  \n",
      "dtypes: float64(5), int64(1), object(1)\n",
      "memory usage: 68.9+ KB\n"
     ]
    }
   ],
   "source": [
    "DIA.info()"
   ]
  },
  {
   "cell_type": "code",
   "execution_count": 4,
   "id": "76fd1cd2",
   "metadata": {},
   "outputs": [
    {
     "data": {
      "text/html": [
       "<div>\n",
       "<style scoped>\n",
       "    .dataframe tbody tr th:only-of-type {\n",
       "        vertical-align: middle;\n",
       "    }\n",
       "\n",
       "    .dataframe tbody tr th {\n",
       "        vertical-align: top;\n",
       "    }\n",
       "\n",
       "    .dataframe thead th {\n",
       "        text-align: right;\n",
       "    }\n",
       "</style>\n",
       "<table border=\"1\" class=\"dataframe\">\n",
       "  <thead>\n",
       "    <tr style=\"text-align: right;\">\n",
       "      <th></th>\n",
       "      <th>Date</th>\n",
       "      <th>Open</th>\n",
       "      <th>High</th>\n",
       "      <th>Low</th>\n",
       "      <th>Close</th>\n",
       "      <th>Adj Close</th>\n",
       "      <th>Volume</th>\n",
       "    </tr>\n",
       "  </thead>\n",
       "  <tbody>\n",
       "    <tr>\n",
       "      <th>0</th>\n",
       "      <td>1/2/2015</td>\n",
       "      <td>178.649994</td>\n",
       "      <td>179.229996</td>\n",
       "      <td>176.979996</td>\n",
       "      <td>177.940002</td>\n",
       "      <td>153.454803</td>\n",
       "      <td>4997200</td>\n",
       "    </tr>\n",
       "    <tr>\n",
       "      <th>1</th>\n",
       "      <td>1/5/2015</td>\n",
       "      <td>177.059998</td>\n",
       "      <td>177.210007</td>\n",
       "      <td>174.460007</td>\n",
       "      <td>174.839996</td>\n",
       "      <td>150.781387</td>\n",
       "      <td>6700200</td>\n",
       "    </tr>\n",
       "    <tr>\n",
       "      <th>2</th>\n",
       "      <td>1/6/2015</td>\n",
       "      <td>175.100006</td>\n",
       "      <td>175.539993</td>\n",
       "      <td>172.320007</td>\n",
       "      <td>173.389999</td>\n",
       "      <td>149.530914</td>\n",
       "      <td>10131400</td>\n",
       "    </tr>\n",
       "    <tr>\n",
       "      <th>3</th>\n",
       "      <td>1/7/2015</td>\n",
       "      <td>174.850006</td>\n",
       "      <td>175.789993</td>\n",
       "      <td>174.240005</td>\n",
       "      <td>175.589996</td>\n",
       "      <td>151.428162</td>\n",
       "      <td>5547000</td>\n",
       "    </tr>\n",
       "    <tr>\n",
       "      <th>4</th>\n",
       "      <td>1/8/2015</td>\n",
       "      <td>177.259995</td>\n",
       "      <td>178.960007</td>\n",
       "      <td>177.210007</td>\n",
       "      <td>178.759995</td>\n",
       "      <td>154.161942</td>\n",
       "      <td>7166700</td>\n",
       "    </tr>\n",
       "  </tbody>\n",
       "</table>\n",
       "</div>"
      ],
      "text/plain": [
       "       Date        Open        High         Low       Close   Adj Close  \\\n",
       "0  1/2/2015  178.649994  179.229996  176.979996  177.940002  153.454803   \n",
       "1  1/5/2015  177.059998  177.210007  174.460007  174.839996  150.781387   \n",
       "2  1/6/2015  175.100006  175.539993  172.320007  173.389999  149.530914   \n",
       "3  1/7/2015  174.850006  175.789993  174.240005  175.589996  151.428162   \n",
       "4  1/8/2015  177.259995  178.960007  177.210007  178.759995  154.161942   \n",
       "\n",
       "     Volume  \n",
       "0   4997200  \n",
       "1   6700200  \n",
       "2  10131400  \n",
       "3   5547000  \n",
       "4   7166700  "
      ]
     },
     "execution_count": 4,
     "metadata": {},
     "output_type": "execute_result"
    }
   ],
   "source": [
    "DIA.head()"
   ]
  },
  {
   "cell_type": "code",
   "execution_count": 5,
   "id": "c4b6cb62",
   "metadata": {
    "scrolled": true
   },
   "outputs": [
    {
     "data": {
      "text/plain": [
       "Date         0\n",
       "Open         0\n",
       "High         0\n",
       "Low          0\n",
       "Close        0\n",
       "Adj Close    0\n",
       "Volume       0\n",
       "dtype: int64"
      ]
     },
     "execution_count": 5,
     "metadata": {},
     "output_type": "execute_result"
    }
   ],
   "source": [
    "DIA.isna().sum()"
   ]
  },
  {
   "cell_type": "markdown",
   "id": "82cded9c",
   "metadata": {},
   "source": [
    "## 2. ARIMA"
   ]
  },
  {
   "cell_type": "markdown",
   "id": "49636c3c",
   "metadata": {},
   "source": [
    "### 2a. Cleaning, transforming and visualizing for ARIMA "
   ]
  },
  {
   "cell_type": "code",
   "execution_count": 6,
   "id": "c59637b0",
   "metadata": {
    "scrolled": true
   },
   "outputs": [],
   "source": [
    "DIA['Date'] = pd.to_datetime(DIA['Date'])"
   ]
  },
  {
   "cell_type": "code",
   "execution_count": 7,
   "id": "94322145",
   "metadata": {},
   "outputs": [],
   "source": [
    "DIA = DIA.set_index('Date').asfreq('B').ffill()"
   ]
  },
  {
   "cell_type": "code",
   "execution_count": 8,
   "id": "ec558614",
   "metadata": {},
   "outputs": [],
   "source": [
    "y = DIA['Adj Close']"
   ]
  },
  {
   "cell_type": "code",
   "execution_count": 9,
   "id": "00aeaa9c",
   "metadata": {},
   "outputs": [
    {
     "data": {
      "text/plain": [
       "pandas.core.series.Series"
      ]
     },
     "execution_count": 9,
     "metadata": {},
     "output_type": "execute_result"
    }
   ],
   "source": [
    "type(y)"
   ]
  },
  {
   "cell_type": "code",
   "execution_count": 10,
   "id": "543bc118",
   "metadata": {},
   "outputs": [
    {
     "data": {
      "text/plain": [
       "0"
      ]
     },
     "execution_count": 10,
     "metadata": {},
     "output_type": "execute_result"
    }
   ],
   "source": [
    "y.isna().sum()"
   ]
  },
  {
   "cell_type": "markdown",
   "id": "a8fba9d0",
   "metadata": {},
   "source": [
    "### 2b. Decomposition"
   ]
  },
  {
   "cell_type": "code",
   "execution_count": 11,
   "id": "e22db94d",
   "metadata": {},
   "outputs": [
    {
     "data": {
      "image/png": "[encoded data removed]",
      "text/plain": [
       "<Figure size 432x288 with 4 Axes>"
      ]
     },
     "metadata": {
      "needs_background": "light"
     },
     "output_type": "display_data"
    }
   ],
   "source": [
    "from statsmodels.tsa.seasonal import seasonal_decompose\n",
    "\n",
    "decomposition = seasonal_decompose(y)\n",
    "\n",
    "trend = decomposition.trend\n",
    "seasonal = decomposition.seasonal\n",
    "residual = decomposition.resid\n",
    "\n",
    "# Plot the original data, the trend, the seasonality, and the residuals \n",
    "plt.subplot(411)\n",
    "plt.plot(y, label = 'Original')\n",
    "plt.legend(loc = 'best')\n",
    "plt.subplot(412)\n",
    "plt.plot(trend, label = 'Trend')\n",
    "plt.legend(loc = 'best')\n",
    "plt.subplot(413)\n",
    "plt.plot(seasonal, label = \"Seasonality\")\n",
    "plt.legend(loc = 'best')\n",
    "plt.subplot(414)\n",
    "plt.plot(residual, label = \"Residual\")\n",
    "plt.tight_layout()"
   ]
  },
  {
   "cell_type": "markdown",
   "id": "4f534d1a",
   "metadata": {},
   "source": [
    "### 2b. Testing for stationarity with KPSS"
   ]
  },
  {
   "cell_type": "code",
   "execution_count": 12,
   "id": "ae01fad0",
   "metadata": {},
   "outputs": [
    {
     "name": "stderr",
     "output_type": "stream",
     "text": [
      "C:\\Users\\yorik\\anaconda3\\lib\\site-packages\\statsmodels\\tsa\\stattools.py:1875: FutureWarning: The behavior of using nlags=None will change in release 0.13.Currently nlags=None is the same as nlags=\"legacy\", and so a sample-size lag length is used. After the next release, the default will change to be the same as nlags=\"auto\" which uses an automatic lag length selection method. To silence this warning, either use \"auto\" or \"legacy\"\n",
      "  warnings.warn(msg, FutureWarning)\n",
      "C:\\Users\\yorik\\anaconda3\\lib\\site-packages\\statsmodels\\tsa\\stattools.py:1906: InterpolationWarning: The test statistic is outside of the range of p-values available in the\n",
      "look-up table. The actual p-value is smaller than the p-value returned.\n",
      "\n",
      "  warnings.warn(\n"
     ]
    },
    {
     "data": {
      "text/plain": [
       "(5.3803298534460815,\n",
       " 0.01,\n",
       " 23,\n",
       " {'10%': 0.347, '5%': 0.463, '2.5%': 0.574, '1%': 0.739})"
      ]
     },
     "execution_count": 12,
     "metadata": {},
     "output_type": "execute_result"
    }
   ],
   "source": [
    "from statsmodels.tsa.stattools import kpss\n",
    "kpss(y)"
   ]
  },
  {
   "cell_type": "markdown",
   "id": "169a3652",
   "metadata": {},
   "source": [
    "### 2c. Making the data stationary "
   ]
  },
  {
   "cell_type": "code",
   "execution_count": 13,
   "id": "dd9638c9",
   "metadata": {},
   "outputs": [],
   "source": [
    "y_log = np.log(y)"
   ]
  },
  {
   "cell_type": "code",
   "execution_count": 14,
   "id": "0ab68f7f",
   "metadata": {
    "scrolled": true
   },
   "outputs": [
    {
     "data": {
      "image/png": "[encoded data removed]",
      "text/plain": [
       "<Figure size 720x360 with 1 Axes>"
      ]
     },
     "metadata": {
      "needs_background": "light"
     },
     "output_type": "display_data"
    }
   ],
   "source": [
    "_ = plt.figure(figsize=(10,5))\n",
    "_ = plt.plot(y_log.diff())"
   ]
  },
  {
   "cell_type": "code",
   "execution_count": 15,
   "id": "885bd3e9",
   "metadata": {
    "scrolled": false
   },
   "outputs": [
    {
     "name": "stderr",
     "output_type": "stream",
     "text": [
      "C:\\Users\\yorik\\anaconda3\\lib\\site-packages\\statsmodels\\tsa\\stattools.py:1910: InterpolationWarning: The test statistic is outside of the range of p-values available in the\n",
      "look-up table. The actual p-value is greater than the p-value returned.\n",
      "\n",
      "  warnings.warn(\n"
     ]
    },
    {
     "data": {
      "text/plain": [
       "(0.08738928379019296,\n",
       " 0.1,\n",
       " 23,\n",
       " {'10%': 0.347, '5%': 0.463, '2.5%': 0.574, '1%': 0.739})"
      ]
     },
     "execution_count": 15,
     "metadata": {},
     "output_type": "execute_result"
    }
   ],
   "source": [
    "kpss(y_log.diff().dropna())"
   ]
  },
  {
   "cell_type": "markdown",
   "id": "f57c9173",
   "metadata": {},
   "source": [
    "### 2d. The ARIMA model"
   ]
  },
  {
   "cell_type": "code",
   "execution_count": 16,
   "id": "238ff8db",
   "metadata": {},
   "outputs": [],
   "source": [
    "# Make a function called evaluate_arima_model to find the MSE of a single ARIMA model \n",
    "def evaluate_arima_model(data, arima_order):\n",
    "    split=int(len(data) * 0.65) \n",
    "    # Make train and test variables, with 'train, test'\n",
    "    train, test = data[0:split], data[split:len(data)]\n",
    "    past=[x for x in train]\n",
    "    # make predictions\n",
    "    predictions = list()\n",
    "    for i in range(len(test)):\n",
    "        model = ARIMA(past, order=arima_order)\n",
    "        model_fit = model.fit(disp=0)\n",
    "        future = model_fit.forecast()[0]\n",
    "        predictions.append(future)\n",
    "        past.append(test[i])\n",
    "    # calculate out of sample error\n",
    "    error = mean_squared_error(test, predictions)\n",
    "    # Return the error\n",
    "    return error"
   ]
  },
  {
   "cell_type": "code",
   "execution_count": 17,
   "id": "09d30bde",
   "metadata": {},
   "outputs": [],
   "source": [
    "# Make a function called evaluate_models to evaluate different ARIMA models with several different p, d, and q values.\n",
    "def evaluate_models(dataset, p_values, d_values, q_values):\n",
    "    best_score, best_cfg = float(\"inf\"), None\n",
    "    # Iterate through p_values\n",
    "    for p in p_values:\n",
    "        # Iterate through d_values\n",
    "        for d in d_values:\n",
    "            # Iterate through q_values\n",
    "            for q in q_values:\n",
    "                # p, d, q iterator variables\n",
    "                order = (p,d,q)\n",
    "                try:\n",
    "                    # Make a variable called mse for the Mean squared error\n",
    "                    mse = evaluate_arima_model(dataset, order)\n",
    "                    if mse < best_score:\n",
    "                        best_score, best_cfg = mse, order\n",
    "                    print('ARIMA%s MSE=%.3f' % (order,mse))\n",
    "                except:\n",
    "                    continue\n",
    "    return print('Best ARIMA%s MSE=%.3f' % (best_cfg, best_score))"
   ]
  },
  {
   "cell_type": "code",
   "execution_count": 18,
   "id": "da814c53",
   "metadata": {},
   "outputs": [],
   "source": [
    "p_values = [x for x in range(0, 3)]\n",
    "d_values = [x for x in range(0, 3)]\n",
    "q_values = [x for x in range(0, 3)]"
   ]
  },
  {
   "cell_type": "code",
   "execution_count": 19,
   "id": "64b29c6e",
   "metadata": {
    "scrolled": true
   },
   "outputs": [
    {
     "name": "stdout",
     "output_type": "stream",
     "text": [
      "ARIMA(0, 0, 0) MSE=0.079\n",
      "ARIMA(0, 0, 1) MSE=0.021\n",
      "ARIMA(0, 1, 0) MSE=0.000\n",
      "ARIMA(0, 1, 1) MSE=0.000\n",
      "ARIMA(0, 1, 2) MSE=0.000\n",
      "ARIMA(0, 2, 0) MSE=0.000\n",
      "ARIMA(0, 2, 1) MSE=0.000\n",
      "ARIMA(0, 2, 2) MSE=0.000\n",
      "ARIMA(1, 0, 0) MSE=0.000\n",
      "ARIMA(1, 1, 0) MSE=0.000\n",
      "ARIMA(1, 1, 1) MSE=0.000\n",
      "ARIMA(1, 1, 2) MSE=0.000\n",
      "ARIMA(1, 2, 0) MSE=0.000\n",
      "ARIMA(2, 0, 0) MSE=57123.249\n",
      "ARIMA(2, 1, 0) MSE=0.000\n",
      "ARIMA(2, 1, 1) MSE=0.000\n",
      "ARIMA(2, 1, 2) MSE=0.000\n",
      "ARIMA(2, 2, 0) MSE=0.000\n",
      "ARIMA(2, 2, 1) MSE=0.000\n",
      "ARIMA(2, 2, 2) MSE=0.000\n",
      "Best ARIMA(0, 1, 0) MSE=0.000\n"
     ]
    }
   ],
   "source": [
    "import warnings\n",
    "warnings.filterwarnings(\"ignore\")\n",
    "evaluate_models(y_log, p_values, d_values, q_values)"
   ]
  },
  {
   "cell_type": "code",
   "execution_count": 20,
   "id": "4935cfe5",
   "metadata": {},
   "outputs": [],
   "source": [
    "p=0\n",
    "d=1\n",
    "q=0\n",
    "model = ARIMA(y_log, order=(p,d,q))\n",
    "model_fit = model.fit()\n",
    "forecast = model_fit.forecast(12)"
   ]
  },
  {
   "cell_type": "code",
   "execution_count": 21,
   "id": "7ef0953d",
   "metadata": {
    "scrolled": false
   },
   "outputs": [
    {
     "data": {
      "text/html": [
       "<table class=\"simpletable\">\n",
       "<caption>ARIMA Model Results</caption>\n",
       "<tr>\n",
       "  <th>Dep. Variable:</th>    <td>D.Adj Close</td>   <th>  No. Observations:  </th>   <td>1301</td>   \n",
       "</tr>\n",
       "<tr>\n",
       "  <th>Model:</th>          <td>ARIMA(0, 1, 0)</td>  <th>  Log Likelihood     </th> <td>4374.443</td> \n",
       "</tr>\n",
       "<tr>\n",
       "  <th>Method:</th>               <td>css</td>       <th>  S.D. of innovations</th>   <td>0.008</td>  \n",
       "</tr>\n",
       "<tr>\n",
       "  <th>Date:</th>          <td>Mon, 15 Nov 2021</td> <th>  AIC                </th> <td>-8744.885</td>\n",
       "</tr>\n",
       "<tr>\n",
       "  <th>Time:</th>              <td>22:37:09</td>     <th>  BIC                </th> <td>-8734.543</td>\n",
       "</tr>\n",
       "<tr>\n",
       "  <th>Sample:</th>           <td>01-05-2015</td>    <th>  HQIC               </th> <td>-8741.005</td>\n",
       "</tr>\n",
       "<tr>\n",
       "  <th></th>                 <td>- 12-30-2019</td>   <th>                     </th>     <td> </td>    \n",
       "</tr>\n",
       "</table>\n",
       "<table class=\"simpletable\">\n",
       "<tr>\n",
       "    <td></td>       <th>coef</th>     <th>std err</th>      <th>z</th>      <th>P>|z|</th>  <th>[0.025</th>    <th>0.975]</th>  \n",
       "</tr>\n",
       "<tr>\n",
       "  <th>const</th> <td>    0.0004</td> <td>    0.000</td> <td>    1.927</td> <td> 0.054</td> <td>-7.58e-06</td> <td>    0.001</td>\n",
       "</tr>\n",
       "</table>"
      ],
      "text/plain": [
       "<class 'statsmodels.iolib.summary.Summary'>\n",
       "\"\"\"\n",
       "                             ARIMA Model Results                              \n",
       "==============================================================================\n",
       "Dep. Variable:            D.Adj Close   No. Observations:                 1301\n",
       "Model:                 ARIMA(0, 1, 0)   Log Likelihood                4374.443\n",
       "Method:                           css   S.D. of innovations              0.008\n",
       "Date:                Mon, 15 Nov 2021   AIC                          -8744.885\n",
       "Time:                        22:37:09   BIC                          -8734.543\n",
       "Sample:                    01-05-2015   HQIC                         -8741.005\n",
       "                         - 12-30-2019                                         \n",
       "==============================================================================\n",
       "                 coef    std err          z      P>|z|      [0.025      0.975]\n",
       "------------------------------------------------------------------------------\n",
       "const          0.0004      0.000      1.927      0.054   -7.58e-06       0.001\n",
       "==============================================================================\n",
       "\"\"\""
      ]
     },
     "execution_count": 21,
     "metadata": {},
     "output_type": "execute_result"
    }
   ],
   "source": [
    "model_fit.summary()"
   ]
  },
  {
   "cell_type": "markdown",
   "id": "224b3cab",
   "metadata": {},
   "source": [
    "### 2e. Visualize the results "
   ]
  },
  {
   "cell_type": "code",
   "execution_count": 22,
   "id": "79f5cbcf",
   "metadata": {
    "scrolled": true
   },
   "outputs": [
    {
     "data": {
      "text/plain": [
       "[<matplotlib.lines.Line2D at 0x1f1cf971ee0>]"
      ]
     },
     "execution_count": 22,
     "metadata": {},
     "output_type": "execute_result"
    },
    {
     "data": {
      "image/png": "[encoded data removed]",
      "text/plain": [
       "<Figure size 1080x720 with 1 Axes>"
      ]
     },
     "metadata": {
      "needs_background": "light"
     },
     "output_type": "display_data"
    }
   ],
   "source": [
    "# Call figure() and plot() on the plt\n",
    "plt.figure(figsize=(15,10))\n",
    "plt.plot(y_log.diff())\n",
    "plt.plot(model_fit.predict(), color = 'red')"
   ]
  },
  {
   "cell_type": "markdown",
   "id": "335e21fc",
   "metadata": {},
   "source": [
    "### 2f. Application: Forecasting"
   ]
  },
  {
   "cell_type": "code",
   "execution_count": 23,
   "id": "d6779307",
   "metadata": {
    "scrolled": true
   },
   "outputs": [
    {
     "data": {
      "image/png": "[encoded data removed]",
      "text/plain": [
       "<Figure size 1080x720 with 1 Axes>"
      ]
     },
     "metadata": {
      "needs_background": "light"
     },
     "output_type": "display_data"
    }
   ],
   "source": [
    "forecast_period = 12\n",
    "date_range = pd.date_range(y_log.index[-1], periods = forecast_period, \\\n",
    "                           freq='D').strftime(\"%Y-%m-%d\").tolist()\n",
    "\n",
    "future_dates = pd.DataFrame(date_range, columns = ['Date'])\n",
    "future_dates['Date'] = pd.to_datetime(future_dates['Date'])\n",
    "future_dates.set_index('Date', inplace = True)\n",
    "future_dates['Prediction'] = forecast[0]\n",
    "\n",
    "\n",
    "plt.figure(figsize=(15,10))\n",
    "plt.plot(y)\n",
    "plt.plot(y['2019'].append(np.exp(future_dates['Prediction'])))\n",
    "plt.show()"
   ]
  },
  {
   "cell_type": "markdown",
   "id": "4c045bc5",
   "metadata": {},
   "source": [
    "## 3. LSTM"
   ]
  },
  {
   "cell_type": "markdown",
   "id": "fe0c2580",
   "metadata": {},
   "source": [
    "### 3a. Cleaning, transforming and visualizing for LSTM"
   ]
  },
  {
   "cell_type": "code",
   "execution_count": 24,
   "id": "d6e4d47b",
   "metadata": {},
   "outputs": [
    {
     "data": {
      "text/plain": [
       "Date\n",
       "2015-01-02    153.454803\n",
       "2015-01-05    150.781387\n",
       "2015-01-06    149.530914\n",
       "2015-01-07    151.428162\n",
       "2015-01-08    154.161942\n",
       "Freq: B, Name: Adj Close, dtype: float64"
      ]
     },
     "execution_count": 24,
     "metadata": {},
     "output_type": "execute_result"
    }
   ],
   "source": [
    "y.head()"
   ]
  },
  {
   "cell_type": "code",
   "execution_count": 25,
   "id": "a8f4f7ea",
   "metadata": {
    "scrolled": true
   },
   "outputs": [
    {
     "data": {
      "image/png": "[encoded data removed]",
      "text/plain": [
       "<Figure size 432x288 with 1 Axes>"
      ]
     },
     "metadata": {
      "needs_background": "light"
     },
     "output_type": "display_data"
    }
   ],
   "source": [
    "plt.plot(y)\n",
    "plt.show()"
   ]
  },
  {
   "cell_type": "markdown",
   "id": "11359909",
   "metadata": {},
   "source": [
    "### 3b. Scaling the data"
   ]
  },
  {
   "cell_type": "code",
   "execution_count": 26,
   "id": "6fb5b4af",
   "metadata": {},
   "outputs": [],
   "source": [
    "# Scaling the data since LSTM is sensitive to the scale of the data\n",
    "scaler=MinMaxScaler(feature_range=(0,1))\n",
    "y=scaler.fit_transform(np.array(y).reshape(-1,1))"
   ]
  },
  {
   "cell_type": "code",
   "execution_count": 27,
   "id": "d634c143",
   "metadata": {},
   "outputs": [
    {
     "data": {
      "text/plain": [
       "array([[0.11787259],\n",
       "       [0.09872443],\n",
       "       [0.089768  ],\n",
       "       ...,\n",
       "       [0.99813202],\n",
       "       [1.        ],\n",
       "       [0.98754509]])"
      ]
     },
     "execution_count": 27,
     "metadata": {},
     "output_type": "execute_result"
    }
   ],
   "source": [
    "y"
   ]
  },
  {
   "cell_type": "markdown",
   "id": "3cb34407",
   "metadata": {},
   "source": [
    "### 3c. Train, Test split"
   ]
  },
  {
   "cell_type": "code",
   "execution_count": 28,
   "id": "ddcd9e4f",
   "metadata": {},
   "outputs": [],
   "source": [
    "# train , test split\n",
    "training_size=int(len(y)*0.65)\n",
    "test_size=len(y)-training_size\n",
    "train_data,test_data=y[0:training_size,:],y[training_size:len(y),:1]"
   ]
  },
  {
   "cell_type": "code",
   "execution_count": 29,
   "id": "b44a68e8",
   "metadata": {},
   "outputs": [
    {
     "data": {
      "text/plain": [
       "(846, 456)"
      ]
     },
     "execution_count": 29,
     "metadata": {},
     "output_type": "execute_result"
    }
   ],
   "source": [
    "training_size,test_size"
   ]
  },
  {
   "cell_type": "code",
   "execution_count": 30,
   "id": "fb6d8e68",
   "metadata": {},
   "outputs": [],
   "source": [
    "def create_dataset(dataset, time_step=1):\n",
    "    dataX, dataY = [], []\n",
    "    for i in range(len(dataset)-time_step-1):\n",
    "        a = dataset[i:(i+time_step), 0]   \n",
    "        dataX.append(a)\n",
    "        dataY.append(dataset[i + time_step, 0])\n",
    "    return np.array(dataX), np.array(dataY)"
   ]
  },
  {
   "cell_type": "code",
   "execution_count": 31,
   "id": "5f67fa0d",
   "metadata": {},
   "outputs": [],
   "source": [
    "time_step = 100\n",
    "X_train, y_train = create_dataset(train_data, time_step)\n",
    "X_test, y_test = create_dataset(test_data, time_step)"
   ]
  },
  {
   "cell_type": "code",
   "execution_count": 32,
   "id": "69711fd4",
   "metadata": {},
   "outputs": [
    {
     "data": {
      "text/plain": [
       "((745, 100), (745,))"
      ]
     },
     "execution_count": 32,
     "metadata": {},
     "output_type": "execute_result"
    }
   ],
   "source": [
    "X_train.shape, y_train.shape"
   ]
  },
  {
   "cell_type": "code",
   "execution_count": 33,
   "id": "f1e3c201",
   "metadata": {},
   "outputs": [
    {
     "data": {
      "text/plain": [
       "((355, 100), (355,))"
      ]
     },
     "execution_count": 33,
     "metadata": {},
     "output_type": "execute_result"
    }
   ],
   "source": [
    "X_test.shape, y_test.shape"
   ]
  },
  {
   "cell_type": "code",
   "execution_count": 34,
   "id": "63dac799",
   "metadata": {},
   "outputs": [],
   "source": [
    "X_train = X_train.reshape(X_train.shape[0],X_train.shape[1] , 1)\n",
    "X_test = X_test.reshape(X_test.shape[0],X_test.shape[1] , 1)"
   ]
  },
  {
   "cell_type": "markdown",
   "id": "399f1884",
   "metadata": {},
   "source": [
    "### 3d. The LSTM model"
   ]
  },
  {
   "cell_type": "code",
   "execution_count": 35,
   "id": "2887cd68",
   "metadata": {},
   "outputs": [],
   "source": [
    "model=Sequential()\n",
    "model.add(LSTM(50,return_sequences=True,input_shape=(100,1)))\n",
    "model.add(LSTM(50,return_sequences=True))\n",
    "model.add(LSTM(50))\n",
    "model.add(Dense(1))\n",
    "model.compile(loss='mean_squared_error',optimizer='adam')"
   ]
  },
  {
   "cell_type": "code",
   "execution_count": 36,
   "id": "f5d4e3ea",
   "metadata": {},
   "outputs": [
    {
     "name": "stdout",
     "output_type": "stream",
     "text": [
      "Epoch 1/100\n",
      "12/12 [==============================] - 7s 243ms/step - loss: 0.0385 - val_loss: 0.0458\n",
      "Epoch 2/100\n",
      "12/12 [==============================] - 2s 153ms/step - loss: 0.0062 - val_loss: 0.0048\n",
      "Epoch 3/100\n",
      "12/12 [==============================] - 2s 152ms/step - loss: 0.0016 - val_loss: 0.0031\n",
      "Epoch 4/100\n",
      "12/12 [==============================] - 2s 151ms/step - loss: 0.0011 - val_loss: 0.0025\n",
      "Epoch 5/100\n",
      "12/12 [==============================] - 2s 153ms/step - loss: 7.9780e-04 - val_loss: 0.0024\n",
      "Epoch 6/100\n",
      "12/12 [==============================] - 2s 147ms/step - loss: 7.4323e-04 - val_loss: 0.0020\n",
      "Epoch 7/100\n",
      "12/12 [==============================] - 2s 142ms/step - loss: 7.3069e-04 - val_loss: 0.0022\n",
      "Epoch 8/100\n",
      "12/12 [==============================] - 2s 140ms/step - loss: 7.1223e-04 - val_loss: 0.0021\n",
      "Epoch 9/100\n",
      "12/12 [==============================] - 2s 142ms/step - loss: 7.1673e-04 - val_loss: 0.0019\n",
      "Epoch 10/100\n",
      "12/12 [==============================] - 2s 143ms/step - loss: 7.1373e-04 - val_loss: 0.0019\n",
      "Epoch 11/100\n",
      "12/12 [==============================] - 2s 143ms/step - loss: 6.9784e-04 - val_loss: 0.0019\n",
      "Epoch 12/100\n",
      "12/12 [==============================] - 2s 144ms/step - loss: 6.8693e-04 - val_loss: 0.0019\n",
      "Epoch 13/100\n",
      "12/12 [==============================] - 2s 145ms/step - loss: 6.8015e-04 - val_loss: 0.0021\n",
      "Epoch 14/100\n",
      "12/12 [==============================] - 2s 155ms/step - loss: 6.6928e-04 - val_loss: 0.0024\n",
      "Epoch 15/100\n",
      "12/12 [==============================] - 2s 145ms/step - loss: 6.5621e-04 - val_loss: 0.0031\n",
      "Epoch 16/100\n",
      "12/12 [==============================] - 2s 147ms/step - loss: 6.9208e-04 - val_loss: 0.0020\n",
      "Epoch 17/100\n",
      "12/12 [==============================] - 2s 146ms/step - loss: 6.3956e-04 - val_loss: 0.0018\n",
      "Epoch 18/100\n",
      "12/12 [==============================] - 2s 147ms/step - loss: 6.3928e-04 - val_loss: 0.0024\n",
      "Epoch 19/100\n",
      "12/12 [==============================] - 2s 147ms/step - loss: 6.6075e-04 - val_loss: 0.0017\n",
      "Epoch 20/100\n",
      "12/12 [==============================] - 2s 148ms/step - loss: 6.3785e-04 - val_loss: 0.0019\n",
      "Epoch 21/100\n",
      "12/12 [==============================] - 2s 164ms/step - loss: 6.0888e-04 - val_loss: 0.0027\n",
      "Epoch 22/100\n",
      "12/12 [==============================] - 2s 175ms/step - loss: 6.1402e-04 - val_loss: 0.0017\n",
      "Epoch 23/100\n",
      "12/12 [==============================] - 2s 161ms/step - loss: 6.4365e-04 - val_loss: 0.0017\n",
      "Epoch 24/100\n",
      "12/12 [==============================] - 2s 155ms/step - loss: 6.0110e-04 - val_loss: 0.0019\n",
      "Epoch 25/100\n",
      "12/12 [==============================] - 2s 152ms/step - loss: 5.7234e-04 - val_loss: 0.0019\n",
      "Epoch 26/100\n",
      "12/12 [==============================] - 2s 150ms/step - loss: 5.7319e-04 - val_loss: 0.0024\n",
      "Epoch 27/100\n",
      "12/12 [==============================] - 2s 150ms/step - loss: 5.8614e-04 - val_loss: 0.0015\n",
      "Epoch 28/100\n",
      "12/12 [==============================] - 2s 167ms/step - loss: 6.1393e-04 - val_loss: 0.0024\n",
      "Epoch 29/100\n",
      "12/12 [==============================] - 2s 154ms/step - loss: 6.8458e-04 - val_loss: 0.0015\n",
      "Epoch 30/100\n",
      "12/12 [==============================] - 2s 162ms/step - loss: 6.1332e-04 - val_loss: 0.0015\n",
      "Epoch 31/100\n",
      "12/12 [==============================] - 2s 158ms/step - loss: 5.9206e-04 - val_loss: 0.0043\n",
      "Epoch 32/100\n",
      "12/12 [==============================] - 2s 153ms/step - loss: 6.5682e-04 - val_loss: 0.0014\n",
      "Epoch 33/100\n",
      "12/12 [==============================] - 2s 152ms/step - loss: 5.4527e-04 - val_loss: 0.0023\n",
      "Epoch 34/100\n",
      "12/12 [==============================] - 2s 149ms/step - loss: 5.8626e-04 - val_loss: 0.0017\n",
      "Epoch 35/100\n",
      "12/12 [==============================] - 2s 149ms/step - loss: 5.1930e-04 - val_loss: 0.0014\n",
      "Epoch 36/100\n",
      "12/12 [==============================] - 2s 147ms/step - loss: 5.3886e-04 - val_loss: 0.0016\n",
      "Epoch 37/100\n",
      "12/12 [==============================] - 2s 149ms/step - loss: 5.2650e-04 - val_loss: 0.0017\n",
      "Epoch 38/100\n",
      "12/12 [==============================] - 2s 150ms/step - loss: 4.9881e-04 - val_loss: 0.0016\n",
      "Epoch 39/100\n",
      "12/12 [==============================] - 2s 148ms/step - loss: 4.9563e-04 - val_loss: 0.0015\n",
      "Epoch 40/100\n",
      "12/12 [==============================] - 2s 155ms/step - loss: 4.9327e-04 - val_loss: 0.0025\n",
      "Epoch 41/100\n",
      "12/12 [==============================] - 2s 152ms/step - loss: 5.3851e-04 - val_loss: 0.0014\n",
      "Epoch 42/100\n",
      "12/12 [==============================] - 2s 148ms/step - loss: 4.8312e-04 - val_loss: 0.0015\n",
      "Epoch 43/100\n",
      "12/12 [==============================] - 2s 149ms/step - loss: 4.6791e-04 - val_loss: 0.0019\n",
      "Epoch 44/100\n",
      "12/12 [==============================] - 2s 148ms/step - loss: 5.4513e-04 - val_loss: 0.0041\n",
      "Epoch 45/100\n",
      "12/12 [==============================] - 2s 149ms/step - loss: 5.7776e-04 - val_loss: 0.0015\n",
      "Epoch 46/100\n",
      "12/12 [==============================] - 2s 148ms/step - loss: 5.7067e-04 - val_loss: 0.0031\n",
      "Epoch 47/100\n",
      "12/12 [==============================] - 2s 150ms/step - loss: 5.7605e-04 - val_loss: 0.0013\n",
      "Epoch 48/100\n",
      "12/12 [==============================] - 2s 147ms/step - loss: 5.2360e-04 - val_loss: 0.0031\n",
      "Epoch 49/100\n",
      "12/12 [==============================] - 2s 157ms/step - loss: 4.7002e-04 - val_loss: 0.0012\n",
      "Epoch 50/100\n",
      "12/12 [==============================] - 2s 153ms/step - loss: 4.9188e-04 - val_loss: 0.0021\n",
      "Epoch 51/100\n",
      "12/12 [==============================] - 2s 149ms/step - loss: 5.0073e-04 - val_loss: 0.0011\n",
      "Epoch 52/100\n",
      "12/12 [==============================] - 2s 150ms/step - loss: 4.6577e-04 - val_loss: 0.0011\n",
      "Epoch 53/100\n",
      "12/12 [==============================] - 2s 147ms/step - loss: 4.6817e-04 - val_loss: 0.0016\n",
      "Epoch 54/100\n",
      "12/12 [==============================] - 2s 148ms/step - loss: 4.2449e-04 - val_loss: 0.0015\n",
      "Epoch 55/100\n",
      "12/12 [==============================] - 2s 149ms/step - loss: 4.2813e-04 - val_loss: 0.0018\n",
      "Epoch 56/100\n",
      "12/12 [==============================] - 2s 148ms/step - loss: 4.4360e-04 - val_loss: 0.0011\n",
      "Epoch 57/100\n",
      "12/12 [==============================] - 2s 147ms/step - loss: 4.5422e-04 - val_loss: 0.0018\n",
      "Epoch 58/100\n",
      "12/12 [==============================] - 2s 158ms/step - loss: 4.3369e-04 - val_loss: 0.0020\n",
      "Epoch 59/100\n",
      "12/12 [==============================] - 2s 152ms/step - loss: 4.2061e-04 - val_loss: 0.0017\n",
      "Epoch 60/100\n",
      "12/12 [==============================] - 2s 149ms/step - loss: 4.1549e-04 - val_loss: 0.0012\n",
      "Epoch 61/100\n",
      "12/12 [==============================] - 2s 147ms/step - loss: 4.1758e-04 - val_loss: 0.0011\n",
      "Epoch 62/100\n",
      "12/12 [==============================] - 2s 149ms/step - loss: 4.0591e-04 - val_loss: 0.0017\n",
      "Epoch 63/100\n",
      "12/12 [==============================] - 2s 147ms/step - loss: 4.1924e-04 - val_loss: 0.0017\n",
      "Epoch 64/100\n",
      "12/12 [==============================] - 2s 149ms/step - loss: 4.1218e-04 - val_loss: 9.7790e-04\n",
      "Epoch 65/100\n",
      "12/12 [==============================] - 2s 149ms/step - loss: 3.8994e-04 - val_loss: 9.8615e-04\n",
      "Epoch 66/100\n",
      "12/12 [==============================] - 2s 148ms/step - loss: 3.9113e-04 - val_loss: 0.0013\n",
      "Epoch 67/100\n",
      "12/12 [==============================] - 2s 159ms/step - loss: 3.9268e-04 - val_loss: 0.0014\n",
      "Epoch 68/100\n",
      "12/12 [==============================] - 2s 152ms/step - loss: 3.7606e-04 - val_loss: 0.0011\n",
      "Epoch 69/100\n",
      "12/12 [==============================] - 2s 149ms/step - loss: 3.9420e-04 - val_loss: 9.4813e-04\n",
      "Epoch 70/100\n",
      "12/12 [==============================] - 2s 150ms/step - loss: 3.8237e-04 - val_loss: 0.0014\n",
      "Epoch 71/100\n",
      "12/12 [==============================] - 2s 156ms/step - loss: 3.9037e-04 - val_loss: 0.0013\n",
      "Epoch 72/100\n",
      "12/12 [==============================] - 2s 148ms/step - loss: 3.6035e-04 - val_loss: 0.0014\n",
      "Epoch 73/100\n",
      "12/12 [==============================] - 2s 148ms/step - loss: 4.5612e-04 - val_loss: 0.0020\n",
      "Epoch 74/100\n",
      "12/12 [==============================] - 2s 147ms/step - loss: 4.1266e-04 - val_loss: 9.9174e-04\n",
      "Epoch 75/100\n",
      "12/12 [==============================] - 2s 147ms/step - loss: 4.0857e-04 - val_loss: 0.0015\n",
      "Epoch 76/100\n",
      "12/12 [==============================] - 2s 158ms/step - loss: 3.5174e-04 - val_loss: 0.0016\n",
      "Epoch 77/100\n",
      "12/12 [==============================] - 2s 153ms/step - loss: 3.6686e-04 - val_loss: 8.8260e-04\n",
      "Epoch 78/100\n",
      "12/12 [==============================] - 2s 147ms/step - loss: 3.6114e-04 - val_loss: 0.0015\n",
      "Epoch 79/100\n",
      "12/12 [==============================] - 2s 150ms/step - loss: 3.3672e-04 - val_loss: 0.0011\n",
      "Epoch 80/100\n",
      "12/12 [==============================] - 2s 150ms/step - loss: 3.2226e-04 - val_loss: 0.0012\n",
      "Epoch 81/100\n",
      "12/12 [==============================] - 2s 150ms/step - loss: 3.2381e-04 - val_loss: 0.0016\n",
      "Epoch 82/100\n",
      "12/12 [==============================] - 2s 148ms/step - loss: 3.5754e-04 - val_loss: 0.0010\n",
      "Epoch 83/100\n",
      "12/12 [==============================] - 2s 148ms/step - loss: 3.4866e-04 - val_loss: 9.6672e-04\n",
      "Epoch 84/100\n",
      "12/12 [==============================] - 2s 149ms/step - loss: 3.1303e-04 - val_loss: 0.0016\n",
      "Epoch 85/100\n",
      "12/12 [==============================] - 2s 157ms/step - loss: 3.5974e-04 - val_loss: 7.9494e-04\n",
      "Epoch 86/100\n",
      "12/12 [==============================] - 2s 151ms/step - loss: 3.4852e-04 - val_loss: 7.8132e-04\n",
      "Epoch 87/100\n",
      "12/12 [==============================] - 2s 162ms/step - loss: 3.3452e-04 - val_loss: 0.0014\n",
      "Epoch 88/100\n",
      "12/12 [==============================] - 2s 155ms/step - loss: 3.2165e-04 - val_loss: 0.0019\n",
      "Epoch 89/100\n",
      "12/12 [==============================] - 2s 179ms/step - loss: 3.2951e-04 - val_loss: 8.1661e-04\n",
      "Epoch 90/100\n",
      "12/12 [==============================] - 2s 159ms/step - loss: 3.1682e-04 - val_loss: 8.4386e-04\n",
      "Epoch 91/100\n",
      "12/12 [==============================] - 2s 149ms/step - loss: 3.3320e-04 - val_loss: 0.0021\n",
      "Epoch 92/100\n",
      "12/12 [==============================] - 2s 156ms/step - loss: 3.3492e-04 - val_loss: 0.0011\n",
      "Epoch 93/100\n",
      "12/12 [==============================] - 2s 149ms/step - loss: 3.1451e-04 - val_loss: 9.5761e-04\n",
      "Epoch 94/100\n",
      "12/12 [==============================] - 2s 161ms/step - loss: 3.3359e-04 - val_loss: 7.5174e-04\n",
      "Epoch 95/100\n",
      "12/12 [==============================] - 2s 150ms/step - loss: 3.2050e-04 - val_loss: 9.5277e-04\n",
      "Epoch 96/100\n",
      "12/12 [==============================] - 2s 148ms/step - loss: 2.8953e-04 - val_loss: 9.9425e-04\n",
      "Epoch 97/100\n",
      "12/12 [==============================] - 2s 149ms/step - loss: 2.8224e-04 - val_loss: 0.0012\n",
      "Epoch 98/100\n",
      "12/12 [==============================] - 2s 151ms/step - loss: 2.7989e-04 - val_loss: 0.0013\n",
      "Epoch 99/100\n",
      "12/12 [==============================] - 2s 155ms/step - loss: 2.6883e-04 - val_loss: 0.0011\n",
      "Epoch 100/100\n",
      "12/12 [==============================] - 2s 163ms/step - loss: 2.6666e-04 - val_loss: 7.9867e-04\n"
     ]
    },
    {
     "data": {
      "text/plain": [
       "<keras.callbacks.History at 0x1f1d1415a30>"
      ]
     },
     "execution_count": 36,
     "metadata": {},
     "output_type": "execute_result"
    }
   ],
   "source": [
    "model.fit(X_train,y_train,validation_data=(X_test,y_test),epochs=100,batch_size=64,verbose=1)"
   ]
  },
  {
   "cell_type": "code",
   "execution_count": 37,
   "id": "7470d21a",
   "metadata": {},
   "outputs": [],
   "source": [
    "train_predict = model.predict(X_train)\n",
    "test_predict = model.predict(X_test)"
   ]
  },
  {
   "cell_type": "code",
   "execution_count": 38,
   "id": "6f635464",
   "metadata": {},
   "outputs": [],
   "source": [
    "train_predict=scaler.inverse_transform(train_predict)\n",
    "test_predict=scaler.inverse_transform(test_predict)"
   ]
  },
  {
   "cell_type": "code",
   "execution_count": 39,
   "id": "1b4e7348",
   "metadata": {},
   "outputs": [
    {
     "data": {
      "text/plain": [
       "180.93527134295834"
      ]
     },
     "execution_count": 39,
     "metadata": {},
     "output_type": "execute_result"
    }
   ],
   "source": [
    "np.sqrt(mean_squared_error(y_train, train_predict))"
   ]
  },
  {
   "cell_type": "code",
   "execution_count": 40,
   "id": "e06d527e",
   "metadata": {},
   "outputs": [
    {
     "data": {
      "text/plain": [
       "246.38021601166346"
      ]
     },
     "execution_count": 40,
     "metadata": {},
     "output_type": "execute_result"
    }
   ],
   "source": [
    "np.sqrt(mean_squared_error(y_test,test_predict))"
   ]
  },
  {
   "cell_type": "code",
   "execution_count": 41,
   "id": "a122e4e8",
   "metadata": {},
   "outputs": [
    {
     "data": {
      "image/png": "[encoded data removed]",
      "text/plain": [
       "<Figure size 432x288 with 1 Axes>"
      ]
     },
     "metadata": {
      "needs_background": "light"
     },
     "output_type": "display_data"
    }
   ],
   "source": [
    "# Plotting \n",
    "look_back=100\n",
    "trainPredictPlot = np.empty_like(y)\n",
    "trainPredictPlot[:, :] = np.nan\n",
    "trainPredictPlot[look_back:len(train_predict)+look_back, :] = train_predict\n",
    "# shift test predictions for plotting\n",
    "testPredictPlot = np.empty_like(y)\n",
    "testPredictPlot[:, :] = np.nan\n",
    "testPredictPlot[len(train_predict)+(look_back*2)+1:len(y)-1, :] = test_predict\n",
    "# plot\n",
    "plt.plot(scaler.inverse_transform(y))\n",
    "plt.plot(trainPredictPlot)\n",
    "plt.plot(testPredictPlot)\n",
    "plt.show()"
   ]
  },
  {
   "cell_type": "code",
   "execution_count": 42,
   "id": "2253a479",
   "metadata": {},
   "outputs": [
    {
     "data": {
      "text/plain": [
       "456"
      ]
     },
     "execution_count": 42,
     "metadata": {},
     "output_type": "execute_result"
    }
   ],
   "source": [
    "len(test_data)"
   ]
  },
  {
   "cell_type": "code",
   "execution_count": 43,
   "id": "87d10edd",
   "metadata": {},
   "outputs": [
    {
     "data": {
      "text/plain": [
       "(1, 100)"
      ]
     },
     "execution_count": 43,
     "metadata": {},
     "output_type": "execute_result"
    }
   ],
   "source": [
    "x_input=test_data[356:].reshape(1,-1)\n",
    "x_input.shape"
   ]
  },
  {
   "cell_type": "code",
   "execution_count": 44,
   "id": "625cad07",
   "metadata": {},
   "outputs": [],
   "source": [
    "temp_input=list(x_input)\n",
    "temp_input=temp_input[0].tolist()"
   ]
  },
  {
   "cell_type": "code",
   "execution_count": 45,
   "id": "07d7ab91",
   "metadata": {
    "scrolled": false
   },
   "outputs": [],
   "source": [
    "_ = temp_input"
   ]
  },
  {
   "cell_type": "code",
   "execution_count": 46,
   "id": "2e769f04",
   "metadata": {},
   "outputs": [
    {
     "name": "stdout",
     "output_type": "stream",
     "text": [
      "[0.9511246]\n",
      "101\n",
      "1 day input [0.76523263 0.77399616 0.79592248 0.81280976 0.80148282 0.81754682\n",
      " 0.82118498 0.77814263 0.79743275 0.78850824 0.80628864 0.83038338\n",
      " 0.83196229 0.83196229 0.81335905 0.83058917 0.85633255 0.86072601\n",
      " 0.8640211  0.86807139 0.88386096 0.88818535 0.89010776 0.88029111\n",
      " 0.88296806 0.8857825  0.8820074  0.87152737 0.87228387 0.86271902\n",
      " 0.87379754 0.86898135 0.86285651 0.87104539 0.84572246 0.81283009\n",
      " 0.82170728 0.84682322 0.84049238 0.81874868 0.83147802 0.84235009\n",
      " 0.864027   0.8619623  0.87820192 0.87723864 0.8793027  0.86162722\n",
      " 0.86555226 0.86286635 0.8657586  0.86396821 0.87512345 0.88345485\n",
      " 0.88386796 0.88985902 0.88118292 0.90087481 0.90920708 0.91099725\n",
      " 0.91092796 0.92642135 0.92655862 0.92717852 0.9280736  0.93330641\n",
      " 0.9345462  0.94988811 0.9521644  0.94567957 0.93788522 0.93457395\n",
      " 0.94243737 0.95582038 0.95968334 0.96347811 0.96347811 0.95685535\n",
      " 0.93788522 0.91932886 0.92995164 0.93209045 0.95513075 0.94864614\n",
      " 0.94657706 0.94836986 0.96375396 0.96485757 0.97148033 0.97375574\n",
      " 0.97244492 0.98106856 0.98706071 0.99308041 0.99086663 0.99086663\n",
      " 0.99813202 1.         0.98754509 0.95112461]\n",
      "1 day output [[0.94321746]]\n",
      "2 day input [0.77399616 0.79592248 0.81280976 0.80148282 0.81754682 0.82118498\n",
      " 0.77814263 0.79743275 0.78850824 0.80628864 0.83038338 0.83196229\n",
      " 0.83196229 0.81335905 0.83058917 0.85633255 0.86072601 0.8640211\n",
      " 0.86807139 0.88386096 0.88818535 0.89010776 0.88029111 0.88296806\n",
      " 0.8857825  0.8820074  0.87152737 0.87228387 0.86271902 0.87379754\n",
      " 0.86898135 0.86285651 0.87104539 0.84572246 0.81283009 0.82170728\n",
      " 0.84682322 0.84049238 0.81874868 0.83147802 0.84235009 0.864027\n",
      " 0.8619623  0.87820192 0.87723864 0.8793027  0.86162722 0.86555226\n",
      " 0.86286635 0.8657586  0.86396821 0.87512345 0.88345485 0.88386796\n",
      " 0.88985902 0.88118292 0.90087481 0.90920708 0.91099725 0.91092796\n",
      " 0.92642135 0.92655862 0.92717852 0.9280736  0.93330641 0.9345462\n",
      " 0.94988811 0.9521644  0.94567957 0.93788522 0.93457395 0.94243737\n",
      " 0.95582038 0.95968334 0.96347811 0.96347811 0.95685535 0.93788522\n",
      " 0.91932886 0.92995164 0.93209045 0.95513075 0.94864614 0.94657706\n",
      " 0.94836986 0.96375396 0.96485757 0.97148033 0.97375574 0.97244492\n",
      " 0.98106856 0.98706071 0.99308041 0.99086663 0.99086663 0.99813202\n",
      " 1.         0.98754509 0.95112461 0.94321746]\n",
      "2 day output [[0.93060195]]\n",
      "3 day input [0.79592248 0.81280976 0.80148282 0.81754682 0.82118498 0.77814263\n",
      " 0.79743275 0.78850824 0.80628864 0.83038338 0.83196229 0.83196229\n",
      " 0.81335905 0.83058917 0.85633255 0.86072601 0.8640211  0.86807139\n",
      " 0.88386096 0.88818535 0.89010776 0.88029111 0.88296806 0.8857825\n",
      " 0.8820074  0.87152737 0.87228387 0.86271902 0.87379754 0.86898135\n",
      " 0.86285651 0.87104539 0.84572246 0.81283009 0.82170728 0.84682322\n",
      " 0.84049238 0.81874868 0.83147802 0.84235009 0.864027   0.8619623\n",
      " 0.87820192 0.87723864 0.8793027  0.86162722 0.86555226 0.86286635\n",
      " 0.8657586  0.86396821 0.87512345 0.88345485 0.88386796 0.88985902\n",
      " 0.88118292 0.90087481 0.90920708 0.91099725 0.91092796 0.92642135\n",
      " 0.92655862 0.92717852 0.9280736  0.93330641 0.9345462  0.94988811\n",
      " 0.9521644  0.94567957 0.93788522 0.93457395 0.94243737 0.95582038\n",
      " 0.95968334 0.96347811 0.96347811 0.95685535 0.93788522 0.91932886\n",
      " 0.92995164 0.93209045 0.95513075 0.94864614 0.94657706 0.94836986\n",
      " 0.96375396 0.96485757 0.97148033 0.97375574 0.97244492 0.98106856\n",
      " 0.98706071 0.99308041 0.99086663 0.99086663 0.99813202 1.\n",
      " 0.98754509 0.95112461 0.94321746 0.93060195]\n",
      "3 day output [[0.9159087]]\n",
      "4 day input [0.81280976 0.80148282 0.81754682 0.82118498 0.77814263 0.79743275\n",
      " 0.78850824 0.80628864 0.83038338 0.83196229 0.83196229 0.81335905\n",
      " 0.83058917 0.85633255 0.86072601 0.8640211  0.86807139 0.88386096\n",
      " 0.88818535 0.89010776 0.88029111 0.88296806 0.8857825  0.8820074\n",
      " 0.87152737 0.87228387 0.86271902 0.87379754 0.86898135 0.86285651\n",
      " 0.87104539 0.84572246 0.81283009 0.82170728 0.84682322 0.84049238\n",
      " 0.81874868 0.83147802 0.84235009 0.864027   0.8619623  0.87820192\n",
      " 0.87723864 0.8793027  0.86162722 0.86555226 0.86286635 0.8657586\n",
      " 0.86396821 0.87512345 0.88345485 0.88386796 0.88985902 0.88118292\n",
      " 0.90087481 0.90920708 0.91099725 0.91092796 0.92642135 0.92655862\n",
      " 0.92717852 0.9280736  0.93330641 0.9345462  0.94988811 0.9521644\n",
      " 0.94567957 0.93788522 0.93457395 0.94243737 0.95582038 0.95968334\n",
      " 0.96347811 0.96347811 0.95685535 0.93788522 0.91932886 0.92995164\n",
      " 0.93209045 0.95513075 0.94864614 0.94657706 0.94836986 0.96375396\n",
      " 0.96485757 0.97148033 0.97375574 0.97244492 0.98106856 0.98706071\n",
      " 0.99308041 0.99086663 0.99086663 0.99813202 1.         0.98754509\n",
      " 0.95112461 0.94321746 0.93060195 0.91590869]\n",
      "4 day output [[0.9009157]]\n",
      "5 day input [0.80148282 0.81754682 0.82118498 0.77814263 0.79743275 0.78850824\n",
      " 0.80628864 0.83038338 0.83196229 0.83196229 0.81335905 0.83058917\n",
      " 0.85633255 0.86072601 0.8640211  0.86807139 0.88386096 0.88818535\n",
      " 0.89010776 0.88029111 0.88296806 0.8857825  0.8820074  0.87152737\n",
      " 0.87228387 0.86271902 0.87379754 0.86898135 0.86285651 0.87104539\n",
      " 0.84572246 0.81283009 0.82170728 0.84682322 0.84049238 0.81874868\n",
      " 0.83147802 0.84235009 0.864027   0.8619623  0.87820192 0.87723864\n",
      " 0.8793027  0.86162722 0.86555226 0.86286635 0.8657586  0.86396821\n",
      " 0.87512345 0.88345485 0.88386796 0.88985902 0.88118292 0.90087481\n",
      " 0.90920708 0.91099725 0.91092796 0.92642135 0.92655862 0.92717852\n",
      " 0.9280736  0.93330641 0.9345462  0.94988811 0.9521644  0.94567957\n",
      " 0.93788522 0.93457395 0.94243737 0.95582038 0.95968334 0.96347811\n",
      " 0.96347811 0.95685535 0.93788522 0.91932886 0.92995164 0.93209045\n",
      " 0.95513075 0.94864614 0.94657706 0.94836986 0.96375396 0.96485757\n",
      " 0.97148033 0.97375574 0.97244492 0.98106856 0.98706071 0.99308041\n",
      " 0.99086663 0.99086663 0.99813202 1.         0.98754509 0.95112461\n",
      " 0.94321746 0.93060195 0.91590869 0.90091568]\n",
      "5 day output [[0.88664633]]\n",
      "6 day input [0.81754682 0.82118498 0.77814263 0.79743275 0.78850824 0.80628864\n",
      " 0.83038338 0.83196229 0.83196229 0.81335905 0.83058917 0.85633255\n",
      " 0.86072601 0.8640211  0.86807139 0.88386096 0.88818535 0.89010776\n",
      " 0.88029111 0.88296806 0.8857825  0.8820074  0.87152737 0.87228387\n",
      " 0.86271902 0.87379754 0.86898135 0.86285651 0.87104539 0.84572246\n",
      " 0.81283009 0.82170728 0.84682322 0.84049238 0.81874868 0.83147802\n",
      " 0.84235009 0.864027   0.8619623  0.87820192 0.87723864 0.8793027\n",
      " 0.86162722 0.86555226 0.86286635 0.8657586  0.86396821 0.87512345\n",
      " 0.88345485 0.88386796 0.88985902 0.88118292 0.90087481 0.90920708\n",
      " 0.91099725 0.91092796 0.92642135 0.92655862 0.92717852 0.9280736\n",
      " 0.93330641 0.9345462  0.94988811 0.9521644  0.94567957 0.93788522\n",
      " 0.93457395 0.94243737 0.95582038 0.95968334 0.96347811 0.96347811\n",
      " 0.95685535 0.93788522 0.91932886 0.92995164 0.93209045 0.95513075\n",
      " 0.94864614 0.94657706 0.94836986 0.96375396 0.96485757 0.97148033\n",
      " 0.97375574 0.97244492 0.98106856 0.98706071 0.99308041 0.99086663\n",
      " 0.99086663 0.99813202 1.         0.98754509 0.95112461 0.94321746\n",
      " 0.93060195 0.91590869 0.90091568 0.88664633]\n",
      "6 day output [[0.8736628]]\n",
      "7 day input [0.82118498 0.77814263 0.79743275 0.78850824 0.80628864 0.83038338\n",
      " 0.83196229 0.83196229 0.81335905 0.83058917 0.85633255 0.86072601\n",
      " 0.8640211  0.86807139 0.88386096 0.88818535 0.89010776 0.88029111\n",
      " 0.88296806 0.8857825  0.8820074  0.87152737 0.87228387 0.86271902\n",
      " 0.87379754 0.86898135 0.86285651 0.87104539 0.84572246 0.81283009\n",
      " 0.82170728 0.84682322 0.84049238 0.81874868 0.83147802 0.84235009\n",
      " 0.864027   0.8619623  0.87820192 0.87723864 0.8793027  0.86162722\n",
      " 0.86555226 0.86286635 0.8657586  0.86396821 0.87512345 0.88345485\n",
      " 0.88386796 0.88985902 0.88118292 0.90087481 0.90920708 0.91099725\n",
      " 0.91092796 0.92642135 0.92655862 0.92717852 0.9280736  0.93330641\n",
      " 0.9345462  0.94988811 0.9521644  0.94567957 0.93788522 0.93457395\n",
      " 0.94243737 0.95582038 0.95968334 0.96347811 0.96347811 0.95685535\n",
      " 0.93788522 0.91932886 0.92995164 0.93209045 0.95513075 0.94864614\n",
      " 0.94657706 0.94836986 0.96375396 0.96485757 0.97148033 0.97375574\n",
      " 0.97244492 0.98106856 0.98706071 0.99308041 0.99086663 0.99086663\n",
      " 0.99813202 1.         0.98754509 0.95112461 0.94321746 0.93060195\n",
      " 0.91590869 0.90091568 0.88664633 0.87366283]\n",
      "7 day output [[0.86227095]]\n",
      "8 day input [0.77814263 0.79743275 0.78850824 0.80628864 0.83038338 0.83196229\n",
      " 0.83196229 0.81335905 0.83058917 0.85633255 0.86072601 0.8640211\n",
      " 0.86807139 0.88386096 0.88818535 0.89010776 0.88029111 0.88296806\n",
      " 0.8857825  0.8820074  0.87152737 0.87228387 0.86271902 0.87379754\n",
      " 0.86898135 0.86285651 0.87104539 0.84572246 0.81283009 0.82170728\n",
      " 0.84682322 0.84049238 0.81874868 0.83147802 0.84235009 0.864027\n",
      " 0.8619623  0.87820192 0.87723864 0.8793027  0.86162722 0.86555226\n",
      " 0.86286635 0.8657586  0.86396821 0.87512345 0.88345485 0.88386796\n",
      " 0.88985902 0.88118292 0.90087481 0.90920708 0.91099725 0.91092796\n",
      " 0.92642135 0.92655862 0.92717852 0.9280736  0.93330641 0.9345462\n",
      " 0.94988811 0.9521644  0.94567957 0.93788522 0.93457395 0.94243737\n",
      " 0.95582038 0.95968334 0.96347811 0.96347811 0.95685535 0.93788522\n",
      " 0.91932886 0.92995164 0.93209045 0.95513075 0.94864614 0.94657706\n",
      " 0.94836986 0.96375396 0.96485757 0.97148033 0.97375574 0.97244492\n",
      " 0.98106856 0.98706071 0.99308041 0.99086663 0.99086663 0.99813202\n",
      " 1.         0.98754509 0.95112461 0.94321746 0.93060195 0.91590869\n",
      " 0.90091568 0.88664633 0.87366283 0.86227095]\n",
      "8 day output [[0.8526231]]\n",
      "9 day input [0.79743275 0.78850824 0.80628864 0.83038338 0.83196229 0.83196229\n",
      " 0.81335905 0.83058917 0.85633255 0.86072601 0.8640211  0.86807139\n",
      " 0.88386096 0.88818535 0.89010776 0.88029111 0.88296806 0.8857825\n",
      " 0.8820074  0.87152737 0.87228387 0.86271902 0.87379754 0.86898135\n",
      " 0.86285651 0.87104539 0.84572246 0.81283009 0.82170728 0.84682322\n",
      " 0.84049238 0.81874868 0.83147802 0.84235009 0.864027   0.8619623\n",
      " 0.87820192 0.87723864 0.8793027  0.86162722 0.86555226 0.86286635\n",
      " 0.8657586  0.86396821 0.87512345 0.88345485 0.88386796 0.88985902\n",
      " 0.88118292 0.90087481 0.90920708 0.91099725 0.91092796 0.92642135\n",
      " 0.92655862 0.92717852 0.9280736  0.93330641 0.9345462  0.94988811\n",
      " 0.9521644  0.94567957 0.93788522 0.93457395 0.94243737 0.95582038\n",
      " 0.95968334 0.96347811 0.96347811 0.95685535 0.93788522 0.91932886\n",
      " 0.92995164 0.93209045 0.95513075 0.94864614 0.94657706 0.94836986\n",
      " 0.96375396 0.96485757 0.97148033 0.97375574 0.97244492 0.98106856\n",
      " 0.98706071 0.99308041 0.99086663 0.99086663 0.99813202 1.\n",
      " 0.98754509 0.95112461 0.94321746 0.93060195 0.91590869 0.90091568\n",
      " 0.88664633 0.87366283 0.86227095 0.85262311]\n",
      "9 day output [[0.84476435]]\n",
      "10 day input [0.78850824 0.80628864 0.83038338 0.83196229 0.83196229 0.81335905\n",
      " 0.83058917 0.85633255 0.86072601 0.8640211  0.86807139 0.88386096\n",
      " 0.88818535 0.89010776 0.88029111 0.88296806 0.8857825  0.8820074\n",
      " 0.87152737 0.87228387 0.86271902 0.87379754 0.86898135 0.86285651\n",
      " 0.87104539 0.84572246 0.81283009 0.82170728 0.84682322 0.84049238\n",
      " 0.81874868 0.83147802 0.84235009 0.864027   0.8619623  0.87820192\n",
      " 0.87723864 0.8793027  0.86162722 0.86555226 0.86286635 0.8657586\n",
      " 0.86396821 0.87512345 0.88345485 0.88386796 0.88985902 0.88118292\n",
      " 0.90087481 0.90920708 0.91099725 0.91092796 0.92642135 0.92655862\n",
      " 0.92717852 0.9280736  0.93330641 0.9345462  0.94988811 0.9521644\n",
      " 0.94567957 0.93788522 0.93457395 0.94243737 0.95582038 0.95968334\n",
      " 0.96347811 0.96347811 0.95685535 0.93788522 0.91932886 0.92995164\n",
      " 0.93209045 0.95513075 0.94864614 0.94657706 0.94836986 0.96375396\n",
      " 0.96485757 0.97148033 0.97375574 0.97244492 0.98106856 0.98706071\n",
      " 0.99308041 0.99086663 0.99086663 0.99813202 1.         0.98754509\n",
      " 0.95112461 0.94321746 0.93060195 0.91590869 0.90091568 0.88664633\n",
      " 0.87366283 0.86227095 0.85262311 0.84476435]\n"
     ]
    },
    {
     "name": "stdout",
     "output_type": "stream",
     "text": [
      "10 day output [[0.838652]]\n",
      "11 day input [0.80628864 0.83038338 0.83196229 0.83196229 0.81335905 0.83058917\n",
      " 0.85633255 0.86072601 0.8640211  0.86807139 0.88386096 0.88818535\n",
      " 0.89010776 0.88029111 0.88296806 0.8857825  0.8820074  0.87152737\n",
      " 0.87228387 0.86271902 0.87379754 0.86898135 0.86285651 0.87104539\n",
      " 0.84572246 0.81283009 0.82170728 0.84682322 0.84049238 0.81874868\n",
      " 0.83147802 0.84235009 0.864027   0.8619623  0.87820192 0.87723864\n",
      " 0.8793027  0.86162722 0.86555226 0.86286635 0.8657586  0.86396821\n",
      " 0.87512345 0.88345485 0.88386796 0.88985902 0.88118292 0.90087481\n",
      " 0.90920708 0.91099725 0.91092796 0.92642135 0.92655862 0.92717852\n",
      " 0.9280736  0.93330641 0.9345462  0.94988811 0.9521644  0.94567957\n",
      " 0.93788522 0.93457395 0.94243737 0.95582038 0.95968334 0.96347811\n",
      " 0.96347811 0.95685535 0.93788522 0.91932886 0.92995164 0.93209045\n",
      " 0.95513075 0.94864614 0.94657706 0.94836986 0.96375396 0.96485757\n",
      " 0.97148033 0.97375574 0.97244492 0.98106856 0.98706071 0.99308041\n",
      " 0.99086663 0.99086663 0.99813202 1.         0.98754509 0.95112461\n",
      " 0.94321746 0.93060195 0.91590869 0.90091568 0.88664633 0.87366283\n",
      " 0.86227095 0.85262311 0.84476435 0.83865201]\n",
      "11 day output [[0.83417207]]\n",
      "12 day input [0.83038338 0.83196229 0.83196229 0.81335905 0.83058917 0.85633255\n",
      " 0.86072601 0.8640211  0.86807139 0.88386096 0.88818535 0.89010776\n",
      " 0.88029111 0.88296806 0.8857825  0.8820074  0.87152737 0.87228387\n",
      " 0.86271902 0.87379754 0.86898135 0.86285651 0.87104539 0.84572246\n",
      " 0.81283009 0.82170728 0.84682322 0.84049238 0.81874868 0.83147802\n",
      " 0.84235009 0.864027   0.8619623  0.87820192 0.87723864 0.8793027\n",
      " 0.86162722 0.86555226 0.86286635 0.8657586  0.86396821 0.87512345\n",
      " 0.88345485 0.88386796 0.88985902 0.88118292 0.90087481 0.90920708\n",
      " 0.91099725 0.91092796 0.92642135 0.92655862 0.92717852 0.9280736\n",
      " 0.93330641 0.9345462  0.94988811 0.9521644  0.94567957 0.93788522\n",
      " 0.93457395 0.94243737 0.95582038 0.95968334 0.96347811 0.96347811\n",
      " 0.95685535 0.93788522 0.91932886 0.92995164 0.93209045 0.95513075\n",
      " 0.94864614 0.94657706 0.94836986 0.96375396 0.96485757 0.97148033\n",
      " 0.97375574 0.97244492 0.98106856 0.98706071 0.99308041 0.99086663\n",
      " 0.99086663 0.99813202 1.         0.98754509 0.95112461 0.94321746\n",
      " 0.93060195 0.91590869 0.90091568 0.88664633 0.87366283 0.86227095\n",
      " 0.85262311 0.84476435 0.83865201 0.83417207]\n",
      "12 day output [[0.8311529]]\n",
      "13 day input [0.83196229 0.83196229 0.81335905 0.83058917 0.85633255 0.86072601\n",
      " 0.8640211  0.86807139 0.88386096 0.88818535 0.89010776 0.88029111\n",
      " 0.88296806 0.8857825  0.8820074  0.87152737 0.87228387 0.86271902\n",
      " 0.87379754 0.86898135 0.86285651 0.87104539 0.84572246 0.81283009\n",
      " 0.82170728 0.84682322 0.84049238 0.81874868 0.83147802 0.84235009\n",
      " 0.864027   0.8619623  0.87820192 0.87723864 0.8793027  0.86162722\n",
      " 0.86555226 0.86286635 0.8657586  0.86396821 0.87512345 0.88345485\n",
      " 0.88386796 0.88985902 0.88118292 0.90087481 0.90920708 0.91099725\n",
      " 0.91092796 0.92642135 0.92655862 0.92717852 0.9280736  0.93330641\n",
      " 0.9345462  0.94988811 0.9521644  0.94567957 0.93788522 0.93457395\n",
      " 0.94243737 0.95582038 0.95968334 0.96347811 0.96347811 0.95685535\n",
      " 0.93788522 0.91932886 0.92995164 0.93209045 0.95513075 0.94864614\n",
      " 0.94657706 0.94836986 0.96375396 0.96485757 0.97148033 0.97375574\n",
      " 0.97244492 0.98106856 0.98706071 0.99308041 0.99086663 0.99086663\n",
      " 0.99813202 1.         0.98754509 0.95112461 0.94321746 0.93060195\n",
      " 0.91590869 0.90091568 0.88664633 0.87366283 0.86227095 0.85262311\n",
      " 0.84476435 0.83865201 0.83417207 0.83115292]\n",
      "13 day output [[0.8293815]]\n",
      "14 day input [0.83196229 0.81335905 0.83058917 0.85633255 0.86072601 0.8640211\n",
      " 0.86807139 0.88386096 0.88818535 0.89010776 0.88029111 0.88296806\n",
      " 0.8857825  0.8820074  0.87152737 0.87228387 0.86271902 0.87379754\n",
      " 0.86898135 0.86285651 0.87104539 0.84572246 0.81283009 0.82170728\n",
      " 0.84682322 0.84049238 0.81874868 0.83147802 0.84235009 0.864027\n",
      " 0.8619623  0.87820192 0.87723864 0.8793027  0.86162722 0.86555226\n",
      " 0.86286635 0.8657586  0.86396821 0.87512345 0.88345485 0.88386796\n",
      " 0.88985902 0.88118292 0.90087481 0.90920708 0.91099725 0.91092796\n",
      " 0.92642135 0.92655862 0.92717852 0.9280736  0.93330641 0.9345462\n",
      " 0.94988811 0.9521644  0.94567957 0.93788522 0.93457395 0.94243737\n",
      " 0.95582038 0.95968334 0.96347811 0.96347811 0.95685535 0.93788522\n",
      " 0.91932886 0.92995164 0.93209045 0.95513075 0.94864614 0.94657706\n",
      " 0.94836986 0.96375396 0.96485757 0.97148033 0.97375574 0.97244492\n",
      " 0.98106856 0.98706071 0.99308041 0.99086663 0.99086663 0.99813202\n",
      " 1.         0.98754509 0.95112461 0.94321746 0.93060195 0.91590869\n",
      " 0.90091568 0.88664633 0.87366283 0.86227095 0.85262311 0.84476435\n",
      " 0.83865201 0.83417207 0.83115292 0.82938153]\n",
      "14 day output [[0.8286185]]\n",
      "15 day input [0.81335905 0.83058917 0.85633255 0.86072601 0.8640211  0.86807139\n",
      " 0.88386096 0.88818535 0.89010776 0.88029111 0.88296806 0.8857825\n",
      " 0.8820074  0.87152737 0.87228387 0.86271902 0.87379754 0.86898135\n",
      " 0.86285651 0.87104539 0.84572246 0.81283009 0.82170728 0.84682322\n",
      " 0.84049238 0.81874868 0.83147802 0.84235009 0.864027   0.8619623\n",
      " 0.87820192 0.87723864 0.8793027  0.86162722 0.86555226 0.86286635\n",
      " 0.8657586  0.86396821 0.87512345 0.88345485 0.88386796 0.88985902\n",
      " 0.88118292 0.90087481 0.90920708 0.91099725 0.91092796 0.92642135\n",
      " 0.92655862 0.92717852 0.9280736  0.93330641 0.9345462  0.94988811\n",
      " 0.9521644  0.94567957 0.93788522 0.93457395 0.94243737 0.95582038\n",
      " 0.95968334 0.96347811 0.96347811 0.95685535 0.93788522 0.91932886\n",
      " 0.92995164 0.93209045 0.95513075 0.94864614 0.94657706 0.94836986\n",
      " 0.96375396 0.96485757 0.97148033 0.97375574 0.97244492 0.98106856\n",
      " 0.98706071 0.99308041 0.99086663 0.99086663 0.99813202 1.\n",
      " 0.98754509 0.95112461 0.94321746 0.93060195 0.91590869 0.90091568\n",
      " 0.88664633 0.87366283 0.86227095 0.85262311 0.84476435 0.83865201\n",
      " 0.83417207 0.83115292 0.82938153 0.82861853]\n",
      "15 day output [[0.828613]]\n",
      "16 day input [0.83058917 0.85633255 0.86072601 0.8640211  0.86807139 0.88386096\n",
      " 0.88818535 0.89010776 0.88029111 0.88296806 0.8857825  0.8820074\n",
      " 0.87152737 0.87228387 0.86271902 0.87379754 0.86898135 0.86285651\n",
      " 0.87104539 0.84572246 0.81283009 0.82170728 0.84682322 0.84049238\n",
      " 0.81874868 0.83147802 0.84235009 0.864027   0.8619623  0.87820192\n",
      " 0.87723864 0.8793027  0.86162722 0.86555226 0.86286635 0.8657586\n",
      " 0.86396821 0.87512345 0.88345485 0.88386796 0.88985902 0.88118292\n",
      " 0.90087481 0.90920708 0.91099725 0.91092796 0.92642135 0.92655862\n",
      " 0.92717852 0.9280736  0.93330641 0.9345462  0.94988811 0.9521644\n",
      " 0.94567957 0.93788522 0.93457395 0.94243737 0.95582038 0.95968334\n",
      " 0.96347811 0.96347811 0.95685535 0.93788522 0.91932886 0.92995164\n",
      " 0.93209045 0.95513075 0.94864614 0.94657706 0.94836986 0.96375396\n",
      " 0.96485757 0.97148033 0.97375574 0.97244492 0.98106856 0.98706071\n",
      " 0.99308041 0.99086663 0.99086663 0.99813202 1.         0.98754509\n",
      " 0.95112461 0.94321746 0.93060195 0.91590869 0.90091568 0.88664633\n",
      " 0.87366283 0.86227095 0.85262311 0.84476435 0.83865201 0.83417207\n",
      " 0.83115292 0.82938153 0.82861853 0.82861298]\n",
      "16 day output [[0.8291158]]\n",
      "17 day input [0.85633255 0.86072601 0.8640211  0.86807139 0.88386096 0.88818535\n",
      " 0.89010776 0.88029111 0.88296806 0.8857825  0.8820074  0.87152737\n",
      " 0.87228387 0.86271902 0.87379754 0.86898135 0.86285651 0.87104539\n",
      " 0.84572246 0.81283009 0.82170728 0.84682322 0.84049238 0.81874868\n",
      " 0.83147802 0.84235009 0.864027   0.8619623  0.87820192 0.87723864\n",
      " 0.8793027  0.86162722 0.86555226 0.86286635 0.8657586  0.86396821\n",
      " 0.87512345 0.88345485 0.88386796 0.88985902 0.88118292 0.90087481\n",
      " 0.90920708 0.91099725 0.91092796 0.92642135 0.92655862 0.92717852\n",
      " 0.9280736  0.93330641 0.9345462  0.94988811 0.9521644  0.94567957\n",
      " 0.93788522 0.93457395 0.94243737 0.95582038 0.95968334 0.96347811\n",
      " 0.96347811 0.95685535 0.93788522 0.91932886 0.92995164 0.93209045\n",
      " 0.95513075 0.94864614 0.94657706 0.94836986 0.96375396 0.96485757\n",
      " 0.97148033 0.97375574 0.97244492 0.98106856 0.98706071 0.99308041\n",
      " 0.99086663 0.99086663 0.99813202 1.         0.98754509 0.95112461\n",
      " 0.94321746 0.93060195 0.91590869 0.90091568 0.88664633 0.87366283\n",
      " 0.86227095 0.85262311 0.84476435 0.83865201 0.83417207 0.83115292\n",
      " 0.82938153 0.82861853 0.82861298 0.82911581]\n",
      "17 day output [[0.82989043]]\n",
      "18 day input [0.86072601 0.8640211  0.86807139 0.88386096 0.88818535 0.89010776\n",
      " 0.88029111 0.88296806 0.8857825  0.8820074  0.87152737 0.87228387\n",
      " 0.86271902 0.87379754 0.86898135 0.86285651 0.87104539 0.84572246\n",
      " 0.81283009 0.82170728 0.84682322 0.84049238 0.81874868 0.83147802\n",
      " 0.84235009 0.864027   0.8619623  0.87820192 0.87723864 0.8793027\n",
      " 0.86162722 0.86555226 0.86286635 0.8657586  0.86396821 0.87512345\n",
      " 0.88345485 0.88386796 0.88985902 0.88118292 0.90087481 0.90920708\n",
      " 0.91099725 0.91092796 0.92642135 0.92655862 0.92717852 0.9280736\n",
      " 0.93330641 0.9345462  0.94988811 0.9521644  0.94567957 0.93788522\n",
      " 0.93457395 0.94243737 0.95582038 0.95968334 0.96347811 0.96347811\n",
      " 0.95685535 0.93788522 0.91932886 0.92995164 0.93209045 0.95513075\n",
      " 0.94864614 0.94657706 0.94836986 0.96375396 0.96485757 0.97148033\n",
      " 0.97375574 0.97244492 0.98106856 0.98706071 0.99308041 0.99086663\n",
      " 0.99086663 0.99813202 1.         0.98754509 0.95112461 0.94321746\n",
      " 0.93060195 0.91590869 0.90091568 0.88664633 0.87366283 0.86227095\n",
      " 0.85262311 0.84476435 0.83865201 0.83417207 0.83115292 0.82938153\n",
      " 0.82861853 0.82861298 0.82911581 0.82989043]\n",
      "18 day output [[0.83072406]]\n",
      "19 day input [0.8640211  0.86807139 0.88386096 0.88818535 0.89010776 0.88029111\n",
      " 0.88296806 0.8857825  0.8820074  0.87152737 0.87228387 0.86271902\n",
      " 0.87379754 0.86898135 0.86285651 0.87104539 0.84572246 0.81283009\n",
      " 0.82170728 0.84682322 0.84049238 0.81874868 0.83147802 0.84235009\n",
      " 0.864027   0.8619623  0.87820192 0.87723864 0.8793027  0.86162722\n",
      " 0.86555226 0.86286635 0.8657586  0.86396821 0.87512345 0.88345485\n",
      " 0.88386796 0.88985902 0.88118292 0.90087481 0.90920708 0.91099725\n",
      " 0.91092796 0.92642135 0.92655862 0.92717852 0.9280736  0.93330641\n",
      " 0.9345462  0.94988811 0.9521644  0.94567957 0.93788522 0.93457395\n",
      " 0.94243737 0.95582038 0.95968334 0.96347811 0.96347811 0.95685535\n",
      " 0.93788522 0.91932886 0.92995164 0.93209045 0.95513075 0.94864614\n",
      " 0.94657706 0.94836986 0.96375396 0.96485757 0.97148033 0.97375574\n",
      " 0.97244492 0.98106856 0.98706071 0.99308041 0.99086663 0.99086663\n",
      " 0.99813202 1.         0.98754509 0.95112461 0.94321746 0.93060195\n",
      " 0.91590869 0.90091568 0.88664633 0.87366283 0.86227095 0.85262311\n",
      " 0.84476435 0.83865201 0.83417207 0.83115292 0.82938153 0.82861853\n",
      " 0.82861298 0.82911581 0.82989043 0.83072406]\n",
      "19 day output [[0.83143294]]\n",
      "20 day input [0.86807139 0.88386096 0.88818535 0.89010776 0.88029111 0.88296806\n",
      " 0.8857825  0.8820074  0.87152737 0.87228387 0.86271902 0.87379754\n",
      " 0.86898135 0.86285651 0.87104539 0.84572246 0.81283009 0.82170728\n",
      " 0.84682322 0.84049238 0.81874868 0.83147802 0.84235009 0.864027\n",
      " 0.8619623  0.87820192 0.87723864 0.8793027  0.86162722 0.86555226\n",
      " 0.86286635 0.8657586  0.86396821 0.87512345 0.88345485 0.88386796\n",
      " 0.88985902 0.88118292 0.90087481 0.90920708 0.91099725 0.91092796\n",
      " 0.92642135 0.92655862 0.92717852 0.9280736  0.93330641 0.9345462\n",
      " 0.94988811 0.9521644  0.94567957 0.93788522 0.93457395 0.94243737\n",
      " 0.95582038 0.95968334 0.96347811 0.96347811 0.95685535 0.93788522\n",
      " 0.91932886 0.92995164 0.93209045 0.95513075 0.94864614 0.94657706\n",
      " 0.94836986 0.96375396 0.96485757 0.97148033 0.97375574 0.97244492\n",
      " 0.98106856 0.98706071 0.99308041 0.99086663 0.99086663 0.99813202\n",
      " 1.         0.98754509 0.95112461 0.94321746 0.93060195 0.91590869\n",
      " 0.90091568 0.88664633 0.87366283 0.86227095 0.85262311 0.84476435\n",
      " 0.83865201 0.83417207 0.83115292 0.82938153 0.82861853 0.82861298\n",
      " 0.82911581 0.82989043 0.83072406 0.83143294]\n"
     ]
    },
    {
     "name": "stdout",
     "output_type": "stream",
     "text": [
      "20 day output [[0.83186895]]\n",
      "21 day input [0.88386096 0.88818535 0.89010776 0.88029111 0.88296806 0.8857825\n",
      " 0.8820074  0.87152737 0.87228387 0.86271902 0.87379754 0.86898135\n",
      " 0.86285651 0.87104539 0.84572246 0.81283009 0.82170728 0.84682322\n",
      " 0.84049238 0.81874868 0.83147802 0.84235009 0.864027   0.8619623\n",
      " 0.87820192 0.87723864 0.8793027  0.86162722 0.86555226 0.86286635\n",
      " 0.8657586  0.86396821 0.87512345 0.88345485 0.88386796 0.88985902\n",
      " 0.88118292 0.90087481 0.90920708 0.91099725 0.91092796 0.92642135\n",
      " 0.92655862 0.92717852 0.9280736  0.93330641 0.9345462  0.94988811\n",
      " 0.9521644  0.94567957 0.93788522 0.93457395 0.94243737 0.95582038\n",
      " 0.95968334 0.96347811 0.96347811 0.95685535 0.93788522 0.91932886\n",
      " 0.92995164 0.93209045 0.95513075 0.94864614 0.94657706 0.94836986\n",
      " 0.96375396 0.96485757 0.97148033 0.97375574 0.97244492 0.98106856\n",
      " 0.98706071 0.99308041 0.99086663 0.99086663 0.99813202 1.\n",
      " 0.98754509 0.95112461 0.94321746 0.93060195 0.91590869 0.90091568\n",
      " 0.88664633 0.87366283 0.86227095 0.85262311 0.84476435 0.83865201\n",
      " 0.83417207 0.83115292 0.82938153 0.82861853 0.82861298 0.82911581\n",
      " 0.82989043 0.83072406 0.83143294 0.83186895]\n",
      "21 day output [[0.83192277]]\n",
      "22 day input [0.88818535 0.89010776 0.88029111 0.88296806 0.8857825  0.8820074\n",
      " 0.87152737 0.87228387 0.86271902 0.87379754 0.86898135 0.86285651\n",
      " 0.87104539 0.84572246 0.81283009 0.82170728 0.84682322 0.84049238\n",
      " 0.81874868 0.83147802 0.84235009 0.864027   0.8619623  0.87820192\n",
      " 0.87723864 0.8793027  0.86162722 0.86555226 0.86286635 0.8657586\n",
      " 0.86396821 0.87512345 0.88345485 0.88386796 0.88985902 0.88118292\n",
      " 0.90087481 0.90920708 0.91099725 0.91092796 0.92642135 0.92655862\n",
      " 0.92717852 0.9280736  0.93330641 0.9345462  0.94988811 0.9521644\n",
      " 0.94567957 0.93788522 0.93457395 0.94243737 0.95582038 0.95968334\n",
      " 0.96347811 0.96347811 0.95685535 0.93788522 0.91932886 0.92995164\n",
      " 0.93209045 0.95513075 0.94864614 0.94657706 0.94836986 0.96375396\n",
      " 0.96485757 0.97148033 0.97375574 0.97244492 0.98106856 0.98706071\n",
      " 0.99308041 0.99086663 0.99086663 0.99813202 1.         0.98754509\n",
      " 0.95112461 0.94321746 0.93060195 0.91590869 0.90091568 0.88664633\n",
      " 0.87366283 0.86227095 0.85262311 0.84476435 0.83865201 0.83417207\n",
      " 0.83115292 0.82938153 0.82861853 0.82861298 0.82911581 0.82989043\n",
      " 0.83072406 0.83143294 0.83186895 0.83192277]\n",
      "22 day output [[0.83152366]]\n",
      "23 day input [0.89010776 0.88029111 0.88296806 0.8857825  0.8820074  0.87152737\n",
      " 0.87228387 0.86271902 0.87379754 0.86898135 0.86285651 0.87104539\n",
      " 0.84572246 0.81283009 0.82170728 0.84682322 0.84049238 0.81874868\n",
      " 0.83147802 0.84235009 0.864027   0.8619623  0.87820192 0.87723864\n",
      " 0.8793027  0.86162722 0.86555226 0.86286635 0.8657586  0.86396821\n",
      " 0.87512345 0.88345485 0.88386796 0.88985902 0.88118292 0.90087481\n",
      " 0.90920708 0.91099725 0.91092796 0.92642135 0.92655862 0.92717852\n",
      " 0.9280736  0.93330641 0.9345462  0.94988811 0.9521644  0.94567957\n",
      " 0.93788522 0.93457395 0.94243737 0.95582038 0.95968334 0.96347811\n",
      " 0.96347811 0.95685535 0.93788522 0.91932886 0.92995164 0.93209045\n",
      " 0.95513075 0.94864614 0.94657706 0.94836986 0.96375396 0.96485757\n",
      " 0.97148033 0.97375574 0.97244492 0.98106856 0.98706071 0.99308041\n",
      " 0.99086663 0.99086663 0.99813202 1.         0.98754509 0.95112461\n",
      " 0.94321746 0.93060195 0.91590869 0.90091568 0.88664633 0.87366283\n",
      " 0.86227095 0.85262311 0.84476435 0.83865201 0.83417207 0.83115292\n",
      " 0.82938153 0.82861853 0.82861298 0.82911581 0.82989043 0.83072406\n",
      " 0.83143294 0.83186895 0.83192277 0.83152366]\n",
      "23 day output [[0.8306394]]\n",
      "24 day input [0.88029111 0.88296806 0.8857825  0.8820074  0.87152737 0.87228387\n",
      " 0.86271902 0.87379754 0.86898135 0.86285651 0.87104539 0.84572246\n",
      " 0.81283009 0.82170728 0.84682322 0.84049238 0.81874868 0.83147802\n",
      " 0.84235009 0.864027   0.8619623  0.87820192 0.87723864 0.8793027\n",
      " 0.86162722 0.86555226 0.86286635 0.8657586  0.86396821 0.87512345\n",
      " 0.88345485 0.88386796 0.88985902 0.88118292 0.90087481 0.90920708\n",
      " 0.91099725 0.91092796 0.92642135 0.92655862 0.92717852 0.9280736\n",
      " 0.93330641 0.9345462  0.94988811 0.9521644  0.94567957 0.93788522\n",
      " 0.93457395 0.94243737 0.95582038 0.95968334 0.96347811 0.96347811\n",
      " 0.95685535 0.93788522 0.91932886 0.92995164 0.93209045 0.95513075\n",
      " 0.94864614 0.94657706 0.94836986 0.96375396 0.96485757 0.97148033\n",
      " 0.97375574 0.97244492 0.98106856 0.98706071 0.99308041 0.99086663\n",
      " 0.99086663 0.99813202 1.         0.98754509 0.95112461 0.94321746\n",
      " 0.93060195 0.91590869 0.90091568 0.88664633 0.87366283 0.86227095\n",
      " 0.85262311 0.84476435 0.83865201 0.83417207 0.83115292 0.82938153\n",
      " 0.82861853 0.82861298 0.82911581 0.82989043 0.83072406 0.83143294\n",
      " 0.83186895 0.83192277 0.83152366 0.83063942]\n",
      "24 day output [[0.82927233]]\n",
      "25 day input [0.88296806 0.8857825  0.8820074  0.87152737 0.87228387 0.86271902\n",
      " 0.87379754 0.86898135 0.86285651 0.87104539 0.84572246 0.81283009\n",
      " 0.82170728 0.84682322 0.84049238 0.81874868 0.83147802 0.84235009\n",
      " 0.864027   0.8619623  0.87820192 0.87723864 0.8793027  0.86162722\n",
      " 0.86555226 0.86286635 0.8657586  0.86396821 0.87512345 0.88345485\n",
      " 0.88386796 0.88985902 0.88118292 0.90087481 0.90920708 0.91099725\n",
      " 0.91092796 0.92642135 0.92655862 0.92717852 0.9280736  0.93330641\n",
      " 0.9345462  0.94988811 0.9521644  0.94567957 0.93788522 0.93457395\n",
      " 0.94243737 0.95582038 0.95968334 0.96347811 0.96347811 0.95685535\n",
      " 0.93788522 0.91932886 0.92995164 0.93209045 0.95513075 0.94864614\n",
      " 0.94657706 0.94836986 0.96375396 0.96485757 0.97148033 0.97375574\n",
      " 0.97244492 0.98106856 0.98706071 0.99308041 0.99086663 0.99086663\n",
      " 0.99813202 1.         0.98754509 0.95112461 0.94321746 0.93060195\n",
      " 0.91590869 0.90091568 0.88664633 0.87366283 0.86227095 0.85262311\n",
      " 0.84476435 0.83865201 0.83417207 0.83115292 0.82938153 0.82861853\n",
      " 0.82861298 0.82911581 0.82989043 0.83072406 0.83143294 0.83186895\n",
      " 0.83192277 0.83152366 0.83063942 0.82927233]\n",
      "25 day output [[0.8274548]]\n",
      "26 day input [0.8857825  0.8820074  0.87152737 0.87228387 0.86271902 0.87379754\n",
      " 0.86898135 0.86285651 0.87104539 0.84572246 0.81283009 0.82170728\n",
      " 0.84682322 0.84049238 0.81874868 0.83147802 0.84235009 0.864027\n",
      " 0.8619623  0.87820192 0.87723864 0.8793027  0.86162722 0.86555226\n",
      " 0.86286635 0.8657586  0.86396821 0.87512345 0.88345485 0.88386796\n",
      " 0.88985902 0.88118292 0.90087481 0.90920708 0.91099725 0.91092796\n",
      " 0.92642135 0.92655862 0.92717852 0.9280736  0.93330641 0.9345462\n",
      " 0.94988811 0.9521644  0.94567957 0.93788522 0.93457395 0.94243737\n",
      " 0.95582038 0.95968334 0.96347811 0.96347811 0.95685535 0.93788522\n",
      " 0.91932886 0.92995164 0.93209045 0.95513075 0.94864614 0.94657706\n",
      " 0.94836986 0.96375396 0.96485757 0.97148033 0.97375574 0.97244492\n",
      " 0.98106856 0.98706071 0.99308041 0.99086663 0.99086663 0.99813202\n",
      " 1.         0.98754509 0.95112461 0.94321746 0.93060195 0.91590869\n",
      " 0.90091568 0.88664633 0.87366283 0.86227095 0.85262311 0.84476435\n",
      " 0.83865201 0.83417207 0.83115292 0.82938153 0.82861853 0.82861298\n",
      " 0.82911581 0.82989043 0.83072406 0.83143294 0.83186895 0.83192277\n",
      " 0.83152366 0.83063942 0.82927233 0.82745481]\n",
      "26 day output [[0.8252439]]\n",
      "27 day input [0.8820074  0.87152737 0.87228387 0.86271902 0.87379754 0.86898135\n",
      " 0.86285651 0.87104539 0.84572246 0.81283009 0.82170728 0.84682322\n",
      " 0.84049238 0.81874868 0.83147802 0.84235009 0.864027   0.8619623\n",
      " 0.87820192 0.87723864 0.8793027  0.86162722 0.86555226 0.86286635\n",
      " 0.8657586  0.86396821 0.87512345 0.88345485 0.88386796 0.88985902\n",
      " 0.88118292 0.90087481 0.90920708 0.91099725 0.91092796 0.92642135\n",
      " 0.92655862 0.92717852 0.9280736  0.93330641 0.9345462  0.94988811\n",
      " 0.9521644  0.94567957 0.93788522 0.93457395 0.94243737 0.95582038\n",
      " 0.95968334 0.96347811 0.96347811 0.95685535 0.93788522 0.91932886\n",
      " 0.92995164 0.93209045 0.95513075 0.94864614 0.94657706 0.94836986\n",
      " 0.96375396 0.96485757 0.97148033 0.97375574 0.97244492 0.98106856\n",
      " 0.98706071 0.99308041 0.99086663 0.99086663 0.99813202 1.\n",
      " 0.98754509 0.95112461 0.94321746 0.93060195 0.91590869 0.90091568\n",
      " 0.88664633 0.87366283 0.86227095 0.85262311 0.84476435 0.83865201\n",
      " 0.83417207 0.83115292 0.82938153 0.82861853 0.82861298 0.82911581\n",
      " 0.82989043 0.83072406 0.83143294 0.83186895 0.83192277 0.83152366\n",
      " 0.83063942 0.82927233 0.82745481 0.82524389]\n",
      "27 day output [[0.8227143]]\n",
      "28 day input [0.87152737 0.87228387 0.86271902 0.87379754 0.86898135 0.86285651\n",
      " 0.87104539 0.84572246 0.81283009 0.82170728 0.84682322 0.84049238\n",
      " 0.81874868 0.83147802 0.84235009 0.864027   0.8619623  0.87820192\n",
      " 0.87723864 0.8793027  0.86162722 0.86555226 0.86286635 0.8657586\n",
      " 0.86396821 0.87512345 0.88345485 0.88386796 0.88985902 0.88118292\n",
      " 0.90087481 0.90920708 0.91099725 0.91092796 0.92642135 0.92655862\n",
      " 0.92717852 0.9280736  0.93330641 0.9345462  0.94988811 0.9521644\n",
      " 0.94567957 0.93788522 0.93457395 0.94243737 0.95582038 0.95968334\n",
      " 0.96347811 0.96347811 0.95685535 0.93788522 0.91932886 0.92995164\n",
      " 0.93209045 0.95513075 0.94864614 0.94657706 0.94836986 0.96375396\n",
      " 0.96485757 0.97148033 0.97375574 0.97244492 0.98106856 0.98706071\n",
      " 0.99308041 0.99086663 0.99086663 0.99813202 1.         0.98754509\n",
      " 0.95112461 0.94321746 0.93060195 0.91590869 0.90091568 0.88664633\n",
      " 0.87366283 0.86227095 0.85262311 0.84476435 0.83865201 0.83417207\n",
      " 0.83115292 0.82938153 0.82861853 0.82861298 0.82911581 0.82989043\n",
      " 0.83072406 0.83143294 0.83186895 0.83192277 0.83152366 0.83063942\n",
      " 0.82927233 0.82745481 0.82524389 0.82271433]\n",
      "28 day output [[0.8199531]]\n",
      "29 day input [0.87228387 0.86271902 0.87379754 0.86898135 0.86285651 0.87104539\n",
      " 0.84572246 0.81283009 0.82170728 0.84682322 0.84049238 0.81874868\n",
      " 0.83147802 0.84235009 0.864027   0.8619623  0.87820192 0.87723864\n",
      " 0.8793027  0.86162722 0.86555226 0.86286635 0.8657586  0.86396821\n",
      " 0.87512345 0.88345485 0.88386796 0.88985902 0.88118292 0.90087481\n",
      " 0.90920708 0.91099725 0.91092796 0.92642135 0.92655862 0.92717852\n",
      " 0.9280736  0.93330641 0.9345462  0.94988811 0.9521644  0.94567957\n",
      " 0.93788522 0.93457395 0.94243737 0.95582038 0.95968334 0.96347811\n",
      " 0.96347811 0.95685535 0.93788522 0.91932886 0.92995164 0.93209045\n",
      " 0.95513075 0.94864614 0.94657706 0.94836986 0.96375396 0.96485757\n",
      " 0.97148033 0.97375574 0.97244492 0.98106856 0.98706071 0.99308041\n",
      " 0.99086663 0.99086663 0.99813202 1.         0.98754509 0.95112461\n",
      " 0.94321746 0.93060195 0.91590869 0.90091568 0.88664633 0.87366283\n",
      " 0.86227095 0.85262311 0.84476435 0.83865201 0.83417207 0.83115292\n",
      " 0.82938153 0.82861853 0.82861298 0.82911581 0.82989043 0.83072406\n",
      " 0.83143294 0.83186895 0.83192277 0.83152366 0.83063942 0.82927233\n",
      " 0.82745481 0.82524389 0.82271433 0.81995308]\n"
     ]
    },
    {
     "name": "stdout",
     "output_type": "stream",
     "text": [
      "29 day output [[0.81705135]]\n"
     ]
    }
   ],
   "source": [
    "# prediction for next 10 days\n",
    "from numpy import array\n",
    "\n",
    "lst_output=[]\n",
    "n_steps=100\n",
    "i=0\n",
    "while(i<30):\n",
    "    \n",
    "    if(len(temp_input)>100):\n",
    "        x_input=np.array(temp_input[1:])\n",
    "        print(\"{} day input {}\".format(i,x_input))\n",
    "        x_input=x_input.reshape(1,-1)\n",
    "        x_input = x_input.reshape((1, n_steps, 1))\n",
    "        #print(x_input)\n",
    "        yhat = model.predict(x_input, verbose=0)\n",
    "        print(\"{} day output {}\".format(i,yhat))\n",
    "        temp_input.extend(yhat[0].tolist())\n",
    "        temp_input=temp_input[1:]\n",
    "        #print(temp_input)\n",
    "        lst_output.extend(yhat.tolist())\n",
    "        i=i+1\n",
    "    else:\n",
    "        x_input = x_input.reshape((1, n_steps,1))\n",
    "        yhat = model.predict(x_input, verbose=0)\n",
    "        print(yhat[0])\n",
    "        temp_input.extend(yhat[0].tolist())\n",
    "        print(len(temp_input))\n",
    "        lst_output.extend(yhat.tolist())\n",
    "        i=i+1\n",
    "    \n",
    "\n"
   ]
  },
  {
   "cell_type": "code",
   "execution_count": 47,
   "id": "92c10d6b",
   "metadata": {},
   "outputs": [],
   "source": [
    "day_new=np.arange(1,101)\n",
    "day_pred=np.arange(101,131)"
   ]
  },
  {
   "cell_type": "code",
   "execution_count": 48,
   "id": "c7f27532",
   "metadata": {},
   "outputs": [
    {
     "data": {
      "text/plain": [
       "1302"
      ]
     },
     "execution_count": 48,
     "metadata": {},
     "output_type": "execute_result"
    }
   ],
   "source": [
    "len(y)"
   ]
  },
  {
   "cell_type": "code",
   "execution_count": 49,
   "id": "67ed85eb",
   "metadata": {},
   "outputs": [
    {
     "data": {
      "text/plain": [
       "[<matplotlib.lines.Line2D at 0x1f1d8926160>]"
      ]
     },
     "execution_count": 49,
     "metadata": {},
     "output_type": "execute_result"
    },
    {
     "data": {
      "image/png": "[encoded data removed]",
      "text/plain": [
       "<Figure size 432x288 with 1 Axes>"
      ]
     },
     "metadata": {
      "needs_background": "light"
     },
     "output_type": "display_data"
    }
   ],
   "source": [
    "plt.plot(day_new,scaler.inverse_transform(y[1202:]))\n",
    "plt.plot(day_pred,scaler.inverse_transform(lst_output))"
   ]
  },
  {
   "cell_type": "code",
   "execution_count": 50,
   "id": "8cce3f69",
   "metadata": {},
   "outputs": [
    {
     "data": {
      "text/plain": [
       "[<matplotlib.lines.Line2D at 0x1f1d8985400>]"
      ]
     },
     "execution_count": 50,
     "metadata": {},
     "output_type": "execute_result"
    },
    {
     "data": {
      "image/png": "[encoded data removed]",
      "text/plain": [
       "<Figure size 432x288 with 1 Axes>"
      ]
     },
     "metadata": {
      "needs_background": "light"
     },
     "output_type": "display_data"
    }
   ],
   "source": [
    "z=y.tolist()\n",
    "z.extend(lst_output)\n",
    "plt.plot(z[1202:])"
   ]
  },
  {
   "cell_type": "code",
   "execution_count": 51,
   "id": "dddd372a",
   "metadata": {},
   "outputs": [],
   "source": [
    "z=scaler.inverse_transform(z).tolist()"
   ]
  },
  {
   "cell_type": "code",
   "execution_count": 52,
   "id": "fff0dbbf",
   "metadata": {
    "scrolled": true
   },
   "outputs": [
    {
     "data": {
      "text/plain": [
       "[<matplotlib.lines.Line2D at 0x1f1d892df70>]"
      ]
     },
     "execution_count": 52,
     "metadata": {},
     "output_type": "execute_result"
    },
    {
     "data": {
      "image/png": "[encoded data removed]",
      "text/plain": [
       "<Figure size 432x288 with 1 Axes>"
      ]
     },
     "metadata": {
      "needs_background": "light"
     },
     "output_type": "display_data"
    }
   ],
   "source": [
    "plt.plot(z)"
   ]
  },
  {
   "cell_type": "markdown",
   "id": "79b4f30a",
   "metadata": {},
   "source": [
    "### 4. Conclusion"
   ]
  },
  {
   "cell_type": "markdown",
   "id": "99b8e2d6",
   "metadata": {},
   "source": [
    "We used both the ARIMA model and LSTM model to try to predict future stock price of DIA (SPDR Dow Jones Industrial Average ETF Trust). A lot of people wants to be able to predict the stock prices, but stock prices are very hard/almost impossible to predict. ARIMA model is better short term forecasting, while LSTM is better for long term modeling. Making better models for DIA are beyond the scope of this capstone and require more knowledge and skills which I would acquire as time goes on. For businesses, picking ARIMA vs LSTM is cost vs benefit. LSTM gives better prediction result, but at the cost of more complexity. The best ARIMA we got for DIA is ARIMA(0, 1, 0) because it had the lowest MSE, meaning that DIA is a random walk. This goes in line with the Random Walk theory and the Efficient Market Hypothesis. The LSTM model was able to predict the general trend of which way DIA was going, but I would say the LSTM model we used for this project is unreliable and should not be used to decide when to pick and sell stocks. There maybe a better model out there that might be able to predict the prices of DIA, but that is beyond the scope of this project."
   ]
  },
  {
   "cell_type": "markdown",
   "id": "4a2158a2",
   "metadata": {},
   "source": [
    "resources:\n",
    "* https://github.com/krishnaik06/Stock-MArket-Forecasting/blob/master/Untitled.ipynb\n",
    "* https://machinelearningmastery.com/grid-search-arima-hyperparameters-with-python/\n",
    "* https://datascience.stackexchange.com/questions/12721/time-series-prediction-using-arima-vs-lstm\n",
    "* https://www.researchgate.net/publication/339600773_Forecasting_Financial_Budget_Time_Series_ARIMA_Random_Walk_vs_LSTM_Neural_Network\n",
    "* https://www.investopedia.com/terms/r/randomwalktheory.asp"
   ]
  }
 ],
 "metadata": {
  "kernelspec": {
   "display_name": "Python 3",
   "language": "python",
   "name": "python3"
  },
  "language_info": {
   "codemirror_mode": {
    "name": "ipython",
    "version": 3
   },
   "file_extension": ".py",
   "mimetype": "text/x-python",
   "name": "python",
   "nbconvert_exporter": "python",
   "pygments_lexer": "ipython3",
   "version": "3.8.8"
  }
 },
 "nbformat": 4,
 "nbformat_minor": 5
}
