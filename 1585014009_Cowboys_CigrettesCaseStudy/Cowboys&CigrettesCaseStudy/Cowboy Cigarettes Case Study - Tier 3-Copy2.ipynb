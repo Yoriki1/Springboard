{
 "cells": [
  {
   "cell_type": "markdown",
   "metadata": {},
   "source": [
    "# DIA Time Series"
   ]
  },
  {
   "cell_type": "markdown",
   "metadata": {},
   "source": [
    "## 1. Sourcing and Loading\n",
    "\n",
    "### 1a. Load relevant libraries "
   ]
  },
  {
   "cell_type": "code",
   "execution_count": 1,
   "metadata": {},
   "outputs": [],
   "source": [
    "import pandas as pd\n",
    "import numpy as np\n",
    "import matplotlib.pylab as plt\n",
    "%matplotlib inline\n",
    "import pandas as pd\n",
    "from sklearn.preprocessing import MinMaxScaler\n",
    "import plotly.express as px\n",
    "import plotly.graph_objects as go\n",
    "from plotly.subplots import make_subplots\n",
    "from statsmodels.graphics import tsaplots\n",
    "from tensorflow.keras.models import Sequential\n",
    "from tensorflow.keras.layers import Dense, Dropout, LSTM\n",
    "from tensorflow.keras.callbacks import ModelCheckpoint, EarlyStopping\n",
    "from sklearn.metrics import mean_squared_error\n",
    "import math"
   ]
  },
  {
   "cell_type": "markdown",
   "metadata": {},
   "source": [
    "### 1b. Load the data\n",
    "Call the variable `cigData`. "
   ]
  },
  {
   "cell_type": "code",
   "execution_count": 2,
   "metadata": {},
   "outputs": [],
   "source": [
    "DIA = pd.read_csv('DIA (3).csv')"
   ]
  },
  {
   "cell_type": "markdown",
   "metadata": {},
   "source": [
    "### 1c. Explore the data\n",
    "We now need to check whether the data conduces to a time series style analysis."
   ]
  },
  {
   "cell_type": "code",
   "execution_count": 3,
   "metadata": {
    "scrolled": false
   },
   "outputs": [
    {
     "name": "stdout",
     "output_type": "stream",
     "text": [
      "<class 'pandas.core.frame.DataFrame'>\n",
      "RangeIndex: 1257 entries, 0 to 1256\n",
      "Data columns (total 7 columns):\n",
      " #   Column     Non-Null Count  Dtype  \n",
      "---  ------     --------------  -----  \n",
      " 0   Date       1257 non-null   object \n",
      " 1   Open       1257 non-null   float64\n",
      " 2   High       1257 non-null   float64\n",
      " 3   Low        1257 non-null   float64\n",
      " 4   Close      1257 non-null   float64\n",
      " 5   Adj Close  1257 non-null   float64\n",
      " 6   Volume     1257 non-null   int64  \n",
      "dtypes: float64(5), int64(1), object(1)\n",
      "memory usage: 68.9+ KB\n"
     ]
    }
   ],
   "source": [
    "DIA.info()"
   ]
  },
  {
   "cell_type": "code",
   "execution_count": 4,
   "metadata": {},
   "outputs": [
    {
     "data": {
      "text/html": [
       "<div>\n",
       "<style scoped>\n",
       "    .dataframe tbody tr th:only-of-type {\n",
       "        vertical-align: middle;\n",
       "    }\n",
       "\n",
       "    .dataframe tbody tr th {\n",
       "        vertical-align: top;\n",
       "    }\n",
       "\n",
       "    .dataframe thead th {\n",
       "        text-align: right;\n",
       "    }\n",
       "</style>\n",
       "<table border=\"1\" class=\"dataframe\">\n",
       "  <thead>\n",
       "    <tr style=\"text-align: right;\">\n",
       "      <th></th>\n",
       "      <th>Date</th>\n",
       "      <th>Open</th>\n",
       "      <th>High</th>\n",
       "      <th>Low</th>\n",
       "      <th>Close</th>\n",
       "      <th>Adj Close</th>\n",
       "      <th>Volume</th>\n",
       "    </tr>\n",
       "  </thead>\n",
       "  <tbody>\n",
       "    <tr>\n",
       "      <th>0</th>\n",
       "      <td>1/2/2015</td>\n",
       "      <td>178.649994</td>\n",
       "      <td>179.229996</td>\n",
       "      <td>176.979996</td>\n",
       "      <td>177.940002</td>\n",
       "      <td>153.454803</td>\n",
       "      <td>4997200</td>\n",
       "    </tr>\n",
       "    <tr>\n",
       "      <th>1</th>\n",
       "      <td>1/5/2015</td>\n",
       "      <td>177.059998</td>\n",
       "      <td>177.210007</td>\n",
       "      <td>174.460007</td>\n",
       "      <td>174.839996</td>\n",
       "      <td>150.781387</td>\n",
       "      <td>6700200</td>\n",
       "    </tr>\n",
       "    <tr>\n",
       "      <th>2</th>\n",
       "      <td>1/6/2015</td>\n",
       "      <td>175.100006</td>\n",
       "      <td>175.539993</td>\n",
       "      <td>172.320007</td>\n",
       "      <td>173.389999</td>\n",
       "      <td>149.530914</td>\n",
       "      <td>10131400</td>\n",
       "    </tr>\n",
       "    <tr>\n",
       "      <th>3</th>\n",
       "      <td>1/7/2015</td>\n",
       "      <td>174.850006</td>\n",
       "      <td>175.789993</td>\n",
       "      <td>174.240005</td>\n",
       "      <td>175.589996</td>\n",
       "      <td>151.428162</td>\n",
       "      <td>5547000</td>\n",
       "    </tr>\n",
       "    <tr>\n",
       "      <th>4</th>\n",
       "      <td>1/8/2015</td>\n",
       "      <td>177.259995</td>\n",
       "      <td>178.960007</td>\n",
       "      <td>177.210007</td>\n",
       "      <td>178.759995</td>\n",
       "      <td>154.161942</td>\n",
       "      <td>7166700</td>\n",
       "    </tr>\n",
       "  </tbody>\n",
       "</table>\n",
       "</div>"
      ],
      "text/plain": [
       "       Date        Open        High         Low       Close   Adj Close  \\\n",
       "0  1/2/2015  178.649994  179.229996  176.979996  177.940002  153.454803   \n",
       "1  1/5/2015  177.059998  177.210007  174.460007  174.839996  150.781387   \n",
       "2  1/6/2015  175.100006  175.539993  172.320007  173.389999  149.530914   \n",
       "3  1/7/2015  174.850006  175.789993  174.240005  175.589996  151.428162   \n",
       "4  1/8/2015  177.259995  178.960007  177.210007  178.759995  154.161942   \n",
       "\n",
       "     Volume  \n",
       "0   4997200  \n",
       "1   6700200  \n",
       "2  10131400  \n",
       "3   5547000  \n",
       "4   7166700  "
      ]
     },
     "execution_count": 4,
     "metadata": {},
     "output_type": "execute_result"
    }
   ],
   "source": [
    "DIA.head()"
   ]
  },
  {
   "cell_type": "markdown",
   "metadata": {},
   "source": [
    "Checking the columns of our data."
   ]
  },
  {
   "cell_type": "code",
   "execution_count": 5,
   "metadata": {},
   "outputs": [
    {
     "data": {
      "text/plain": [
       "Index(['Date', 'Open', 'High', 'Low', 'Close', 'Adj Close', 'Volume'], dtype='object')"
      ]
     },
     "execution_count": 5,
     "metadata": {},
     "output_type": "execute_result"
    }
   ],
   "source": [
    "DIA.columns"
   ]
  },
  {
   "cell_type": "markdown",
   "metadata": {},
   "source": [
    "Checking out the data types of our columns."
   ]
  },
  {
   "cell_type": "code",
   "execution_count": 6,
   "metadata": {
    "scrolled": false
   },
   "outputs": [
    {
     "data": {
      "text/plain": [
       "Date          object\n",
       "Open         float64\n",
       "High         float64\n",
       "Low          float64\n",
       "Close        float64\n",
       "Adj Close    float64\n",
       "Volume         int64\n",
       "dtype: object"
      ]
     },
     "execution_count": 6,
     "metadata": {},
     "output_type": "execute_result"
    }
   ],
   "source": [
    "DIA.dtypes"
   ]
  },
  {
   "cell_type": "markdown",
   "metadata": {},
   "source": [
    "Check whether there are any null values. "
   ]
  },
  {
   "cell_type": "code",
   "execution_count": 7,
   "metadata": {
    "scrolled": true
   },
   "outputs": [
    {
     "data": {
      "text/plain": [
       "Date         0\n",
       "Open         0\n",
       "High         0\n",
       "Low          0\n",
       "Close        0\n",
       "Adj Close    0\n",
       "Volume       0\n",
       "dtype: int64"
      ]
     },
     "execution_count": 7,
     "metadata": {},
     "output_type": "execute_result"
    }
   ],
   "source": [
    "DIA.isna().sum()"
   ]
  },
  {
   "cell_type": "markdown",
   "metadata": {},
   "source": [
    "### 2b. Type conversions "
   ]
  },
  {
   "cell_type": "code",
   "execution_count": 8,
   "metadata": {},
   "outputs": [],
   "source": [
    "DIA['Date'] = pd.to_datetime(DIA['Date'])\n",
    "DIA.set_index('Date', inplace=True)"
   ]
  },
  {
   "cell_type": "code",
   "execution_count": 9,
   "metadata": {},
   "outputs": [],
   "source": [
    "df1=DIA.reset_index()['Close']"
   ]
  },
  {
   "cell_type": "code",
   "execution_count": 10,
   "metadata": {
    "scrolled": true
   },
   "outputs": [
    {
     "data": {
      "text/plain": [
       "0    177.940002\n",
       "1    174.839996\n",
       "2    173.389999\n",
       "3    175.589996\n",
       "4    178.759995\n",
       "Name: Close, dtype: float64"
      ]
     },
     "execution_count": 10,
     "metadata": {},
     "output_type": "execute_result"
    }
   ],
   "source": [
    "df1.head()"
   ]
  },
  {
   "cell_type": "markdown",
   "metadata": {},
   "source": [
    "Perfect! "
   ]
  },
  {
   "cell_type": "code",
   "execution_count": 11,
   "metadata": {},
   "outputs": [],
   "source": [
    "### 2c. Making a predictor variable `y`"
   ]
  },
  {
   "cell_type": "code",
   "execution_count": 12,
   "metadata": {},
   "outputs": [],
   "source": [
    "y = DIA['Close']"
   ]
  },
  {
   "cell_type": "markdown",
   "metadata": {},
   "source": [
    "Check the type of our new variable. "
   ]
  },
  {
   "cell_type": "code",
   "execution_count": 13,
   "metadata": {
    "scrolled": true
   },
   "outputs": [
    {
     "data": {
      "text/plain": [
       "pandas.core.series.Series"
      ]
     },
     "execution_count": 13,
     "metadata": {},
     "output_type": "execute_result"
    }
   ],
   "source": [
    "type(y)"
   ]
  },
  {
   "cell_type": "markdown",
   "metadata": {},
   "source": [
    "### 2d. Getting summary statistics for `y`"
   ]
  },
  {
   "cell_type": "markdown",
   "metadata": {},
   "source": [
    "Get the summary statistics of our data here. "
   ]
  },
  {
   "cell_type": "code",
   "execution_count": 14,
   "metadata": {
    "scrolled": true
   },
   "outputs": [
    {
     "data": {
      "text/plain": [
       "count    1257.000000\n",
       "mean      217.267924\n",
       "std        37.236868\n",
       "min       156.490005\n",
       "25%       179.779999\n",
       "50%       213.990005\n",
       "75%       253.100006\n",
       "max       286.329987\n",
       "Name: Close, dtype: float64"
      ]
     },
     "execution_count": 14,
     "metadata": {},
     "output_type": "execute_result"
    }
   ],
   "source": [
    "df1.describe()"
   ]
  },
  {
   "cell_type": "markdown",
   "metadata": {},
   "source": [
    "### 2e. Plotting `y`"
   ]
  },
  {
   "cell_type": "code",
   "execution_count": 15,
   "metadata": {
    "scrolled": true
   },
   "outputs": [
    {
     "data": {
      "image/png": "[encoded data removed]",
      "text/plain": [
       "<Figure size 432x288 with 1 Axes>"
      ]
     },
     "metadata": {
      "needs_background": "light"
     },
     "output_type": "display_data"
    }
   ],
   "source": [
    "# Visualizing the data\n",
    "_ = y.plot()"
   ]
  },
  {
   "cell_type": "code",
   "execution_count": 16,
   "metadata": {},
   "outputs": [],
   "source": [
    "split=int(len(df1) * 0.65)\n",
    "train, test = df1[0:split], df1[split:len(df1)]"
   ]
  },
  {
   "cell_type": "code",
   "execution_count": 17,
   "metadata": {},
   "outputs": [
    {
     "data": {
      "image/png": "[encoded data removed]",
      "text/plain": [
       "<Figure size 432x288 with 1 Axes>"
      ]
     },
     "metadata": {
      "needs_background": "light"
     },
     "output_type": "display_data"
    }
   ],
   "source": [
    "fig, ax = plt.subplots()\n",
    "\n",
    "# Plot the train and test sets on the axis ax\n",
    "train.plot(ax=ax)\n",
    "test.plot(ax=ax)\n",
    "ax.legend([\"Train\", \"Test\"])\n",
    "ax.set_ylabel('Closing Price')\n",
    "plt.show()"
   ]
  },
  {
   "cell_type": "markdown",
   "metadata": {},
   "source": [
    "## 3. Modelling "
   ]
  },
  {
   "cell_type": "markdown",
   "metadata": {},
   "source": [
    "### 3a. Testing for stationarity with KPSS"
   ]
  },
  {
   "cell_type": "code",
   "execution_count": 18,
   "metadata": {
    "scrolled": false
   },
   "outputs": [
    {
     "name": "stderr",
     "output_type": "stream",
     "text": [
      "C:\\Users\\yorik\\anaconda3\\lib\\site-packages\\statsmodels\\tsa\\stattools.py:1875: FutureWarning: The behavior of using nlags=None will change in release 0.13.Currently nlags=None is the same as nlags=\"legacy\", and so a sample-size lag length is used. After the next release, the default will change to be the same as nlags=\"auto\" which uses an automatic lag length selection method. To silence this warning, either use \"auto\" or \"legacy\"\n",
      "  warnings.warn(msg, FutureWarning)\n",
      "C:\\Users\\yorik\\anaconda3\\lib\\site-packages\\statsmodels\\tsa\\stattools.py:1906: InterpolationWarning: The test statistic is outside of the range of p-values available in the\n",
      "look-up table. The actual p-value is smaller than the p-value returned.\n",
      "\n",
      "  warnings.warn(\n"
     ]
    },
    {
     "data": {
      "text/plain": [
       "(5.117521748333092,\n",
       " 0.01,\n",
       " 23,\n",
       " {'10%': 0.347, '5%': 0.463, '2.5%': 0.574, '1%': 0.739})"
      ]
     },
     "execution_count": 18,
     "metadata": {},
     "output_type": "execute_result"
    }
   ],
   "source": [
    "from statsmodels.tsa.stattools import kpss\n",
    "kpss(y)"
   ]
  },
  {
   "cell_type": "markdown",
   "metadata": {},
   "source": [
    "Since our p-value is less than 0.05, we should reject the Null hypothesis and deduce the non-stationarity of our data. \n",
    "\n",
    "But our data need to be stationary! So we need to do some transforming."
   ]
  },
  {
   "cell_type": "markdown",
   "metadata": {},
   "source": [
    "### 3b. Making the data stationary "
   ]
  },
  {
   "cell_type": "code",
   "execution_count": 19,
   "metadata": {
    "scrolled": false
   },
   "outputs": [
    {
     "data": {
      "image/png": "[encoded data removed]",
      "text/plain": [
       "<Figure size 432x288 with 1 Axes>"
      ]
     },
     "metadata": {
      "needs_background": "light"
     },
     "output_type": "display_data"
    }
   ],
   "source": [
    "_ = y.plot()"
   ]
  },
  {
   "cell_type": "markdown",
   "metadata": {},
   "source": [
    "In our plot, we can see that both the mean and the variance as time increases. At the moment, our data has neither a constant mean, nor a constant variance (the covariance, however, seems constant). We can get rid of the chaning variance with taking the natural log of the values."
   ]
  },
  {
   "cell_type": "code",
   "execution_count": 20,
   "metadata": {},
   "outputs": [],
   "source": [
    "y_log = np.log(y)"
   ]
  },
  {
   "cell_type": "code",
   "execution_count": 21,
   "metadata": {
    "scrolled": true
   },
   "outputs": [
    {
     "data": {
      "image/png": "[encoded data removed]",
      "text/plain": [
       "<Figure size 720x360 with 1 Axes>"
      ]
     },
     "metadata": {
      "needs_background": "light"
     },
     "output_type": "display_data"
    }
   ],
   "source": [
    "_ = plt.figure(figsize=(10,5))\n",
    "_ = plt.plot(y_log.diff())"
   ]
  },
  {
   "cell_type": "markdown",
   "metadata": {},
   "source": [
    "We now take the difference to get a common mean of our times series data."
   ]
  },
  {
   "cell_type": "code",
   "execution_count": 22,
   "metadata": {
    "scrolled": true
   },
   "outputs": [
    {
     "name": "stderr",
     "output_type": "stream",
     "text": [
      "C:\\Users\\yorik\\anaconda3\\lib\\site-packages\\statsmodels\\tsa\\stattools.py:1875: FutureWarning: The behavior of using nlags=None will change in release 0.13.Currently nlags=None is the same as nlags=\"legacy\", and so a sample-size lag length is used. After the next release, the default will change to be the same as nlags=\"auto\" which uses an automatic lag length selection method. To silence this warning, either use \"auto\" or \"legacy\"\n",
      "  warnings.warn(msg, FutureWarning)\n",
      "C:\\Users\\yorik\\anaconda3\\lib\\site-packages\\statsmodels\\tsa\\stattools.py:1910: InterpolationWarning: The test statistic is outside of the range of p-values available in the\n",
      "look-up table. The actual p-value is greater than the p-value returned.\n",
      "\n",
      "  warnings.warn(\n"
     ]
    },
    {
     "data": {
      "text/plain": [
       "(0.08885822300405215,\n",
       " 0.1,\n",
       " 23,\n",
       " {'10%': 0.347, '5%': 0.463, '2.5%': 0.574, '1%': 0.739})"
      ]
     },
     "execution_count": 22,
     "metadata": {},
     "output_type": "execute_result"
    }
   ],
   "source": [
    "kpss(y_log.diff().dropna())"
   ]
  },
  {
   "cell_type": "markdown",
   "metadata": {},
   "source": [
    "Our p-value is now greater than 0.05, so we can accept the null hypothesis that our data is stationary."
   ]
  },
  {
   "cell_type": "markdown",
   "metadata": {},
   "source": [
    "### 3d. The ARIMA model\n",
    "\n",
    "Autoregressive Integrated Moving Average"
   ]
  },
  {
   "cell_type": "code",
   "execution_count": 23,
   "metadata": {},
   "outputs": [],
   "source": [
    "# Import mean_squared_error and ARIMA\n",
    "from sklearn.metrics import mean_squared_error\n",
    "from statsmodels.tsa.arima_model import ARIMA"
   ]
  },
  {
   "cell_type": "markdown",
   "metadata": {},
   "source": [
    "#### 3di. Mak inga function to find the MSE of a single ARIMA model"
   ]
  },
  {
   "cell_type": "code",
   "execution_count": 24,
   "metadata": {},
   "outputs": [],
   "source": [
    "# Make a function called evaluate_arima_model to find the MSE of a single ARIMA model \n",
    "def evaluate_arima_model(data, arima_order):\n",
    "    # Needs to be an integer because it is later used as an index.\n",
    "    # Use int()\n",
    "    split=int(len(data) * 0.8) \n",
    "    # Make train and test variables, with 'train, test'\n",
    "    train, test = data[0:split], data[split:len(data)]\n",
    "    past=[x for x in train]\n",
    "    # make predictions\n",
    "    predictions = list()\n",
    "    for i in range(len(test)):#timestep-wise comparison between test data and one-step prediction ARIMA model. \n",
    "        model = ARIMA(past, order=arima_order)\n",
    "        model_fit = model.fit(disp=0)\n",
    "        future = model_fit.forecast()[0]\n",
    "        predictions.append(future)\n",
    "        past.append(test[i])\n",
    "    # calculate out of sample error\n",
    "    error = mean_squared_error(test, predictions)\n",
    "    # Return the error\n",
    "    return error"
   ]
  },
  {
   "cell_type": "markdown",
   "metadata": {},
   "source": [
    "#### 3dii. Making a function to evaluate the different ARIMA models with different p, d, and q values"
   ]
  },
  {
   "cell_type": "code",
   "execution_count": 25,
   "metadata": {},
   "outputs": [],
   "source": [
    "# Make a function called evaluate_models to evaluate different ARIMA models with several different p, d, and q values.\n",
    "def evaluate_models(dataset, p_values, d_values, q_values):\n",
    "    best_score, best_cfg = float(\"inf\"), None\n",
    "    # Iterate through p_values\n",
    "    for p in p_values:\n",
    "        # Iterate through d_values\n",
    "        for d in d_values:\n",
    "            # Iterate through q_values\n",
    "            for q in q_values:\n",
    "                # p, d, q iterator variables in that order\n",
    "                order = (p,d,q)\n",
    "                try:\n",
    "                    # Make a variable called mse for the Mean squared error\n",
    "                    mse = evaluate_arima_model(dataset, order)\n",
    "                    if mse < best_score:\n",
    "                        best_score, best_cfg = mse, order\n",
    "                    print('ARIMA%s MSE=%.3f' % (order,mse))\n",
    "                except:\n",
    "                    continue\n",
    "    return print('Best ARIMA%s MSE=%.3f' % (best_cfg, best_score))"
   ]
  },
  {
   "cell_type": "code",
   "execution_count": 26,
   "metadata": {},
   "outputs": [],
   "source": [
    "# Now, we choose a couple of values to try for each parameter: p_values, d_values and q_values\n",
    "# Fill in the blanks as appropriate\n",
    "p_values = [x for x in range(0, 3)]\n",
    "d_values = [x for x in range(0, 3)]\n",
    "q_values = [x for x in range(0, 3)]"
   ]
  },
  {
   "cell_type": "markdown",
   "metadata": {
    "scrolled": true
   },
   "source": [
    "# Finally, we can find the optimum ARIMA model for our data.\n",
    "# Nb. this can take a while...!\n",
    "import warnings\n",
    "warnings.filterwarnings(\"ignore\")\n",
    "evaluate_models(y_log, p_values, d_values, q_values)"
   ]
  },
  {
   "cell_type": "markdown",
   "metadata": {},
   "source": [
    "So the best p,d, q, parameters for our ARIMA model are 1, 1, 1 respectively. Now we know this, we can build the model."
   ]
  },
  {
   "cell_type": "code",
   "execution_count": 27,
   "metadata": {},
   "outputs": [
    {
     "name": "stderr",
     "output_type": "stream",
     "text": [
      "C:\\Users\\yorik\\anaconda3\\lib\\site-packages\\statsmodels\\tsa\\arima_model.py:472: FutureWarning: \n",
      "statsmodels.tsa.arima_model.ARMA and statsmodels.tsa.arima_model.ARIMA have\n",
      "been deprecated in favor of statsmodels.tsa.arima.model.ARIMA (note the .\n",
      "between arima and model) and\n",
      "statsmodels.tsa.SARIMAX. These will be removed after the 0.12 release.\n",
      "\n",
      "statsmodels.tsa.arima.model.ARIMA makes use of the statespace framework and\n",
      "is both well tested and maintained.\n",
      "\n",
      "To silence this warning and continue using ARMA and ARIMA until they are\n",
      "removed, use:\n",
      "\n",
      "import warnings\n",
      "warnings.filterwarnings('ignore', 'statsmodels.tsa.arima_model.ARMA',\n",
      "                        FutureWarning)\n",
      "warnings.filterwarnings('ignore', 'statsmodels.tsa.arima_model.ARIMA',\n",
      "                        FutureWarning)\n",
      "\n",
      "  warnings.warn(ARIMA_DEPRECATION_WARN, FutureWarning)\n",
      "C:\\Users\\yorik\\anaconda3\\lib\\site-packages\\statsmodels\\tsa\\base\\tsa_model.py:581: ValueWarning: A date index has been provided, but it has no associated frequency information and so will be ignored when e.g. forecasting.\n",
      "  warnings.warn('A date index has been provided, but it has no'\n",
      "C:\\Users\\yorik\\anaconda3\\lib\\site-packages\\statsmodels\\tsa\\base\\tsa_model.py:581: ValueWarning: A date index has been provided, but it has no associated frequency information and so will be ignored when e.g. forecasting.\n",
      "  warnings.warn('A date index has been provided, but it has no'\n",
      "C:\\Users\\yorik\\anaconda3\\lib\\site-packages\\statsmodels\\tsa\\arima_model.py:472: FutureWarning: \n",
      "statsmodels.tsa.arima_model.ARMA and statsmodels.tsa.arima_model.ARIMA have\n",
      "been deprecated in favor of statsmodels.tsa.arima.model.ARIMA (note the .\n",
      "between arima and model) and\n",
      "statsmodels.tsa.SARIMAX. These will be removed after the 0.12 release.\n",
      "\n",
      "statsmodels.tsa.arima.model.ARIMA makes use of the statespace framework and\n",
      "is both well tested and maintained.\n",
      "\n",
      "To silence this warning and continue using ARMA and ARIMA until they are\n",
      "removed, use:\n",
      "\n",
      "import warnings\n",
      "warnings.filterwarnings('ignore', 'statsmodels.tsa.arima_model.ARMA',\n",
      "                        FutureWarning)\n",
      "warnings.filterwarnings('ignore', 'statsmodels.tsa.arima_model.ARIMA',\n",
      "                        FutureWarning)\n",
      "\n",
      "  warnings.warn(ARIMA_DEPRECATION_WARN, FutureWarning)\n"
     ]
    }
   ],
   "source": [
    "p=1\n",
    "d=1\n",
    "q=1\n",
    "model = ARIMA(y_log, order=(p,d,q))\n",
    "model_fit = model.fit()\n",
    "forecast = model_fit.forecast(12)"
   ]
  },
  {
   "cell_type": "code",
   "execution_count": 28,
   "metadata": {
    "scrolled": false
   },
   "outputs": [
    {
     "data": {
      "text/html": [
       "<table class=\"simpletable\">\n",
       "<caption>ARIMA Model Results</caption>\n",
       "<tr>\n",
       "  <th>Dep. Variable:</th>      <td>D.Close</td>     <th>  No. Observations:  </th>   <td>1256</td>   \n",
       "</tr>\n",
       "<tr>\n",
       "  <th>Model:</th>          <td>ARIMA(1, 1, 1)</td>  <th>  Log Likelihood     </th> <td>4200.087</td> \n",
       "</tr>\n",
       "<tr>\n",
       "  <th>Method:</th>             <td>css-mle</td>     <th>  S.D. of innovations</th>   <td>0.009</td>  \n",
       "</tr>\n",
       "<tr>\n",
       "  <th>Date:</th>          <td>Mon, 15 Nov 2021</td> <th>  AIC                </th> <td>-8392.174</td>\n",
       "</tr>\n",
       "<tr>\n",
       "  <th>Time:</th>              <td>12:59:50</td>     <th>  BIC                </th> <td>-8371.631</td>\n",
       "</tr>\n",
       "<tr>\n",
       "  <th>Sample:</th>                <td>1</td>        <th>  HQIC               </th> <td>-8384.453</td>\n",
       "</tr>\n",
       "<tr>\n",
       "  <th></th>                       <td> </td>        <th>                     </th>     <td> </td>    \n",
       "</tr>\n",
       "</table>\n",
       "<table class=\"simpletable\">\n",
       "<tr>\n",
       "        <td></td>           <th>coef</th>     <th>std err</th>      <th>z</th>      <th>P>|z|</th>  <th>[0.025</th>    <th>0.975]</th>  \n",
       "</tr>\n",
       "<tr>\n",
       "  <th>const</th>         <td>    0.0004</td> <td>    0.000</td> <td>    2.753</td> <td> 0.006</td> <td>    0.000</td> <td>    0.001</td>\n",
       "</tr>\n",
       "<tr>\n",
       "  <th>ar.L1.D.Close</th> <td>    0.9613</td> <td>    0.021</td> <td>   45.106</td> <td> 0.000</td> <td>    0.920</td> <td>    1.003</td>\n",
       "</tr>\n",
       "<tr>\n",
       "  <th>ma.L1.D.Close</th> <td>   -0.9786</td> <td>    0.016</td> <td>  -62.786</td> <td> 0.000</td> <td>   -1.009</td> <td>   -0.948</td>\n",
       "</tr>\n",
       "</table>\n",
       "<table class=\"simpletable\">\n",
       "<caption>Roots</caption>\n",
       "<tr>\n",
       "    <td></td>   <th>            Real</th>  <th>         Imaginary</th> <th>         Modulus</th>  <th>        Frequency</th>\n",
       "</tr>\n",
       "<tr>\n",
       "  <th>AR.1</th> <td>           1.0402</td> <td>          +0.0000j</td> <td>           1.0402</td> <td>           0.0000</td>\n",
       "</tr>\n",
       "<tr>\n",
       "  <th>MA.1</th> <td>           1.0219</td> <td>          +0.0000j</td> <td>           1.0219</td> <td>           0.0000</td>\n",
       "</tr>\n",
       "</table>"
      ],
      "text/plain": [
       "<class 'statsmodels.iolib.summary.Summary'>\n",
       "\"\"\"\n",
       "                             ARIMA Model Results                              \n",
       "==============================================================================\n",
       "Dep. Variable:                D.Close   No. Observations:                 1256\n",
       "Model:                 ARIMA(1, 1, 1)   Log Likelihood                4200.087\n",
       "Method:                       css-mle   S.D. of innovations              0.009\n",
       "Date:                Mon, 15 Nov 2021   AIC                          -8392.174\n",
       "Time:                        12:59:50   BIC                          -8371.631\n",
       "Sample:                             1   HQIC                         -8384.453\n",
       "                                                                              \n",
       "=================================================================================\n",
       "                    coef    std err          z      P>|z|      [0.025      0.975]\n",
       "---------------------------------------------------------------------------------\n",
       "const             0.0004      0.000      2.753      0.006       0.000       0.001\n",
       "ar.L1.D.Close     0.9613      0.021     45.106      0.000       0.920       1.003\n",
       "ma.L1.D.Close    -0.9786      0.016    -62.786      0.000      -1.009      -0.948\n",
       "                                    Roots                                    \n",
       "=============================================================================\n",
       "                  Real          Imaginary           Modulus         Frequency\n",
       "-----------------------------------------------------------------------------\n",
       "AR.1            1.0402           +0.0000j            1.0402            0.0000\n",
       "MA.1            1.0219           +0.0000j            1.0219            0.0000\n",
       "-----------------------------------------------------------------------------\n",
       "\"\"\""
      ]
     },
     "execution_count": 28,
     "metadata": {},
     "output_type": "execute_result"
    }
   ],
   "source": [
    "# summary of the data\n",
    "model_fit.summary()"
   ]
  },
  {
   "cell_type": "markdown",
   "metadata": {},
   "source": [
    "### 3e. Visualize the results \n",
    "\n",
    "Visualize the original dataset plotted against our model. "
   ]
  },
  {
   "cell_type": "code",
   "execution_count": 29,
   "metadata": {},
   "outputs": [
    {
     "data": {
      "text/plain": [
       "[<matplotlib.lines.Line2D at 0x2df4f30d700>]"
      ]
     },
     "execution_count": 29,
     "metadata": {},
     "output_type": "execute_result"
    },
    {
     "data": {
      "image/png": "[encoded data removed]",
      "text/plain": [
       "<Figure size 1080x720 with 1 Axes>"
      ]
     },
     "metadata": {
      "needs_background": "light"
     },
     "output_type": "display_data"
    }
   ],
   "source": [
    "# Call figure() and plot() on the plt\n",
    "plt.figure(figsize=(15,10))\n",
    "plt.plot(y_log.diff())\n",
    "plt.plot(model_fit.predict(), color = 'red')"
   ]
  },
  {
   "cell_type": "markdown",
   "metadata": {},
   "source": [
    "### 3f. Application: Forecasting\n",
    "\n",
    "We've done well: our model fits pretty closely to our existing data. Let's now use it to forecast what's likely to occur in future."
   ]
  },
  {
   "cell_type": "code",
   "execution_count": 30,
   "metadata": {
    "scrolled": true
   },
   "outputs": [
    {
     "data": {
      "image/png": "[encoded data removed]",
      "text/plain": [
       "<Figure size 1080x720 with 1 Axes>"
      ]
     },
     "metadata": {
      "needs_background": "light"
     },
     "output_type": "display_data"
    }
   ],
   "source": [
    "# Declare a variable called forecast_period with the amount of months to forecast, and\n",
    "# create a range of future dates that is the length of the periods you've chosen to forecast\n",
    "forecast_period = 12\n",
    "date_range = pd.date_range(y_log.index[-1], periods = forecast_period, \\\n",
    "                           freq='MS').strftime(\"%Y-%m-%d\").tolist()\n",
    "\n",
    "# Convert that range into a dataframe that includes your predictions\n",
    "# First, call DataFrame on pd\n",
    "future_months = pd.DataFrame(date_range, columns = ['Date'])\n",
    "# Let's now convert the 'Month' column to a datetime object with to_datetime \n",
    "future_months['Date'] = pd.to_datetime(future_months['Date'])\n",
    "future_months.set_index('Date', inplace = True)\n",
    "future_months['Prediction'] = forecast[0]\n",
    "\n",
    "# Plot your future predictions\n",
    "# Call figure() on plt\n",
    "plt.figure(figsize=(15,10))\n",
    "plt.plot(y)\n",
    "plt.plot(y['2019'].append(np.exp(future_months['Prediction'])))\n",
    "plt.show()"
   ]
  },
  {
   "cell_type": "markdown",
   "metadata": {},
   "source": [
    "### 3f. The LSTM Model"
   ]
  },
  {
   "cell_type": "code",
   "execution_count": 31,
   "metadata": {
    "scrolled": true
   },
   "outputs": [],
   "source": [
    "scaler=MinMaxScaler(feature_range=(0,1))\n",
    "df1=scaler.fit_transform(np.array(df1).reshape(-1,1))"
   ]
  },
  {
   "cell_type": "code",
   "execution_count": 32,
   "metadata": {},
   "outputs": [],
   "source": [
    "training_size=int(len(df1)*0.8)\n",
    "test_size=len(df1)-training_size\n",
    "train_data,test_data=df1[0:training_size,:],df1[training_size:len(df1),:1]"
   ]
  },
  {
   "cell_type": "code",
   "execution_count": 33,
   "metadata": {},
   "outputs": [
    {
     "data": {
      "text/plain": [
       "(1005, 252)"
      ]
     },
     "execution_count": 33,
     "metadata": {},
     "output_type": "execute_result"
    }
   ],
   "source": [
    "training_size,test_size"
   ]
  },
  {
   "cell_type": "code",
   "execution_count": 34,
   "metadata": {},
   "outputs": [
    {
     "data": {
      "text/plain": [
       "array([[0.16520333],\n",
       "       [0.14132774],\n",
       "       [0.13016017],\n",
       "       ...,\n",
       "       [0.55622314],\n",
       "       [0.5758626 ],\n",
       "       [0.56985522]])"
      ]
     },
     "execution_count": 34,
     "metadata": {},
     "output_type": "execute_result"
    }
   ],
   "source": [
    "train_data"
   ]
  },
  {
   "cell_type": "code",
   "execution_count": 35,
   "metadata": {},
   "outputs": [],
   "source": [
    "def create_dataset(dataset, time_step=1):\n",
    "    dataX, dataY = [], []\n",
    "    for i in range(len(dataset)-time_step-1):\n",
    "        a = dataset[i:(i+time_step), 0]   \n",
    "        dataX.append(a)\n",
    "        dataY.append(dataset[i + time_step, 0])\n",
    "    return np.array(dataX), np.array(dataY)"
   ]
  },
  {
   "cell_type": "code",
   "execution_count": 36,
   "metadata": {},
   "outputs": [],
   "source": [
    "time_step = 100\n",
    "X_train, y_train = create_dataset(train_data, time_step)\n",
    "X_test, ytest = create_dataset(test_data, time_step)"
   ]
  },
  {
   "cell_type": "code",
   "execution_count": 37,
   "metadata": {},
   "outputs": [
    {
     "name": "stdout",
     "output_type": "stream",
     "text": [
      "(904, 100)\n",
      "(904,)\n"
     ]
    },
    {
     "data": {
      "text/plain": [
       "(None, None)"
      ]
     },
     "execution_count": 37,
     "metadata": {},
     "output_type": "execute_result"
    }
   ],
   "source": [
    "print(X_train.shape), print(y_train.shape)"
   ]
  },
  {
   "cell_type": "code",
   "execution_count": 38,
   "metadata": {},
   "outputs": [
    {
     "name": "stdout",
     "output_type": "stream",
     "text": [
      "(151, 100)\n",
      "(151,)\n"
     ]
    },
    {
     "data": {
      "text/plain": [
       "(None, None)"
      ]
     },
     "execution_count": 38,
     "metadata": {},
     "output_type": "execute_result"
    }
   ],
   "source": [
    "print(X_test.shape), print(ytest.shape)"
   ]
  },
  {
   "cell_type": "code",
   "execution_count": 39,
   "metadata": {},
   "outputs": [],
   "source": [
    "X_train = X_train.reshape(X_train.shape[0],X_train.shape[1] , 1)\n",
    "X_test = X_test.reshape(X_test.shape[0],X_test.shape[1] , 1)"
   ]
  },
  {
   "cell_type": "code",
   "execution_count": 40,
   "metadata": {},
   "outputs": [],
   "source": [
    "model=Sequential()\n",
    "model.add(LSTM(50,return_sequences=True,input_shape=(100,1)))\n",
    "model.add(LSTM(50,return_sequences=True))\n",
    "model.add(LSTM(50))\n",
    "model.add(Dense(1))\n",
    "model.compile(loss='mean_squared_error',optimizer='adam')"
   ]
  },
  {
   "cell_type": "code",
   "execution_count": 41,
   "metadata": {},
   "outputs": [
    {
     "name": "stdout",
     "output_type": "stream",
     "text": [
      "Epoch 1/100\n",
      "15/15 [==============================] - 7s 232ms/step - loss: 0.0691 - val_loss: 0.0927\n",
      "Epoch 2/100\n",
      "15/15 [==============================] - 2s 148ms/step - loss: 0.0119 - val_loss: 0.0036\n",
      "Epoch 3/100\n",
      "15/15 [==============================] - 2s 146ms/step - loss: 0.0030 - val_loss: 0.0027\n",
      "Epoch 4/100\n",
      "15/15 [==============================] - 2s 145ms/step - loss: 0.0020 - val_loss: 0.0026\n",
      "Epoch 5/100\n",
      "15/15 [==============================] - 2s 151ms/step - loss: 0.0017 - val_loss: 0.0022\n",
      "Epoch 6/100\n",
      "15/15 [==============================] - 2s 146ms/step - loss: 0.0014 - val_loss: 0.0023\n",
      "Epoch 7/100\n",
      "15/15 [==============================] - 2s 142ms/step - loss: 0.0014 - val_loss: 0.0027\n",
      "Epoch 8/100\n",
      "15/15 [==============================] - 2s 149ms/step - loss: 0.0014 - val_loss: 0.0033\n",
      "Epoch 9/100\n",
      "15/15 [==============================] - 2s 152ms/step - loss: 0.0014 - val_loss: 0.0027\n",
      "Epoch 10/100\n",
      "15/15 [==============================] - 2s 146ms/step - loss: 0.0014 - val_loss: 0.0035\n",
      "Epoch 11/100\n",
      "15/15 [==============================] - 2s 148ms/step - loss: 0.0014 - val_loss: 0.0061\n",
      "Epoch 12/100\n",
      "15/15 [==============================] - 2s 148ms/step - loss: 0.0014 - val_loss: 0.0036\n",
      "Epoch 13/100\n",
      "15/15 [==============================] - 2s 166ms/step - loss: 0.0013 - val_loss: 0.0030\n",
      "Epoch 14/100\n",
      "15/15 [==============================] - 2s 151ms/step - loss: 0.0013 - val_loss: 0.0017\n",
      "Epoch 15/100\n",
      "15/15 [==============================] - 2s 150ms/step - loss: 0.0014 - val_loss: 0.0053\n",
      "Epoch 16/100\n",
      "15/15 [==============================] - 2s 158ms/step - loss: 0.0014 - val_loss: 0.0038\n",
      "Epoch 17/100\n",
      "15/15 [==============================] - 2s 163ms/step - loss: 0.0013 - val_loss: 0.0034\n",
      "Epoch 18/100\n",
      "15/15 [==============================] - 2s 163ms/step - loss: 0.0012 - val_loss: 0.0040\n",
      "Epoch 19/100\n",
      "15/15 [==============================] - 2s 161ms/step - loss: 0.0012 - val_loss: 0.0025\n",
      "Epoch 20/100\n",
      "15/15 [==============================] - 2s 155ms/step - loss: 0.0013 - val_loss: 0.0016\n",
      "Epoch 21/100\n",
      "15/15 [==============================] - 2s 148ms/step - loss: 0.0013 - val_loss: 0.0037\n",
      "Epoch 22/100\n",
      "15/15 [==============================] - 2s 148ms/step - loss: 0.0012 - val_loss: 0.0054\n",
      "Epoch 23/100\n",
      "15/15 [==============================] - 2s 148ms/step - loss: 0.0013 - val_loss: 0.0029\n",
      "Epoch 24/100\n",
      "15/15 [==============================] - 2s 149ms/step - loss: 0.0012 - val_loss: 0.0019\n",
      "Epoch 25/100\n",
      "15/15 [==============================] - 2s 147ms/step - loss: 0.0013 - val_loss: 0.0034\n",
      "Epoch 26/100\n",
      "15/15 [==============================] - 2s 156ms/step - loss: 0.0012 - val_loss: 0.0016\n",
      "Epoch 27/100\n",
      "15/15 [==============================] - 2s 149ms/step - loss: 0.0012 - val_loss: 0.0044\n",
      "Epoch 28/100\n",
      "15/15 [==============================] - 2s 148ms/step - loss: 0.0012 - val_loss: 0.0024\n",
      "Epoch 29/100\n",
      "15/15 [==============================] - 2s 148ms/step - loss: 0.0011 - val_loss: 0.0013\n",
      "Epoch 30/100\n",
      "15/15 [==============================] - 2s 149ms/step - loss: 0.0014 - val_loss: 0.0068\n",
      "Epoch 31/100\n",
      "15/15 [==============================] - 2s 147ms/step - loss: 0.0012 - val_loss: 0.0019\n",
      "Epoch 32/100\n",
      "15/15 [==============================] - 2s 158ms/step - loss: 0.0010 - val_loss: 0.0015\n",
      "Epoch 33/100\n",
      "15/15 [==============================] - 2s 157ms/step - loss: 0.0011 - val_loss: 0.0064\n",
      "Epoch 34/100\n",
      "15/15 [==============================] - 2s 151ms/step - loss: 0.0011 - val_loss: 0.0020\n",
      "Epoch 35/100\n",
      "15/15 [==============================] - 2s 150ms/step - loss: 9.9448e-04 - val_loss: 0.0016\n",
      "Epoch 36/100\n",
      "15/15 [==============================] - 2s 149ms/step - loss: 0.0010 - val_loss: 0.0034\n",
      "Epoch 37/100\n",
      "15/15 [==============================] - 2s 150ms/step - loss: 9.8213e-04 - val_loss: 0.0022\n",
      "Epoch 38/100\n",
      "15/15 [==============================] - 2s 147ms/step - loss: 9.8722e-04 - val_loss: 0.0013\n",
      "Epoch 39/100\n",
      "15/15 [==============================] - 2s 156ms/step - loss: 9.7341e-04 - val_loss: 0.0026\n",
      "Epoch 40/100\n",
      "15/15 [==============================] - ETA: 0s - loss: 9.3286e-0 - 3s 178ms/step - loss: 9.3286e-04 - val_loss: 0.0014\n",
      "Epoch 41/100\n",
      "15/15 [==============================] - 3s 190ms/step - loss: 0.0011 - val_loss: 0.0013\n",
      "Epoch 42/100\n",
      "15/15 [==============================] - 3s 186ms/step - loss: 9.3841e-04 - val_loss: 0.0022\n",
      "Epoch 43/100\n",
      "15/15 [==============================] - 3s 190ms/step - loss: 9.4480e-04 - val_loss: 0.0014\n",
      "Epoch 44/100\n",
      "15/15 [==============================] - 3s 166ms/step - loss: 9.0606e-04 - val_loss: 0.0021\n",
      "Epoch 45/100\n",
      "15/15 [==============================] - 2s 164ms/step - loss: 9.0496e-04 - val_loss: 9.2686e-04\n",
      "Epoch 46/100\n",
      "15/15 [==============================] - 3s 168ms/step - loss: 9.2392e-04 - val_loss: 0.0016\n",
      "Epoch 47/100\n",
      "15/15 [==============================] - 3s 177ms/step - loss: 9.4659e-04 - val_loss: 0.0018\n",
      "Epoch 48/100\n",
      "15/15 [==============================] - 2s 157ms/step - loss: 9.0089e-04 - val_loss: 0.0021\n",
      "Epoch 49/100\n",
      "15/15 [==============================] - 2s 160ms/step - loss: 8.8797e-04 - val_loss: 9.9388e-04\n",
      "Epoch 50/100\n",
      "15/15 [==============================] - 3s 175ms/step - loss: 8.5394e-04 - val_loss: 0.0022\n",
      "Epoch 51/100\n",
      "15/15 [==============================] - 3s 174ms/step - loss: 9.6348e-04 - val_loss: 0.0018\n",
      "Epoch 52/100\n",
      "15/15 [==============================] - 3s 176ms/step - loss: 8.5335e-04 - val_loss: 0.0023\n",
      "Epoch 53/100\n",
      "15/15 [==============================] - 2s 160ms/step - loss: 8.4196e-04 - val_loss: 0.0041\n",
      "Epoch 54/100\n",
      "15/15 [==============================] - 2s 165ms/step - loss: 8.7196e-04 - val_loss: 0.0029\n",
      "Epoch 55/100\n",
      "15/15 [==============================] - 2s 163ms/step - loss: 9.1664e-04 - val_loss: 0.0050\n",
      "Epoch 56/100\n",
      "15/15 [==============================] - 2s 153ms/step - loss: 0.0010 - val_loss: 0.0054\n",
      "Epoch 57/100\n",
      "15/15 [==============================] - 2s 152ms/step - loss: 8.9310e-04 - val_loss: 0.0024\n",
      "Epoch 58/100\n",
      "15/15 [==============================] - 2s 153ms/step - loss: 7.5644e-04 - val_loss: 0.0017\n",
      "Epoch 59/100\n",
      "15/15 [==============================] - 2s 165ms/step - loss: 7.1587e-04 - val_loss: 0.0018\n",
      "Epoch 60/100\n",
      "15/15 [==============================] - 2s 165ms/step - loss: 8.5240e-04 - val_loss: 7.3582e-04\n",
      "Epoch 61/100\n",
      "15/15 [==============================] - 3s 169ms/step - loss: 7.5866e-04 - val_loss: 0.0026\n",
      "Epoch 62/100\n",
      "15/15 [==============================] - 2s 166ms/step - loss: 6.7386e-04 - val_loss: 0.0015\n",
      "Epoch 63/100\n",
      "15/15 [==============================] - 3s 169ms/step - loss: 6.8039e-04 - val_loss: 8.0804e-04\n",
      "Epoch 64/100\n",
      "15/15 [==============================] - 2s 162ms/step - loss: 6.6981e-04 - val_loss: 0.0011\n",
      "Epoch 65/100\n",
      "15/15 [==============================] - 2s 160ms/step - loss: 6.4321e-04 - val_loss: 0.0023\n",
      "Epoch 66/100\n",
      "15/15 [==============================] - 2s 161ms/step - loss: 6.4419e-04 - val_loss: 0.0015\n",
      "Epoch 67/100\n",
      "15/15 [==============================] - 2s 162ms/step - loss: 6.4364e-04 - val_loss: 9.2594e-04\n",
      "Epoch 68/100\n",
      "15/15 [==============================] - 3s 192ms/step - loss: 5.8345e-04 - val_loss: 8.0345e-04\n",
      "Epoch 69/100\n",
      "15/15 [==============================] - 3s 204ms/step - loss: 6.2053e-04 - val_loss: 0.0017\n",
      "Epoch 70/100\n",
      "15/15 [==============================] - 3s 193ms/step - loss: 5.8350e-04 - val_loss: 0.0012\n",
      "Epoch 71/100\n",
      "15/15 [==============================] - 3s 162ms/step - loss: 5.9030e-04 - val_loss: 0.0015\n",
      "Epoch 72/100\n",
      "15/15 [==============================] - 2s 168ms/step - loss: 6.2999e-04 - val_loss: 0.0026\n",
      "Epoch 73/100\n",
      "15/15 [==============================] - 2s 163ms/step - loss: 5.9553e-04 - val_loss: 0.0011\n",
      "Epoch 74/100\n",
      "15/15 [==============================] - 2s 165ms/step - loss: 5.6699e-04 - val_loss: 9.4991e-04\n",
      "Epoch 75/100\n",
      "15/15 [==============================] - 2s 163ms/step - loss: 5.1558e-04 - val_loss: 0.0022\n",
      "Epoch 76/100\n",
      "15/15 [==============================] - 2s 164ms/step - loss: 5.7101e-04 - val_loss: 9.2124e-04\n",
      "Epoch 77/100\n",
      "15/15 [==============================] - 2s 156ms/step - loss: 5.3680e-04 - val_loss: 0.0011\n",
      "Epoch 78/100\n",
      "15/15 [==============================] - 2s 166ms/step - loss: 5.4058e-04 - val_loss: 9.7903e-04\n",
      "Epoch 79/100\n"
     ]
    },
    {
     "name": "stdout",
     "output_type": "stream",
     "text": [
      "15/15 [==============================] - 2s 161ms/step - loss: 5.1726e-04 - val_loss: 8.7829e-04\n",
      "Epoch 80/100\n",
      "15/15 [==============================] - 2s 158ms/step - loss: 4.9650e-04 - val_loss: 0.0019\n",
      "Epoch 81/100\n",
      "15/15 [==============================] - 2s 153ms/step - loss: 6.3179e-04 - val_loss: 6.7542e-04\n",
      "Epoch 82/100\n",
      "15/15 [==============================] - 2s 159ms/step - loss: 6.0065e-04 - val_loss: 0.0023\n",
      "Epoch 83/100\n",
      "15/15 [==============================] - 2s 158ms/step - loss: 5.0507e-04 - val_loss: 0.0015\n",
      "Epoch 84/100\n",
      "15/15 [==============================] - 2s 161ms/step - loss: 5.0212e-04 - val_loss: 8.1825e-04\n",
      "Epoch 85/100\n",
      "15/15 [==============================] - 3s 172ms/step - loss: 4.5323e-04 - val_loss: 0.0019\n",
      "Epoch 86/100\n",
      "15/15 [==============================] - 3s 172ms/step - loss: 4.7904e-04 - val_loss: 8.7684e-04\n",
      "Epoch 87/100\n",
      "15/15 [==============================] - 2s 162ms/step - loss: 4.4133e-04 - val_loss: 0.0028\n",
      "Epoch 88/100\n",
      "15/15 [==============================] - 2s 165ms/step - loss: 5.4926e-04 - val_loss: 5.1019e-04\n",
      "Epoch 89/100\n",
      "15/15 [==============================] - 3s 171ms/step - loss: 5.3415e-04 - val_loss: 0.0024\n",
      "Epoch 90/100\n",
      "15/15 [==============================] - 3s 167ms/step - loss: 5.7016e-04 - val_loss: 5.4667e-04\n",
      "Epoch 91/100\n",
      "15/15 [==============================] - 2s 162ms/step - loss: 4.9409e-04 - val_loss: 5.0588e-04\n",
      "Epoch 92/100\n",
      "15/15 [==============================] - 3s 172ms/step - loss: 4.5946e-04 - val_loss: 5.9315e-04\n",
      "Epoch 93/100\n",
      "15/15 [==============================] - 2s 157ms/step - loss: 4.2739e-04 - val_loss: 4.9179e-04\n",
      "Epoch 94/100\n",
      "15/15 [==============================] - 2s 156ms/step - loss: 5.6469e-04 - val_loss: 0.0024\n",
      "Epoch 95/100\n",
      "15/15 [==============================] - 2s 158ms/step - loss: 4.9950e-04 - val_loss: 4.3996e-04\n",
      "Epoch 96/100\n",
      "15/15 [==============================] - 2s 160ms/step - loss: 5.3365e-04 - val_loss: 0.0012\n",
      "Epoch 97/100\n",
      "15/15 [==============================] - 3s 173ms/step - loss: 4.7808e-04 - val_loss: 0.0018\n",
      "Epoch 98/100\n",
      "15/15 [==============================] - 2s 155ms/step - loss: 6.2900e-04 - val_loss: 4.3546e-04\n",
      "Epoch 99/100\n",
      "15/15 [==============================] - 2s 157ms/step - loss: 5.2023e-04 - val_loss: 0.0014\n",
      "Epoch 100/100\n",
      "15/15 [==============================] - 2s 158ms/step - loss: 5.0853e-04 - val_loss: 6.9194e-04\n"
     ]
    },
    {
     "data": {
      "text/plain": [
       "<keras.callbacks.History at 0x2df517eafa0>"
      ]
     },
     "execution_count": 41,
     "metadata": {},
     "output_type": "execute_result"
    }
   ],
   "source": [
    "model.fit(X_train,y_train,validation_data=(X_test,ytest),epochs=100,batch_size=64,verbose=1)"
   ]
  },
  {
   "cell_type": "code",
   "execution_count": 42,
   "metadata": {},
   "outputs": [],
   "source": [
    "train_predict=model.predict(X_train)\n",
    "test_predict=model.predict(X_test)"
   ]
  },
  {
   "cell_type": "code",
   "execution_count": 43,
   "metadata": {},
   "outputs": [],
   "source": [
    "train_predict=scaler.inverse_transform(train_predict)\n",
    "test_predict=scaler.inverse_transform(test_predict)"
   ]
  },
  {
   "cell_type": "code",
   "execution_count": 44,
   "metadata": {},
   "outputs": [
    {
     "data": {
      "text/plain": [
       "211.39995723701938"
      ]
     },
     "execution_count": 44,
     "metadata": {},
     "output_type": "execute_result"
    }
   ],
   "source": [
    "math.sqrt(mean_squared_error(y_train,train_predict))"
   ]
  },
  {
   "cell_type": "code",
   "execution_count": 45,
   "metadata": {},
   "outputs": [
    {
     "data": {
      "text/plain": [
       "266.46339441431763"
      ]
     },
     "execution_count": 45,
     "metadata": {},
     "output_type": "execute_result"
    }
   ],
   "source": [
    "math.sqrt(mean_squared_error(ytest,test_predict))"
   ]
  },
  {
   "cell_type": "code",
   "execution_count": 46,
   "metadata": {},
   "outputs": [
    {
     "data": {
      "image/png": "[encoded data removed]",
      "text/plain": [
       "<Figure size 432x288 with 1 Axes>"
      ]
     },
     "metadata": {
      "needs_background": "light"
     },
     "output_type": "display_data"
    }
   ],
   "source": [
    "### Plotting \n",
    "# shift train predictions for plotting\n",
    "look_back=100\n",
    "trainPredictPlot = np.empty_like(df1)\n",
    "trainPredictPlot[:, :] = np.nan\n",
    "trainPredictPlot[look_back:len(train_predict)+look_back, :] = train_predict\n",
    "# shift test predictions for plotting\n",
    "testPredictPlot = np.empty_like(df1)\n",
    "testPredictPlot[:, :] = np.nan\n",
    "testPredictPlot[len(train_predict)+(look_back*2)+1:len(df1)-1, :] = test_predict\n",
    "# plot\n",
    "plt.plot(scaler.inverse_transform(df1))\n",
    "plt.plot(trainPredictPlot)\n",
    "plt.plot(testPredictPlot)\n",
    "plt.show()"
   ]
  },
  {
   "cell_type": "code",
   "execution_count": 47,
   "metadata": {},
   "outputs": [
    {
     "data": {
      "text/plain": [
       "252"
      ]
     },
     "execution_count": 47,
     "metadata": {},
     "output_type": "execute_result"
    }
   ],
   "source": [
    "len(test_data)"
   ]
  },
  {
   "cell_type": "code",
   "execution_count": 48,
   "metadata": {},
   "outputs": [
    {
     "data": {
      "text/plain": [
       "(1, 0)"
      ]
     },
     "execution_count": 48,
     "metadata": {},
     "output_type": "execute_result"
    }
   ],
   "source": [
    "x_input=test_data[340:].reshape(1,-1)\n",
    "x_input.shape"
   ]
  },
  {
   "cell_type": "code",
   "execution_count": 49,
   "metadata": {
    "scrolled": true
   },
   "outputs": [],
   "source": [
    "temp_input=list(x_input)\n",
    "temp_input=temp_input[0].tolist()"
   ]
  },
  {
   "cell_type": "code",
   "execution_count": 50,
   "metadata": {},
   "outputs": [
    {
     "ename": "ValueError",
     "evalue": "cannot reshape array of size 0 into shape (1,100,1)",
     "output_type": "error",
     "traceback": [
      "\u001b[1;31m---------------------------------------------------------------------------\u001b[0m",
      "\u001b[1;31mValueError\u001b[0m                                Traceback (most recent call last)",
      "\u001b[1;32m<ipython-input-50-e6e317ed5141>\u001b[0m in \u001b[0;36m<module>\u001b[1;34m\u001b[0m\n\u001b[0;32m     21\u001b[0m         \u001b[0mi\u001b[0m\u001b[1;33m=\u001b[0m\u001b[0mi\u001b[0m\u001b[1;33m+\u001b[0m\u001b[1;36m1\u001b[0m\u001b[1;33m\u001b[0m\u001b[1;33m\u001b[0m\u001b[0m\n\u001b[0;32m     22\u001b[0m     \u001b[1;32melse\u001b[0m\u001b[1;33m:\u001b[0m\u001b[1;33m\u001b[0m\u001b[1;33m\u001b[0m\u001b[0m\n\u001b[1;32m---> 23\u001b[1;33m         \u001b[0mx_input\u001b[0m \u001b[1;33m=\u001b[0m \u001b[0mx_input\u001b[0m\u001b[1;33m.\u001b[0m\u001b[0mreshape\u001b[0m\u001b[1;33m(\u001b[0m\u001b[1;33m(\u001b[0m\u001b[1;36m1\u001b[0m\u001b[1;33m,\u001b[0m \u001b[0mn_steps\u001b[0m\u001b[1;33m,\u001b[0m\u001b[1;36m1\u001b[0m\u001b[1;33m)\u001b[0m\u001b[1;33m)\u001b[0m\u001b[1;33m\u001b[0m\u001b[1;33m\u001b[0m\u001b[0m\n\u001b[0m\u001b[0;32m     24\u001b[0m         \u001b[0myhat\u001b[0m \u001b[1;33m=\u001b[0m \u001b[0mmodel\u001b[0m\u001b[1;33m.\u001b[0m\u001b[0mpredict\u001b[0m\u001b[1;33m(\u001b[0m\u001b[0mx_input\u001b[0m\u001b[1;33m,\u001b[0m \u001b[0mverbose\u001b[0m\u001b[1;33m=\u001b[0m\u001b[1;36m0\u001b[0m\u001b[1;33m)\u001b[0m\u001b[1;33m\u001b[0m\u001b[1;33m\u001b[0m\u001b[0m\n\u001b[0;32m     25\u001b[0m         \u001b[0mprint\u001b[0m\u001b[1;33m(\u001b[0m\u001b[0myhat\u001b[0m\u001b[1;33m[\u001b[0m\u001b[1;36m0\u001b[0m\u001b[1;33m]\u001b[0m\u001b[1;33m)\u001b[0m\u001b[1;33m\u001b[0m\u001b[1;33m\u001b[0m\u001b[0m\n",
      "\u001b[1;31mValueError\u001b[0m: cannot reshape array of size 0 into shape (1,100,1)"
     ]
    }
   ],
   "source": [
    "from numpy import array\n",
    "\n",
    "lst_output=[]\n",
    "n_steps=100\n",
    "i=0\n",
    "while(i<30):\n",
    "    \n",
    "    if(len(temp_input)>100):\n",
    "        #print(temp_input)\n",
    "        x_input=np.array(temp_input[1:])\n",
    "        print(\"{} day input {}\".format(i,x_input))\n",
    "        x_input=x_input.reshape(1,-1)\n",
    "        x_input = x_input.reshape((1, n_steps, 1))\n",
    "        #print(x_input)\n",
    "        yhat = model.predict(x_input, verbose=0)\n",
    "        print(\"{} day output {}\".format(i,yhat))\n",
    "        temp_input.extend(yhat[0].tolist())\n",
    "        temp_input=temp_input[1:]\n",
    "        #print(temp_input)\n",
    "        lst_output.extend(yhat.tolist())\n",
    "        i=i+1\n",
    "    else:\n",
    "        x_input = x_input.reshape((1, n_steps,1))\n",
    "        yhat = model.predict(x_input, verbose=0)\n",
    "        print(yhat[0])\n",
    "        temp_input.extend(yhat[0].tolist())\n",
    "        print(len(temp_input))\n",
    "        lst_output.extend(yhat.tolist())\n",
    "        i=i+1\n",
    "    \n",
    "\n",
    "print(lst_output)"
   ]
  },
  {
   "cell_type": "code",
   "execution_count": null,
   "metadata": {},
   "outputs": [],
   "source": [
    "day_new=np.arange(1,101)\n",
    "day_pred=np.arange(101,131)"
   ]
  },
  {
   "cell_type": "code",
   "execution_count": null,
   "metadata": {},
   "outputs": [],
   "source": [
    "len(df1)"
   ]
  },
  {
   "cell_type": "code",
   "execution_count": null,
   "metadata": {},
   "outputs": [],
   "source": [
    "plt.plot(day_new,scaler.inverse_transform(df1[1157:]))\n",
    "plt.plot(day_pred,scaler.inverse_transform(lst_output))"
   ]
  },
  {
   "cell_type": "code",
   "execution_count": null,
   "metadata": {},
   "outputs": [],
   "source": [
    "df3=df1.tolist()\n",
    "df3.extend(lst_output)\n",
    "plt.plot(df3[1200:])"
   ]
  },
  {
   "cell_type": "code",
   "execution_count": null,
   "metadata": {},
   "outputs": [],
   "source": [
    "df3=scaler.inverse_transform(df3).tolist()"
   ]
  },
  {
   "cell_type": "code",
   "execution_count": null,
   "metadata": {},
   "outputs": [],
   "source": [
    "plt.plot(df3)"
   ]
  }
 ],
 "metadata": {
  "kernelspec": {
   "display_name": "Python 3",
   "language": "python",
   "name": "python3"
  },
  "language_info": {
   "codemirror_mode": {
    "name": "ipython",
    "version": 3
   },
   "file_extension": ".py",
   "mimetype": "text/x-python",
   "name": "python",
   "nbconvert_exporter": "python",
   "pygments_lexer": "ipython3",
   "version": "3.8.8"
  }
 },
 "nbformat": 4,
 "nbformat_minor": 2
}
