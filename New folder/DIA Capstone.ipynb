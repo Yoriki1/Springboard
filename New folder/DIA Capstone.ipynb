{
 "cells": [
  {
   "cell_type": "markdown",
   "id": "3ed36fd0",
   "metadata": {},
   "source": [
    "# DIA Capstone: Modeling"
   ]
  },
  {
   "cell_type": "markdown",
   "id": "8b6a1d04",
   "metadata": {},
   "source": [
    "## 1. Sourcing and Loading"
   ]
  },
  {
   "cell_type": "markdown",
   "id": "59a06e5a",
   "metadata": {},
   "source": [
    "### 1a. Load relevant libraries "
   ]
  },
  {
   "cell_type": "code",
   "execution_count": 1,
   "id": "16c02d7c",
   "metadata": {},
   "outputs": [],
   "source": [
    "import pandas as pd\n",
    "import math\n",
    "import numpy as np\n",
    "import matplotlib.pylab as plt\n",
    "%matplotlib inline\n",
    "from sklearn.metrics import mean_squared_error\n",
    "from statsmodels.tsa.arima_model import ARIMA\n",
    "from sklearn.preprocessing import MinMaxScaler\n",
    "from tensorflow.keras.models import Sequential\n",
    "from tensorflow.keras.layers import Dense, Dropout, LSTM\n",
    "from tensorflow.keras.callbacks import ModelCheckpoint, EarlyStopping\n",
    "from sklearn.metrics import mean_squared_error\n",
    "import math"
   ]
  },
  {
   "cell_type": "markdown",
   "id": "97d545c5",
   "metadata": {},
   "source": [
    "### 1b. Load the data"
   ]
  },
  {
   "cell_type": "code",
   "execution_count": 2,
   "id": "865af503",
   "metadata": {},
   "outputs": [],
   "source": [
    "DIA = pd.read_csv('DIA (3).csv')"
   ]
  },
  {
   "cell_type": "markdown",
   "id": "552abe5b",
   "metadata": {},
   "source": [
    "### 1c. Explore the data\n",
    "We now need to check whether the data conduces to a time series style analysis."
   ]
  },
  {
   "cell_type": "code",
   "execution_count": 3,
   "id": "113a0790",
   "metadata": {},
   "outputs": [
    {
     "name": "stdout",
     "output_type": "stream",
     "text": [
      "<class 'pandas.core.frame.DataFrame'>\n",
      "RangeIndex: 1257 entries, 0 to 1256\n",
      "Data columns (total 7 columns):\n",
      " #   Column     Non-Null Count  Dtype  \n",
      "---  ------     --------------  -----  \n",
      " 0   Date       1257 non-null   object \n",
      " 1   Open       1257 non-null   float64\n",
      " 2   High       1257 non-null   float64\n",
      " 3   Low        1257 non-null   float64\n",
      " 4   Close      1257 non-null   float64\n",
      " 5   Adj Close  1257 non-null   float64\n",
      " 6   Volume     1257 non-null   int64  \n",
      "dtypes: float64(5), int64(1), object(1)\n",
      "memory usage: 68.9+ KB\n"
     ]
    }
   ],
   "source": [
    "DIA.info()"
   ]
  },
  {
   "cell_type": "code",
   "execution_count": 4,
   "id": "76fd1cd2",
   "metadata": {},
   "outputs": [
    {
     "data": {
      "text/html": [
       "<div>\n",
       "<style scoped>\n",
       "    .dataframe tbody tr th:only-of-type {\n",
       "        vertical-align: middle;\n",
       "    }\n",
       "\n",
       "    .dataframe tbody tr th {\n",
       "        vertical-align: top;\n",
       "    }\n",
       "\n",
       "    .dataframe thead th {\n",
       "        text-align: right;\n",
       "    }\n",
       "</style>\n",
       "<table border=\"1\" class=\"dataframe\">\n",
       "  <thead>\n",
       "    <tr style=\"text-align: right;\">\n",
       "      <th></th>\n",
       "      <th>Date</th>\n",
       "      <th>Open</th>\n",
       "      <th>High</th>\n",
       "      <th>Low</th>\n",
       "      <th>Close</th>\n",
       "      <th>Adj Close</th>\n",
       "      <th>Volume</th>\n",
       "    </tr>\n",
       "  </thead>\n",
       "  <tbody>\n",
       "    <tr>\n",
       "      <th>0</th>\n",
       "      <td>1/2/2015</td>\n",
       "      <td>178.649994</td>\n",
       "      <td>179.229996</td>\n",
       "      <td>176.979996</td>\n",
       "      <td>177.940002</td>\n",
       "      <td>153.454803</td>\n",
       "      <td>4997200</td>\n",
       "    </tr>\n",
       "    <tr>\n",
       "      <th>1</th>\n",
       "      <td>1/5/2015</td>\n",
       "      <td>177.059998</td>\n",
       "      <td>177.210007</td>\n",
       "      <td>174.460007</td>\n",
       "      <td>174.839996</td>\n",
       "      <td>150.781387</td>\n",
       "      <td>6700200</td>\n",
       "    </tr>\n",
       "    <tr>\n",
       "      <th>2</th>\n",
       "      <td>1/6/2015</td>\n",
       "      <td>175.100006</td>\n",
       "      <td>175.539993</td>\n",
       "      <td>172.320007</td>\n",
       "      <td>173.389999</td>\n",
       "      <td>149.530914</td>\n",
       "      <td>10131400</td>\n",
       "    </tr>\n",
       "    <tr>\n",
       "      <th>3</th>\n",
       "      <td>1/7/2015</td>\n",
       "      <td>174.850006</td>\n",
       "      <td>175.789993</td>\n",
       "      <td>174.240005</td>\n",
       "      <td>175.589996</td>\n",
       "      <td>151.428162</td>\n",
       "      <td>5547000</td>\n",
       "    </tr>\n",
       "    <tr>\n",
       "      <th>4</th>\n",
       "      <td>1/8/2015</td>\n",
       "      <td>177.259995</td>\n",
       "      <td>178.960007</td>\n",
       "      <td>177.210007</td>\n",
       "      <td>178.759995</td>\n",
       "      <td>154.161942</td>\n",
       "      <td>7166700</td>\n",
       "    </tr>\n",
       "  </tbody>\n",
       "</table>\n",
       "</div>"
      ],
      "text/plain": [
       "       Date        Open        High         Low       Close   Adj Close  \\\n",
       "0  1/2/2015  178.649994  179.229996  176.979996  177.940002  153.454803   \n",
       "1  1/5/2015  177.059998  177.210007  174.460007  174.839996  150.781387   \n",
       "2  1/6/2015  175.100006  175.539993  172.320007  173.389999  149.530914   \n",
       "3  1/7/2015  174.850006  175.789993  174.240005  175.589996  151.428162   \n",
       "4  1/8/2015  177.259995  178.960007  177.210007  178.759995  154.161942   \n",
       "\n",
       "     Volume  \n",
       "0   4997200  \n",
       "1   6700200  \n",
       "2  10131400  \n",
       "3   5547000  \n",
       "4   7166700  "
      ]
     },
     "execution_count": 4,
     "metadata": {},
     "output_type": "execute_result"
    }
   ],
   "source": [
    "DIA.head()"
   ]
  },
  {
   "cell_type": "code",
   "execution_count": 5,
   "id": "c4b6cb62",
   "metadata": {
    "scrolled": true
   },
   "outputs": [
    {
     "data": {
      "text/plain": [
       "Date         0\n",
       "Open         0\n",
       "High         0\n",
       "Low          0\n",
       "Close        0\n",
       "Adj Close    0\n",
       "Volume       0\n",
       "dtype: int64"
      ]
     },
     "execution_count": 5,
     "metadata": {},
     "output_type": "execute_result"
    }
   ],
   "source": [
    "DIA.isna().sum()"
   ]
  },
  {
   "cell_type": "markdown",
   "id": "82cded9c",
   "metadata": {},
   "source": [
    "## 2. ARIMA"
   ]
  },
  {
   "cell_type": "markdown",
   "id": "49636c3c",
   "metadata": {},
   "source": [
    "### 2a. Cleaning, transforming and visualizing for ARIMA "
   ]
  },
  {
   "cell_type": "code",
   "execution_count": 6,
   "id": "c59637b0",
   "metadata": {
    "scrolled": true
   },
   "outputs": [],
   "source": [
    "DIA['Date'] = pd.to_datetime(DIA['Date'])"
   ]
  },
  {
   "cell_type": "code",
   "execution_count": 7,
   "id": "94322145",
   "metadata": {},
   "outputs": [],
   "source": [
    "DIA = DIA.set_index('Date').asfreq('B').ffill()"
   ]
  },
  {
   "cell_type": "code",
   "execution_count": 8,
   "id": "ec558614",
   "metadata": {},
   "outputs": [],
   "source": [
    "y = DIA['Adj Close']"
   ]
  },
  {
   "cell_type": "code",
   "execution_count": 9,
   "id": "00aeaa9c",
   "metadata": {},
   "outputs": [
    {
     "data": {
      "text/plain": [
       "pandas.core.series.Series"
      ]
     },
     "execution_count": 9,
     "metadata": {},
     "output_type": "execute_result"
    }
   ],
   "source": [
    "type(y)"
   ]
  },
  {
   "cell_type": "code",
   "execution_count": 10,
   "id": "543bc118",
   "metadata": {},
   "outputs": [
    {
     "data": {
      "text/plain": [
       "0"
      ]
     },
     "execution_count": 10,
     "metadata": {},
     "output_type": "execute_result"
    }
   ],
   "source": [
    "y.isna().sum()"
   ]
  },
  {
   "cell_type": "markdown",
   "id": "a8fba9d0",
   "metadata": {},
   "source": [
    "### 2b. Decomposition"
   ]
  },
  {
   "cell_type": "code",
   "execution_count": 11,
   "id": "e22db94d",
   "metadata": {},
   "outputs": [
    {
     "data": {
      "image/png": "[encoded data removed]",
      "text/plain": [
       "<Figure size 432x288 with 4 Axes>"
      ]
     },
     "metadata": {
      "needs_background": "light"
     },
     "output_type": "display_data"
    }
   ],
   "source": [
    "from statsmodels.tsa.seasonal import seasonal_decompose\n",
    "\n",
    "decomposition = seasonal_decompose(y)\n",
    "\n",
    "trend = decomposition.trend\n",
    "seasonal = decomposition.seasonal\n",
    "residual = decomposition.resid\n",
    "\n",
    "# Plot the original data, the trend, the seasonality, and the residuals \n",
    "plt.subplot(411)\n",
    "plt.plot(y, label = 'Original')\n",
    "plt.legend(loc = 'best')\n",
    "plt.subplot(412)\n",
    "plt.plot(trend, label = 'Trend')\n",
    "plt.legend(loc = 'best')\n",
    "plt.subplot(413)\n",
    "plt.plot(seasonal, label = \"Seasonality\")\n",
    "plt.legend(loc = 'best')\n",
    "plt.subplot(414)\n",
    "plt.plot(residual, label = \"Residual\")\n",
    "plt.tight_layout()"
   ]
  },
  {
   "cell_type": "markdown",
   "id": "4f534d1a",
   "metadata": {},
   "source": [
    "### 2b. Testing for stationarity with KPSS"
   ]
  },
  {
   "cell_type": "code",
   "execution_count": 12,
   "id": "ae01fad0",
   "metadata": {},
   "outputs": [
    {
     "name": "stderr",
     "output_type": "stream",
     "text": [
      "C:\\Users\\yorik\\anaconda3\\lib\\site-packages\\statsmodels\\tsa\\stattools.py:1875: FutureWarning: The behavior of using nlags=None will change in release 0.13.Currently nlags=None is the same as nlags=\"legacy\", and so a sample-size lag length is used. After the next release, the default will change to be the same as nlags=\"auto\" which uses an automatic lag length selection method. To silence this warning, either use \"auto\" or \"legacy\"\n",
      "  warnings.warn(msg, FutureWarning)\n",
      "C:\\Users\\yorik\\anaconda3\\lib\\site-packages\\statsmodels\\tsa\\stattools.py:1906: InterpolationWarning: The test statistic is outside of the range of p-values available in the\n",
      "look-up table. The actual p-value is smaller than the p-value returned.\n",
      "\n",
      "  warnings.warn(\n"
     ]
    },
    {
     "data": {
      "text/plain": [
       "(5.3803298534460815,\n",
       " 0.01,\n",
       " 23,\n",
       " {'10%': 0.347, '5%': 0.463, '2.5%': 0.574, '1%': 0.739})"
      ]
     },
     "execution_count": 12,
     "metadata": {},
     "output_type": "execute_result"
    }
   ],
   "source": [
    "from statsmodels.tsa.stattools import kpss\n",
    "kpss(y)"
   ]
  },
  {
   "cell_type": "markdown",
   "id": "169a3652",
   "metadata": {},
   "source": [
    "### 2c. Making the data stationary "
   ]
  },
  {
   "cell_type": "code",
   "execution_count": 13,
   "id": "dd9638c9",
   "metadata": {},
   "outputs": [],
   "source": [
    "y_log = np.log(y)"
   ]
  },
  {
   "cell_type": "code",
   "execution_count": 14,
   "id": "0ab68f7f",
   "metadata": {
    "scrolled": true
   },
   "outputs": [
    {
     "data": {
      "image/png": "[encoded data removed]",
      "text/plain": [
       "<Figure size 720x360 with 1 Axes>"
      ]
     },
     "metadata": {
      "needs_background": "light"
     },
     "output_type": "display_data"
    }
   ],
   "source": [
    "_ = plt.figure(figsize=(10,5))\n",
    "_ = plt.plot(y_log.diff())"
   ]
  },
  {
   "cell_type": "code",
   "execution_count": 15,
   "id": "885bd3e9",
   "metadata": {
    "scrolled": false
   },
   "outputs": [
    {
     "name": "stderr",
     "output_type": "stream",
     "text": [
      "C:\\Users\\yorik\\anaconda3\\lib\\site-packages\\statsmodels\\tsa\\stattools.py:1910: InterpolationWarning: The test statistic is outside of the range of p-values available in the\n",
      "look-up table. The actual p-value is greater than the p-value returned.\n",
      "\n",
      "  warnings.warn(\n"
     ]
    },
    {
     "data": {
      "text/plain": [
       "(0.08738928379019296,\n",
       " 0.1,\n",
       " 23,\n",
       " {'10%': 0.347, '5%': 0.463, '2.5%': 0.574, '1%': 0.739})"
      ]
     },
     "execution_count": 15,
     "metadata": {},
     "output_type": "execute_result"
    }
   ],
   "source": [
    "kpss(y_log.diff().dropna())"
   ]
  },
  {
   "cell_type": "markdown",
   "id": "f57c9173",
   "metadata": {},
   "source": [
    "### 2d. The ARIMA model"
   ]
  },
  {
   "cell_type": "code",
   "execution_count": 16,
   "id": "238ff8db",
   "metadata": {},
   "outputs": [],
   "source": [
    "# Make a function called evaluate_arima_model to find the MSE of a single ARIMA model \n",
    "def evaluate_arima_model(data, arima_order):\n",
    "    split=int(len(data) * 0.65) \n",
    "    # Make train and test variables, with 'train, test'\n",
    "    train, test = data[0:split], data[split:len(data)]\n",
    "    past=[x for x in train]\n",
    "    # make predictions\n",
    "    predictions = list()\n",
    "    for i in range(len(test)):\n",
    "        model = ARIMA(past, order=arima_order)\n",
    "        model_fit = model.fit(disp=0)\n",
    "        future = model_fit.forecast()[0]\n",
    "        predictions.append(future)\n",
    "        past.append(test[i])\n",
    "    # calculate out of sample error\n",
    "    error = mean_squared_error(test, predictions)\n",
    "    # Return the error\n",
    "    return error"
   ]
  },
  {
   "cell_type": "code",
   "execution_count": null,
   "id": "09d30bde",
   "metadata": {},
   "outputs": [],
   "source": [
    "# Make a function called evaluate_models to evaluate different ARIMA models with several different p, d, and q values.\n",
    "def evaluate_models(dataset, p_values, d_values, q_values):\n",
    "    best_score, best_cfg = float(\"inf\"), None\n",
    "    # Iterate through p_values\n",
    "    for p in p_values:\n",
    "        # Iterate through d_values\n",
    "        for d in d_values:\n",
    "            # Iterate through q_values\n",
    "            for q in q_values:\n",
    "                # p, d, q iterator variables\n",
    "                order = (p,d,q)\n",
    "                try:\n",
    "                    # Make a variable called mse for the Mean squared error\n",
    "                    mse = evaluate_arima_model(dataset, order)\n",
    "                    if mse < best_score:\n",
    "                        best_score, best_cfg = mse, order\n",
    "                    print('ARIMA%s MSE=%.6f' % (order,mse))\n",
    "                except:\n",
    "                    continue\n",
    "    return print('Best ARIMA%s MSE=%.6f' % (best_cfg, best_score))"
   ]
  },
  {
   "cell_type": "code",
   "execution_count": null,
   "id": "da814c53",
   "metadata": {},
   "outputs": [],
   "source": [
    "p_values = [x for x in range(0, 3)]\n",
    "d_values = [x for x in range(0, 3)]\n",
    "q_values = [x for x in range(0, 3)]"
   ]
  },
  {
   "cell_type": "code",
   "execution_count": null,
   "id": "64b29c6e",
   "metadata": {
    "scrolled": true
   },
   "outputs": [
    {
     "name": "stdout",
     "output_type": "stream",
     "text": [
      "ARIMA(0, 0, 0) MSE=0.07860\n",
      "ARIMA(0, 0, 1) MSE=0.02054\n",
      "ARIMA(0, 1, 0) MSE=0.00008\n",
      "ARIMA(0, 1, 1) MSE=0.00008\n",
      "ARIMA(0, 1, 2) MSE=0.00008\n",
      "ARIMA(0, 2, 0) MSE=0.00016\n",
      "ARIMA(0, 2, 1) MSE=0.00008\n",
      "ARIMA(0, 2, 2) MSE=0.00008\n",
      "ARIMA(1, 0, 0) MSE=0.00008\n",
      "ARIMA(1, 1, 0) MSE=0.00008\n",
      "ARIMA(1, 1, 1) MSE=0.00008\n",
      "ARIMA(1, 2, 0) MSE=0.00012\n",
      "ARIMA(2, 0, 0) MSE=57123.24922\n",
      "ARIMA(2, 1, 0) MSE=0.00008\n"
     ]
    }
   ],
   "source": [
    "import warnings\n",
    "warnings.filterwarnings(\"ignore\")\n",
    "evaluate_models(y_log, p_values, d_values, q_values)"
   ]
  },
  {
   "cell_type": "code",
   "execution_count": null,
   "id": "4935cfe5",
   "metadata": {},
   "outputs": [],
   "source": [
    "p=0\n",
    "d=1\n",
    "q=0\n",
    "model = ARIMA(y_log, order=(p,d,q))\n",
    "model_fit = model.fit()\n",
    "forecast = model_fit.forecast(12)"
   ]
  },
  {
   "cell_type": "code",
   "execution_count": null,
   "id": "7ef0953d",
   "metadata": {
    "scrolled": false
   },
   "outputs": [],
   "source": [
    "model_fit.summary()"
   ]
  },
  {
   "cell_type": "markdown",
   "id": "224b3cab",
   "metadata": {},
   "source": [
    "### 2e. Visualize the results "
   ]
  },
  {
   "cell_type": "code",
   "execution_count": null,
   "id": "79f5cbcf",
   "metadata": {
    "scrolled": true
   },
   "outputs": [],
   "source": [
    "# Call figure() and plot() on the plt\n",
    "plt.figure(figsize=(15,10))\n",
    "plt.plot(y_log.diff())\n",
    "plt.plot(model_fit.predict(), color = 'red')"
   ]
  },
  {
   "cell_type": "markdown",
   "id": "335e21fc",
   "metadata": {},
   "source": [
    "### 2f. Application: Forecasting"
   ]
  },
  {
   "cell_type": "code",
   "execution_count": null,
   "id": "d6779307",
   "metadata": {
    "scrolled": true
   },
   "outputs": [],
   "source": [
    "forecast_period = 12\n",
    "date_range = pd.date_range(y_log.index[-1], periods = forecast_period, \\\n",
    "                           freq='D').strftime(\"%Y-%m-%d\").tolist()\n",
    "\n",
    "future_dates = pd.DataFrame(date_range, columns = ['Date'])\n",
    "future_dates['Date'] = pd.to_datetime(future_dates['Date'])\n",
    "future_dates.set_index('Date', inplace = True)\n",
    "future_dates['Prediction'] = forecast[0]\n",
    "\n",
    "\n",
    "plt.figure(figsize=(15,10))\n",
    "plt.plot(y)\n",
    "plt.plot(y['2019'].append(np.exp(future_dates['Prediction'])))\n",
    "plt.show()"
   ]
  },
  {
   "cell_type": "markdown",
   "id": "4c045bc5",
   "metadata": {},
   "source": [
    "## 3. LSTM"
   ]
  },
  {
   "cell_type": "markdown",
   "id": "fe0c2580",
   "metadata": {},
   "source": [
    "### 3a. Cleaning, transforming and visualizing for LSTM"
   ]
  },
  {
   "cell_type": "code",
   "execution_count": null,
   "id": "d6e4d47b",
   "metadata": {},
   "outputs": [],
   "source": [
    "y.head()"
   ]
  },
  {
   "cell_type": "code",
   "execution_count": null,
   "id": "a8f4f7ea",
   "metadata": {
    "scrolled": true
   },
   "outputs": [],
   "source": [
    "plt.plot(y)\n",
    "plt.show()"
   ]
  },
  {
   "cell_type": "markdown",
   "id": "11359909",
   "metadata": {},
   "source": [
    "### 3b. Scaling the data"
   ]
  },
  {
   "cell_type": "code",
   "execution_count": null,
   "id": "6fb5b4af",
   "metadata": {},
   "outputs": [],
   "source": [
    "# Scaling the data since LSTM is sensitive to the scale of the data\n",
    "scaler=MinMaxScaler(feature_range=(0,1))\n",
    "y=scaler.fit_transform(np.array(y).reshape(-1,1))"
   ]
  },
  {
   "cell_type": "code",
   "execution_count": null,
   "id": "d634c143",
   "metadata": {},
   "outputs": [],
   "source": [
    "y"
   ]
  },
  {
   "cell_type": "markdown",
   "id": "3cb34407",
   "metadata": {},
   "source": [
    "### 3c. Train, Test split"
   ]
  },
  {
   "cell_type": "code",
   "execution_count": null,
   "id": "ddcd9e4f",
   "metadata": {},
   "outputs": [],
   "source": [
    "# train , test split\n",
    "training_size=int(len(y)*0.65)\n",
    "test_size=len(y)-training_size\n",
    "train_data,test_data=y[0:training_size,:],y[training_size:len(y),:1]"
   ]
  },
  {
   "cell_type": "code",
   "execution_count": null,
   "id": "b44a68e8",
   "metadata": {},
   "outputs": [],
   "source": [
    "training_size,test_size"
   ]
  },
  {
   "cell_type": "code",
   "execution_count": null,
   "id": "fb6d8e68",
   "metadata": {},
   "outputs": [],
   "source": [
    "def create_dataset(dataset, time_step=1):\n",
    "    dataX, dataY = [], []\n",
    "    for i in range(len(dataset)-time_step-1):\n",
    "        a = dataset[i:(i+time_step), 0]   \n",
    "        dataX.append(a)\n",
    "        dataY.append(dataset[i + time_step, 0])\n",
    "    return np.array(dataX), np.array(dataY)"
   ]
  },
  {
   "cell_type": "code",
   "execution_count": null,
   "id": "5f67fa0d",
   "metadata": {},
   "outputs": [],
   "source": [
    "time_step = 100\n",
    "X_train, y_train = create_dataset(train_data, time_step)\n",
    "X_test, y_test = create_dataset(test_data, time_step)"
   ]
  },
  {
   "cell_type": "code",
   "execution_count": null,
   "id": "69711fd4",
   "metadata": {},
   "outputs": [],
   "source": [
    "X_train.shape, y_train.shape"
   ]
  },
  {
   "cell_type": "code",
   "execution_count": null,
   "id": "f1e3c201",
   "metadata": {},
   "outputs": [],
   "source": [
    "X_test.shape, y_test.shape"
   ]
  },
  {
   "cell_type": "code",
   "execution_count": null,
   "id": "63dac799",
   "metadata": {},
   "outputs": [],
   "source": [
    "X_train = X_train.reshape(X_train.shape[0],X_train.shape[1] , 1)\n",
    "X_test = X_test.reshape(X_test.shape[0],X_test.shape[1] , 1)"
   ]
  },
  {
   "cell_type": "markdown",
   "id": "399f1884",
   "metadata": {},
   "source": [
    "### 3d. The LSTM model"
   ]
  },
  {
   "cell_type": "code",
   "execution_count": null,
   "id": "2887cd68",
   "metadata": {},
   "outputs": [],
   "source": [
    "model=Sequential()\n",
    "model.add(LSTM(50,return_sequences=True,input_shape=(100,1)))\n",
    "model.add(LSTM(50,return_sequences=True))\n",
    "model.add(LSTM(50))\n",
    "model.add(Dense(1))\n",
    "model.compile(loss='mean_squared_error',optimizer='adam')"
   ]
  },
  {
   "cell_type": "code",
   "execution_count": null,
   "id": "f5d4e3ea",
   "metadata": {},
   "outputs": [],
   "source": [
    "model.fit(X_train,y_train,validation_data=(X_test,y_test),epochs=100,batch_size=64,verbose=1)"
   ]
  },
  {
   "cell_type": "code",
   "execution_count": null,
   "id": "7470d21a",
   "metadata": {},
   "outputs": [],
   "source": [
    "train_predict = model.predict(X_train)\n",
    "test_predict = model.predict(X_test)"
   ]
  },
  {
   "cell_type": "code",
   "execution_count": null,
   "id": "6f635464",
   "metadata": {},
   "outputs": [],
   "source": [
    "train_predict=scaler.inverse_transform(train_predict)\n",
    "test_predict=scaler.inverse_transform(test_predict)"
   ]
  },
  {
   "cell_type": "code",
   "execution_count": null,
   "id": "1b4e7348",
   "metadata": {},
   "outputs": [],
   "source": [
    "np.sqrt(mean_squared_error(y_train, train_predict))"
   ]
  },
  {
   "cell_type": "code",
   "execution_count": null,
   "id": "e06d527e",
   "metadata": {},
   "outputs": [],
   "source": [
    "np.sqrt(mean_squared_error(y_test,test_predict))"
   ]
  },
  {
   "cell_type": "code",
   "execution_count": null,
   "id": "a122e4e8",
   "metadata": {},
   "outputs": [],
   "source": [
    "# Plotting \n",
    "look_back=100\n",
    "trainPredictPlot = np.empty_like(y)\n",
    "trainPredictPlot[:, :] = np.nan\n",
    "trainPredictPlot[look_back:len(train_predict)+look_back, :] = train_predict\n",
    "# shift test predictions for plotting\n",
    "testPredictPlot = np.empty_like(y)\n",
    "testPredictPlot[:, :] = np.nan\n",
    "testPredictPlot[len(train_predict)+(look_back*2)+1:len(y)-1, :] = test_predict\n",
    "# plot\n",
    "plt.plot(scaler.inverse_transform(y))\n",
    "plt.plot(trainPredictPlot)\n",
    "plt.plot(testPredictPlot)\n",
    "plt.show()"
   ]
  },
  {
   "cell_type": "code",
   "execution_count": null,
   "id": "2253a479",
   "metadata": {},
   "outputs": [],
   "source": [
    "len(test_data)"
   ]
  },
  {
   "cell_type": "code",
   "execution_count": null,
   "id": "87d10edd",
   "metadata": {},
   "outputs": [],
   "source": [
    "x_input=test_data[356:].reshape(1,-1)\n",
    "x_input.shape"
   ]
  },
  {
   "cell_type": "code",
   "execution_count": null,
   "id": "625cad07",
   "metadata": {},
   "outputs": [],
   "source": [
    "temp_input=list(x_input)\n",
    "temp_input=temp_input[0].tolist()"
   ]
  },
  {
   "cell_type": "code",
   "execution_count": null,
   "id": "07d7ab91",
   "metadata": {
    "scrolled": false
   },
   "outputs": [],
   "source": [
    "_ = temp_input"
   ]
  },
  {
   "cell_type": "code",
   "execution_count": null,
   "id": "2e769f04",
   "metadata": {},
   "outputs": [],
   "source": [
    "# prediction for next 10 days\n",
    "from numpy import array\n",
    "\n",
    "lst_output=[]\n",
    "n_steps=100\n",
    "i=0\n",
    "while(i<30):\n",
    "    \n",
    "    if(len(temp_input)>100):\n",
    "        x_input=np.array(temp_input[1:])\n",
    "        print(\"{} day input {}\".format(i,x_input))\n",
    "        x_input=x_input.reshape(1,-1)\n",
    "        x_input = x_input.reshape((1, n_steps, 1))\n",
    "        #print(x_input)\n",
    "        yhat = model.predict(x_input, verbose=0)\n",
    "        print(\"{} day output {}\".format(i,yhat))\n",
    "        temp_input.extend(yhat[0].tolist())\n",
    "        temp_input=temp_input[1:]\n",
    "        #print(temp_input)\n",
    "        lst_output.extend(yhat.tolist())\n",
    "        i=i+1\n",
    "    else:\n",
    "        x_input = x_input.reshape((1, n_steps,1))\n",
    "        yhat = model.predict(x_input, verbose=0)\n",
    "        print(yhat[0])\n",
    "        temp_input.extend(yhat[0].tolist())\n",
    "        print(len(temp_input))\n",
    "        lst_output.extend(yhat.tolist())\n",
    "        i=i+1\n",
    "    \n",
    "\n"
   ]
  },
  {
   "cell_type": "code",
   "execution_count": null,
   "id": "92c10d6b",
   "metadata": {},
   "outputs": [],
   "source": [
    "day_new=np.arange(1,101)\n",
    "day_pred=np.arange(101,131)"
   ]
  },
  {
   "cell_type": "code",
   "execution_count": null,
   "id": "c7f27532",
   "metadata": {},
   "outputs": [],
   "source": [
    "len(y)"
   ]
  },
  {
   "cell_type": "code",
   "execution_count": null,
   "id": "67ed85eb",
   "metadata": {},
   "outputs": [],
   "source": [
    "plt.plot(day_new,scaler.inverse_transform(y[1202:]))\n",
    "plt.plot(day_pred,scaler.inverse_transform(lst_output))"
   ]
  },
  {
   "cell_type": "code",
   "execution_count": null,
   "id": "8cce3f69",
   "metadata": {},
   "outputs": [],
   "source": [
    "z=y.tolist()\n",
    "z.extend(lst_output)\n",
    "plt.plot(z[1202:])"
   ]
  },
  {
   "cell_type": "code",
   "execution_count": null,
   "id": "dddd372a",
   "metadata": {},
   "outputs": [],
   "source": [
    "z=scaler.inverse_transform(z).tolist()"
   ]
  },
  {
   "cell_type": "code",
   "execution_count": null,
   "id": "fff0dbbf",
   "metadata": {
    "scrolled": true
   },
   "outputs": [],
   "source": [
    "plt.plot(z)"
   ]
  },
  {
   "cell_type": "markdown",
   "id": "79b4f30a",
   "metadata": {},
   "source": [
    "### 4. Conclusion"
   ]
  },
  {
   "cell_type": "markdown",
   "id": "99b8e2d6",
   "metadata": {},
   "source": [
    "We used both the ARIMA model and LSTM model to try to predict future stock price of DIA (SPDR Dow Jones Industrial Average ETF Trust). A lot of people wants to be able to predict the stock prices, but stock prices are very hard/almost impossible to predict. ARIMA model is better short term forecasting, while LSTM is better for long term modeling. Making better models for DIA are beyond the scope of this capstone and require more knowledge and skills which I would acquire as time goes on. For businesses, picking ARIMA vs LSTM is cost vs benefit. LSTM gives better prediction result, but at the cost of more complexity. The best ARIMA we got for DIA is ARIMA(0, 1, 0) because it had the lowest MSE, meaning that DIA is a random walk. This goes in line with the Random Walk theory and the Efficient Market Hypothesis. The LSTM model was able to predict the general trend of which way DIA was going, but I would say the LSTM model we used for this project is unreliable and should not be used to decide when to pick and sell stocks. There maybe a better model out there that might be able to predict the prices of DIA, but that is beyond the scope of this project."
   ]
  },
  {
   "cell_type": "markdown",
   "id": "4a2158a2",
   "metadata": {},
   "source": [
    "resources:\n",
    "* https://github.com/krishnaik06/Stock-MArket-Forecasting/blob/master/Untitled.ipynb\n",
    "* https://machinelearningmastery.com/grid-search-arima-hyperparameters-with-python/\n",
    "* https://datascience.stackexchange.com/questions/12721/time-series-prediction-using-arima-vs-lstm\n",
    "* https://www.researchgate.net/publication/339600773_Forecasting_Financial_Budget_Time_Series_ARIMA_Random_Walk_vs_LSTM_Neural_Network\n",
    "* https://www.investopedia.com/terms/r/randomwalktheory.asp"
   ]
  }
 ],
 "metadata": {
  "kernelspec": {
   "display_name": "Python 3",
   "language": "python",
   "name": "python3"
  },
  "language_info": {
   "codemirror_mode": {
    "name": "ipython",
    "version": 3
   },
   "file_extension": ".py",
   "mimetype": "text/x-python",
   "name": "python",
   "nbconvert_exporter": "python",
   "pygments_lexer": "ipython3",
   "version": "3.8.8"
  }
 },
 "nbformat": 4,
 "nbformat_minor": 5
}
