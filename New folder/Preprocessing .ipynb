{
 "cells": [
  {
   "cell_type": "markdown",
   "id": "3f808864",
   "metadata": {},
   "source": [
    "# Preprocessing"
   ]
  },
  {
   "cell_type": "markdown",
   "id": "34caa933",
   "metadata": {},
   "source": [
    "## Import Packages"
   ]
  },
  {
   "cell_type": "code",
   "execution_count": 1,
   "id": "647500ff",
   "metadata": {},
   "outputs": [],
   "source": [
    "import matplotlib.pyplot as plt\n",
    "import pandas as pd\n",
    "import numpy as np\n",
    "import seaborn as sns\n",
    "from sklearn.preprocessing import MinMaxScaler\n",
    "import plotly.express as px\n",
    "import plotly.graph_objects as go\n",
    "from plotly.subplots import make_subplots\n",
    "from statsmodels.graphics import tsaplots\n",
    "from tensorflow.keras.models import Sequential\n",
    "from tensorflow.keras.layers import Dense, Dropout, LSTM\n",
    "from tensorflow.keras.callbacks import ModelCheckpoint, EarlyStopping\n",
    "from sklearn.metrics import mean_squared_error\n",
    "from statsmodels.tsa.arima_model import ARIMA"
   ]
  },
  {
   "cell_type": "markdown",
   "id": "76fe6815",
   "metadata": {},
   "source": [
    "## Loading Data"
   ]
  },
  {
   "cell_type": "code",
   "execution_count": 2,
   "id": "841ddb2a",
   "metadata": {
    "scrolled": true
   },
   "outputs": [],
   "source": [
    "DIA= pd.read_csv('DIA (2).csv', index_col='Date', parse_dates=['Date'])"
   ]
  },
  {
   "cell_type": "markdown",
   "id": "0da8a72b",
   "metadata": {},
   "source": [
    "# Exploring the Data"
   ]
  },
  {
   "cell_type": "code",
   "execution_count": 3,
   "id": "efdd08d9",
   "metadata": {
    "scrolled": true
   },
   "outputs": [
    {
     "data": {
      "text/html": [
       "<div>\n",
       "<style scoped>\n",
       "    .dataframe tbody tr th:only-of-type {\n",
       "        vertical-align: middle;\n",
       "    }\n",
       "\n",
       "    .dataframe tbody tr th {\n",
       "        vertical-align: top;\n",
       "    }\n",
       "\n",
       "    .dataframe thead th {\n",
       "        text-align: right;\n",
       "    }\n",
       "</style>\n",
       "<table border=\"1\" class=\"dataframe\">\n",
       "  <thead>\n",
       "    <tr style=\"text-align: right;\">\n",
       "      <th></th>\n",
       "      <th>Open</th>\n",
       "      <th>High</th>\n",
       "      <th>Low</th>\n",
       "      <th>Close</th>\n",
       "      <th>Adj Close</th>\n",
       "      <th>Volume</th>\n",
       "    </tr>\n",
       "    <tr>\n",
       "      <th>Date</th>\n",
       "      <th></th>\n",
       "      <th></th>\n",
       "      <th></th>\n",
       "      <th></th>\n",
       "      <th></th>\n",
       "      <th></th>\n",
       "    </tr>\n",
       "  </thead>\n",
       "  <tbody>\n",
       "    <tr>\n",
       "      <th>2000-01-03</th>\n",
       "      <td>116.03125</td>\n",
       "      <td>116.031250</td>\n",
       "      <td>113.000000</td>\n",
       "      <td>113.500000</td>\n",
       "      <td>70.035995</td>\n",
       "      <td>1278800</td>\n",
       "    </tr>\n",
       "    <tr>\n",
       "      <th>2000-01-04</th>\n",
       "      <td>112.28125</td>\n",
       "      <td>112.968750</td>\n",
       "      <td>109.765625</td>\n",
       "      <td>109.765625</td>\n",
       "      <td>67.731735</td>\n",
       "      <td>1535700</td>\n",
       "    </tr>\n",
       "    <tr>\n",
       "      <th>2000-01-05</th>\n",
       "      <td>110.00000</td>\n",
       "      <td>112.375000</td>\n",
       "      <td>109.031250</td>\n",
       "      <td>111.187500</td>\n",
       "      <td>68.609116</td>\n",
       "      <td>2007000</td>\n",
       "    </tr>\n",
       "    <tr>\n",
       "      <th>2000-01-06</th>\n",
       "      <td>111.40625</td>\n",
       "      <td>113.171875</td>\n",
       "      <td>111.187500</td>\n",
       "      <td>111.750000</td>\n",
       "      <td>68.956184</td>\n",
       "      <td>2639500</td>\n",
       "    </tr>\n",
       "    <tr>\n",
       "      <th>2000-01-07</th>\n",
       "      <td>113.31250</td>\n",
       "      <td>115.562500</td>\n",
       "      <td>113.218750</td>\n",
       "      <td>115.500000</td>\n",
       "      <td>71.270126</td>\n",
       "      <td>3767400</td>\n",
       "    </tr>\n",
       "  </tbody>\n",
       "</table>\n",
       "</div>"
      ],
      "text/plain": [
       "                 Open        High         Low       Close  Adj Close   Volume\n",
       "Date                                                                         \n",
       "2000-01-03  116.03125  116.031250  113.000000  113.500000  70.035995  1278800\n",
       "2000-01-04  112.28125  112.968750  109.765625  109.765625  67.731735  1535700\n",
       "2000-01-05  110.00000  112.375000  109.031250  111.187500  68.609116  2007000\n",
       "2000-01-06  111.40625  113.171875  111.187500  111.750000  68.956184  2639500\n",
       "2000-01-07  113.31250  115.562500  113.218750  115.500000  71.270126  3767400"
      ]
     },
     "execution_count": 3,
     "metadata": {},
     "output_type": "execute_result"
    }
   ],
   "source": [
    "DIA.head()"
   ]
  },
  {
   "cell_type": "code",
   "execution_count": 4,
   "id": "08098419",
   "metadata": {
    "scrolled": true
   },
   "outputs": [
    {
     "name": "stdout",
     "output_type": "stream",
     "text": [
      "<class 'pandas.core.frame.DataFrame'>\n",
      "DatetimeIndex: 5030 entries, 2000-01-03 to 2019-12-30\n",
      "Data columns (total 6 columns):\n",
      " #   Column     Non-Null Count  Dtype  \n",
      "---  ------     --------------  -----  \n",
      " 0   Open       5030 non-null   float64\n",
      " 1   High       5030 non-null   float64\n",
      " 2   Low        5030 non-null   float64\n",
      " 3   Close      5030 non-null   float64\n",
      " 4   Adj Close  5030 non-null   float64\n",
      " 5   Volume     5030 non-null   int64  \n",
      "dtypes: float64(5), int64(1)\n",
      "memory usage: 275.1 KB\n"
     ]
    }
   ],
   "source": [
    "DIA.info()"
   ]
  },
  {
   "cell_type": "markdown",
   "id": "e666a1b6",
   "metadata": {},
   "source": [
    "## Preprocessing"
   ]
  },
  {
   "cell_type": "code",
   "execution_count": 5,
   "id": "5ea390b4",
   "metadata": {},
   "outputs": [
    {
     "data": {
      "text/plain": [
       "Open         0\n",
       "High         0\n",
       "Low          0\n",
       "Close        0\n",
       "Adj Close    0\n",
       "Volume       0\n",
       "dtype: int64"
      ]
     },
     "execution_count": 5,
     "metadata": {},
     "output_type": "execute_result"
    }
   ],
   "source": [
    "DIA.isna().sum()"
   ]
  },
  {
   "cell_type": "code",
   "execution_count": 6,
   "id": "e8d522dd",
   "metadata": {
    "scrolled": true
   },
   "outputs": [
    {
     "data": {
      "text/html": [
       "<div>\n",
       "<style scoped>\n",
       "    .dataframe tbody tr th:only-of-type {\n",
       "        vertical-align: middle;\n",
       "    }\n",
       "\n",
       "    .dataframe tbody tr th {\n",
       "        vertical-align: top;\n",
       "    }\n",
       "\n",
       "    .dataframe thead th {\n",
       "        text-align: right;\n",
       "    }\n",
       "</style>\n",
       "<table border=\"1\" class=\"dataframe\">\n",
       "  <thead>\n",
       "    <tr style=\"text-align: right;\">\n",
       "      <th></th>\n",
       "      <th>Open</th>\n",
       "      <th>High</th>\n",
       "      <th>Low</th>\n",
       "      <th>Close</th>\n",
       "      <th>Adj Close</th>\n",
       "      <th>Volume</th>\n",
       "    </tr>\n",
       "    <tr>\n",
       "      <th>Date</th>\n",
       "      <th></th>\n",
       "      <th></th>\n",
       "      <th></th>\n",
       "      <th></th>\n",
       "      <th></th>\n",
       "      <th></th>\n",
       "    </tr>\n",
       "  </thead>\n",
       "  <tbody>\n",
       "    <tr>\n",
       "      <th>2000-01-03</th>\n",
       "      <td>116.031250</td>\n",
       "      <td>116.031250</td>\n",
       "      <td>113.000000</td>\n",
       "      <td>113.500000</td>\n",
       "      <td>70.035995</td>\n",
       "      <td>1278800</td>\n",
       "    </tr>\n",
       "    <tr>\n",
       "      <th>2000-01-04</th>\n",
       "      <td>112.281250</td>\n",
       "      <td>112.968750</td>\n",
       "      <td>109.765625</td>\n",
       "      <td>109.765625</td>\n",
       "      <td>67.731735</td>\n",
       "      <td>1535700</td>\n",
       "    </tr>\n",
       "    <tr>\n",
       "      <th>2000-01-05</th>\n",
       "      <td>110.000000</td>\n",
       "      <td>112.375000</td>\n",
       "      <td>109.031250</td>\n",
       "      <td>111.187500</td>\n",
       "      <td>68.609116</td>\n",
       "      <td>2007000</td>\n",
       "    </tr>\n",
       "    <tr>\n",
       "      <th>2000-01-06</th>\n",
       "      <td>111.406250</td>\n",
       "      <td>113.171875</td>\n",
       "      <td>111.187500</td>\n",
       "      <td>111.750000</td>\n",
       "      <td>68.956184</td>\n",
       "      <td>2639500</td>\n",
       "    </tr>\n",
       "    <tr>\n",
       "      <th>2000-01-07</th>\n",
       "      <td>113.312500</td>\n",
       "      <td>115.562500</td>\n",
       "      <td>113.218750</td>\n",
       "      <td>115.500000</td>\n",
       "      <td>71.270126</td>\n",
       "      <td>3767400</td>\n",
       "    </tr>\n",
       "    <tr>\n",
       "      <th>...</th>\n",
       "      <td>...</td>\n",
       "      <td>...</td>\n",
       "      <td>...</td>\n",
       "      <td>...</td>\n",
       "      <td>...</td>\n",
       "      <td>...</td>\n",
       "    </tr>\n",
       "    <tr>\n",
       "      <th>2019-12-23</th>\n",
       "      <td>285.339996</td>\n",
       "      <td>285.660004</td>\n",
       "      <td>285.149994</td>\n",
       "      <td>285.329987</td>\n",
       "      <td>275.649017</td>\n",
       "      <td>2564700</td>\n",
       "    </tr>\n",
       "    <tr>\n",
       "      <th>2019-12-24</th>\n",
       "      <td>285.630005</td>\n",
       "      <td>285.630005</td>\n",
       "      <td>284.869995</td>\n",
       "      <td>285.010010</td>\n",
       "      <td>275.339935</td>\n",
       "      <td>611600</td>\n",
       "    </tr>\n",
       "    <tr>\n",
       "      <th>2019-12-26</th>\n",
       "      <td>285.230011</td>\n",
       "      <td>286.100006</td>\n",
       "      <td>285.200012</td>\n",
       "      <td>286.059998</td>\n",
       "      <td>276.354248</td>\n",
       "      <td>931600</td>\n",
       "    </tr>\n",
       "    <tr>\n",
       "      <th>2019-12-27</th>\n",
       "      <td>286.829987</td>\n",
       "      <td>286.850006</td>\n",
       "      <td>285.899994</td>\n",
       "      <td>286.329987</td>\n",
       "      <td>276.615204</td>\n",
       "      <td>1930200</td>\n",
       "    </tr>\n",
       "    <tr>\n",
       "      <th>2019-12-30</th>\n",
       "      <td>286.339996</td>\n",
       "      <td>286.410004</td>\n",
       "      <td>284.119995</td>\n",
       "      <td>284.529999</td>\n",
       "      <td>274.876190</td>\n",
       "      <td>2552900</td>\n",
       "    </tr>\n",
       "  </tbody>\n",
       "</table>\n",
       "<p>5030 rows × 6 columns</p>\n",
       "</div>"
      ],
      "text/plain": [
       "                  Open        High         Low       Close   Adj Close  \\\n",
       "Date                                                                     \n",
       "2000-01-03  116.031250  116.031250  113.000000  113.500000   70.035995   \n",
       "2000-01-04  112.281250  112.968750  109.765625  109.765625   67.731735   \n",
       "2000-01-05  110.000000  112.375000  109.031250  111.187500   68.609116   \n",
       "2000-01-06  111.406250  113.171875  111.187500  111.750000   68.956184   \n",
       "2000-01-07  113.312500  115.562500  113.218750  115.500000   71.270126   \n",
       "...                ...         ...         ...         ...         ...   \n",
       "2019-12-23  285.339996  285.660004  285.149994  285.329987  275.649017   \n",
       "2019-12-24  285.630005  285.630005  284.869995  285.010010  275.339935   \n",
       "2019-12-26  285.230011  286.100006  285.200012  286.059998  276.354248   \n",
       "2019-12-27  286.829987  286.850006  285.899994  286.329987  276.615204   \n",
       "2019-12-30  286.339996  286.410004  284.119995  284.529999  274.876190   \n",
       "\n",
       "             Volume  \n",
       "Date                 \n",
       "2000-01-03  1278800  \n",
       "2000-01-04  1535700  \n",
       "2000-01-05  2007000  \n",
       "2000-01-06  2639500  \n",
       "2000-01-07  3767400  \n",
       "...             ...  \n",
       "2019-12-23  2564700  \n",
       "2019-12-24   611600  \n",
       "2019-12-26   931600  \n",
       "2019-12-27  1930200  \n",
       "2019-12-30  2552900  \n",
       "\n",
       "[5030 rows x 6 columns]"
      ]
     },
     "execution_count": 6,
     "metadata": {},
     "output_type": "execute_result"
    }
   ],
   "source": [
    "DIA"
   ]
  },
  {
   "cell_type": "code",
   "execution_count": 7,
   "id": "5812d3fe",
   "metadata": {},
   "outputs": [
    {
     "data": {
      "text/plain": [
       "Index(['Open', 'High', 'Low', 'Close', 'Adj Close', 'Volume'], dtype='object')"
      ]
     },
     "execution_count": 7,
     "metadata": {},
     "output_type": "execute_result"
    }
   ],
   "source": [
    "DIA.columns"
   ]
  },
  {
   "cell_type": "code",
   "execution_count": 8,
   "id": "28729b0f",
   "metadata": {},
   "outputs": [],
   "source": [
    "drop = ['Open', 'High', 'Low', 'Close', 'Volume']\n",
    "DIA = DIA.drop(columns = drop)"
   ]
  },
  {
   "cell_type": "code",
   "execution_count": 9,
   "id": "47b65a56",
   "metadata": {},
   "outputs": [
    {
     "data": {
      "text/plain": [
       "pandas.core.frame.DataFrame"
      ]
     },
     "execution_count": 9,
     "metadata": {},
     "output_type": "execute_result"
    }
   ],
   "source": [
    "type(DIA)"
   ]
  },
  {
   "cell_type": "code",
   "execution_count": 10,
   "id": "a53bf5ac",
   "metadata": {
    "scrolled": false
   },
   "outputs": [
    {
     "data": {
      "text/html": [
       "<div>\n",
       "<style scoped>\n",
       "    .dataframe tbody tr th:only-of-type {\n",
       "        vertical-align: middle;\n",
       "    }\n",
       "\n",
       "    .dataframe tbody tr th {\n",
       "        vertical-align: top;\n",
       "    }\n",
       "\n",
       "    .dataframe thead th {\n",
       "        text-align: right;\n",
       "    }\n",
       "</style>\n",
       "<table border=\"1\" class=\"dataframe\">\n",
       "  <thead>\n",
       "    <tr style=\"text-align: right;\">\n",
       "      <th></th>\n",
       "      <th>Adj Close</th>\n",
       "    </tr>\n",
       "  </thead>\n",
       "  <tbody>\n",
       "    <tr>\n",
       "      <th>count</th>\n",
       "      <td>5030.000000</td>\n",
       "    </tr>\n",
       "    <tr>\n",
       "      <th>mean</th>\n",
       "      <td>113.079029</td>\n",
       "    </tr>\n",
       "    <tr>\n",
       "      <th>std</th>\n",
       "      <td>57.796811</td>\n",
       "    </tr>\n",
       "    <tr>\n",
       "      <th>min</th>\n",
       "      <td>47.106049</td>\n",
       "    </tr>\n",
       "    <tr>\n",
       "      <th>25%</th>\n",
       "      <td>68.778797</td>\n",
       "    </tr>\n",
       "    <tr>\n",
       "      <th>50%</th>\n",
       "      <td>89.497341</td>\n",
       "    </tr>\n",
       "    <tr>\n",
       "      <th>75%</th>\n",
       "      <td>146.094704</td>\n",
       "    </tr>\n",
       "    <tr>\n",
       "      <th>max</th>\n",
       "      <td>276.615204</td>\n",
       "    </tr>\n",
       "  </tbody>\n",
       "</table>\n",
       "</div>"
      ],
      "text/plain": [
       "         Adj Close\n",
       "count  5030.000000\n",
       "mean    113.079029\n",
       "std      57.796811\n",
       "min      47.106049\n",
       "25%      68.778797\n",
       "50%      89.497341\n",
       "75%     146.094704\n",
       "max     276.615204"
      ]
     },
     "execution_count": 10,
     "metadata": {},
     "output_type": "execute_result"
    }
   ],
   "source": [
    "DIA.describe()"
   ]
  },
  {
   "cell_type": "code",
   "execution_count": 11,
   "id": "d566bb0b",
   "metadata": {
    "scrolled": true
   },
   "outputs": [
    {
     "data": {
      "image/png": "[encoded data removed]",
      "text/plain": [
       "<Figure size 432x288 with 1 Axes>"
      ]
     },
     "metadata": {
      "needs_background": "light"
     },
     "output_type": "display_data"
    },
    {
     "data": {
      "image/png": "[encoded data removed]",
      "text/plain": [
       "<Figure size 432x288 with 1 Axes>"
      ]
     },
     "metadata": {
      "needs_background": "light"
     },
     "output_type": "display_data"
    },
    {
     "data": {
      "image/png": "[encoded data removed]",
      "text/plain": [
       "<Figure size 432x288 with 1 Axes>"
      ]
     },
     "metadata": {
      "needs_background": "light"
     },
     "output_type": "display_data"
    }
   ],
   "source": [
    "plt.plot(DIA)\n",
    "tsaplots.plot_acf(DIA['Adj Close'], lags=10)\n",
    "tsaplots.plot_pacf(DIA['Adj Close'], lags=10)\n",
    "\n",
    "plt.show()"
   ]
  },
  {
   "cell_type": "code",
   "execution_count": null,
   "id": "2034a199",
   "metadata": {},
   "outputs": [],
   "source": []
  },
  {
   "cell_type": "markdown",
   "id": "0f311413",
   "metadata": {},
   "source": [
    "### Testing for stationarity with KPSS and ADFuller"
   ]
  },
  {
   "cell_type": "code",
   "execution_count": 12,
   "id": "c0b76ee3",
   "metadata": {
    "scrolled": true
   },
   "outputs": [
    {
     "name": "stderr",
     "output_type": "stream",
     "text": [
      "C:\\Users\\yorik\\anaconda3\\lib\\site-packages\\statsmodels\\tsa\\stattools.py:1875: FutureWarning: The behavior of using nlags=None will change in release 0.13.Currently nlags=None is the same as nlags=\"legacy\", and so a sample-size lag length is used. After the next release, the default will change to be the same as nlags=\"auto\" which uses an automatic lag length selection method. To silence this warning, either use \"auto\" or \"legacy\"\n",
      "  warnings.warn(msg, FutureWarning)\n",
      "C:\\Users\\yorik\\anaconda3\\lib\\site-packages\\statsmodels\\tsa\\stattools.py:1906: InterpolationWarning: The test statistic is outside of the range of p-values available in the\n",
      "look-up table. The actual p-value is smaller than the p-value returned.\n",
      "\n",
      "  warnings.warn(\n"
     ]
    },
    {
     "data": {
      "text/plain": [
       "(12.416714303935343,\n",
       " 0.01,\n",
       " 32,\n",
       " {'10%': 0.347, '5%': 0.463, '2.5%': 0.574, '1%': 0.739})"
      ]
     },
     "execution_count": 12,
     "metadata": {},
     "output_type": "execute_result"
    }
   ],
   "source": [
    "from statsmodels.tsa.stattools import kpss\n",
    "from statsmodels.tsa.stattools import adfuller\n",
    "kpss(DIA)"
   ]
  },
  {
   "cell_type": "code",
   "execution_count": 13,
   "id": "f474a0fa",
   "metadata": {},
   "outputs": [
    {
     "data": {
      "text/plain": [
       "(2.483535472275075,\n",
       " 0.9990443483166125,\n",
       " 19,\n",
       " 5010,\n",
       " {'1%': -3.4316559188949403,\n",
       "  '5%': -2.8621170751906178,\n",
       "  '10%': -2.567077177780168},\n",
       " 15653.847899151604)"
      ]
     },
     "execution_count": 13,
     "metadata": {},
     "output_type": "execute_result"
    }
   ],
   "source": [
    "adfuller(DIA)"
   ]
  },
  {
   "cell_type": "code",
   "execution_count": 14,
   "id": "6dc4bccf",
   "metadata": {
    "scrolled": true
   },
   "outputs": [
    {
     "data": {
      "image/png": "[encoded data removed]",
      "text/plain": [
       "<Figure size 720x360 with 1 Axes>"
      ]
     },
     "metadata": {
      "needs_background": "light"
     },
     "output_type": "display_data"
    }
   ],
   "source": [
    "_ = plt.figure(figsize=(10,5))\n",
    "_ = plt.plot(DIA.diff().dropna())"
   ]
  },
  {
   "cell_type": "code",
   "execution_count": 15,
   "id": "afafec98",
   "metadata": {},
   "outputs": [
    {
     "name": "stderr",
     "output_type": "stream",
     "text": [
      "C:\\Users\\yorik\\anaconda3\\lib\\site-packages\\statsmodels\\tsa\\stattools.py:1875: FutureWarning: The behavior of using nlags=None will change in release 0.13.Currently nlags=None is the same as nlags=\"legacy\", and so a sample-size lag length is used. After the next release, the default will change to be the same as nlags=\"auto\" which uses an automatic lag length selection method. To silence this warning, either use \"auto\" or \"legacy\"\n",
      "  warnings.warn(msg, FutureWarning)\n",
      "C:\\Users\\yorik\\anaconda3\\lib\\site-packages\\statsmodels\\tsa\\stattools.py:1906: InterpolationWarning: The test statistic is outside of the range of p-values available in the\n",
      "look-up table. The actual p-value is smaller than the p-value returned.\n",
      "\n",
      "  warnings.warn(\n"
     ]
    },
    {
     "data": {
      "text/plain": [
       "(0.8545712922665148,\n",
       " 0.01,\n",
       " 32,\n",
       " {'10%': 0.347, '5%': 0.463, '2.5%': 0.574, '1%': 0.739})"
      ]
     },
     "execution_count": 15,
     "metadata": {},
     "output_type": "execute_result"
    }
   ],
   "source": [
    "kpss(DIA.diff().dropna())"
   ]
  },
  {
   "cell_type": "code",
   "execution_count": 16,
   "id": "065fec95",
   "metadata": {},
   "outputs": [
    {
     "data": {
      "text/plain": [
       "(-17.33836659970345,\n",
       " 5.358340209377672e-30,\n",
       " 18,\n",
       " 5010,\n",
       " {'1%': -3.4316559188949403,\n",
       "  '5%': -2.8621170751906178,\n",
       "  '10%': -2.567077177780168},\n",
       " 15653.663800936754)"
      ]
     },
     "execution_count": 16,
     "metadata": {},
     "output_type": "execute_result"
    }
   ],
   "source": [
    "adfuller(DIA.diff().dropna())"
   ]
  },
  {
   "cell_type": "code",
   "execution_count": 17,
   "id": "bacb0343",
   "metadata": {},
   "outputs": [],
   "source": [
    "DIA_log = np.log(DIA)"
   ]
  },
  {
   "cell_type": "code",
   "execution_count": 18,
   "id": "928186b4",
   "metadata": {
    "scrolled": true
   },
   "outputs": [
    {
     "data": {
      "text/html": [
       "<div>\n",
       "<style scoped>\n",
       "    .dataframe tbody tr th:only-of-type {\n",
       "        vertical-align: middle;\n",
       "    }\n",
       "\n",
       "    .dataframe tbody tr th {\n",
       "        vertical-align: top;\n",
       "    }\n",
       "\n",
       "    .dataframe thead th {\n",
       "        text-align: right;\n",
       "    }\n",
       "</style>\n",
       "<table border=\"1\" class=\"dataframe\">\n",
       "  <thead>\n",
       "    <tr style=\"text-align: right;\">\n",
       "      <th></th>\n",
       "      <th>Adj Close</th>\n",
       "    </tr>\n",
       "    <tr>\n",
       "      <th>Date</th>\n",
       "      <th></th>\n",
       "    </tr>\n",
       "  </thead>\n",
       "  <tbody>\n",
       "    <tr>\n",
       "      <th>2000-01-03</th>\n",
       "      <td>4.249009</td>\n",
       "    </tr>\n",
       "    <tr>\n",
       "      <th>2000-01-04</th>\n",
       "      <td>4.215555</td>\n",
       "    </tr>\n",
       "    <tr>\n",
       "      <th>2000-01-05</th>\n",
       "      <td>4.228425</td>\n",
       "    </tr>\n",
       "    <tr>\n",
       "      <th>2000-01-06</th>\n",
       "      <td>4.233471</td>\n",
       "    </tr>\n",
       "    <tr>\n",
       "      <th>2000-01-07</th>\n",
       "      <td>4.266477</td>\n",
       "    </tr>\n",
       "  </tbody>\n",
       "</table>\n",
       "</div>"
      ],
      "text/plain": [
       "            Adj Close\n",
       "Date                 \n",
       "2000-01-03   4.249009\n",
       "2000-01-04   4.215555\n",
       "2000-01-05   4.228425\n",
       "2000-01-06   4.233471\n",
       "2000-01-07   4.266477"
      ]
     },
     "execution_count": 18,
     "metadata": {},
     "output_type": "execute_result"
    }
   ],
   "source": [
    "DIA_log.head()"
   ]
  },
  {
   "cell_type": "code",
   "execution_count": 19,
   "id": "b2f28b1c",
   "metadata": {
    "scrolled": true
   },
   "outputs": [
    {
     "data": {
      "image/png": "[encoded data removed]",
      "text/plain": [
       "<Figure size 720x360 with 1 Axes>"
      ]
     },
     "metadata": {
      "needs_background": "light"
     },
     "output_type": "display_data"
    }
   ],
   "source": [
    "_ = plt.figure(figsize=(10,5))\n",
    "_ = plt.plot(DIA_log.diff())"
   ]
  },
  {
   "cell_type": "code",
   "execution_count": 20,
   "id": "1eb9d6c7",
   "metadata": {},
   "outputs": [
    {
     "name": "stderr",
     "output_type": "stream",
     "text": [
      "C:\\Users\\yorik\\anaconda3\\lib\\site-packages\\statsmodels\\tsa\\stattools.py:1875: FutureWarning: The behavior of using nlags=None will change in release 0.13.Currently nlags=None is the same as nlags=\"legacy\", and so a sample-size lag length is used. After the next release, the default will change to be the same as nlags=\"auto\" which uses an automatic lag length selection method. To silence this warning, either use \"auto\" or \"legacy\"\n",
      "  warnings.warn(msg, FutureWarning)\n",
      "C:\\Users\\yorik\\anaconda3\\lib\\site-packages\\statsmodels\\tsa\\stattools.py:1910: InterpolationWarning: The test statistic is outside of the range of p-values available in the\n",
      "look-up table. The actual p-value is greater than the p-value returned.\n",
      "\n",
      "  warnings.warn(\n"
     ]
    },
    {
     "data": {
      "text/plain": [
       "(0.28430729819576245,\n",
       " 0.1,\n",
       " 32,\n",
       " {'10%': 0.347, '5%': 0.463, '2.5%': 0.574, '1%': 0.739})"
      ]
     },
     "execution_count": 20,
     "metadata": {},
     "output_type": "execute_result"
    }
   ],
   "source": [
    "kpss(DIA_log.diff().dropna())"
   ]
  },
  {
   "cell_type": "code",
   "execution_count": 21,
   "id": "14b6711b",
   "metadata": {
    "scrolled": true
   },
   "outputs": [
    {
     "data": {
      "text/plain": [
       "(-15.975795515301575,\n",
       " 6.923154884126501e-29,\n",
       " 21,\n",
       " 5007,\n",
       " {'1%': -3.431656701752533,\n",
       "  '5%': -2.862117421053178,\n",
       "  '10%': -2.5670773618962612},\n",
       " -30675.67419281561)"
      ]
     },
     "execution_count": 21,
     "metadata": {},
     "output_type": "execute_result"
    }
   ],
   "source": [
    "adfuller(DIA_log.diff().dropna())"
   ]
  },
  {
   "cell_type": "code",
   "execution_count": 22,
   "id": "c9b5854c",
   "metadata": {},
   "outputs": [],
   "source": [
    "DIA_log_diff = DIA_log.diff().dropna()"
   ]
  },
  {
   "cell_type": "markdown",
   "id": "a57172fc",
   "metadata": {},
   "source": [
    "Our p-value is now greater than 0.05, so we can accept the null hypothesis that our data is stationary."
   ]
  },
  {
   "cell_type": "markdown",
   "id": "af72dd5a",
   "metadata": {},
   "source": [
    "### Splitting into training data and testing data"
   ]
  },
  {
   "cell_type": "code",
   "execution_count": 29,
   "id": "c8977720",
   "metadata": {},
   "outputs": [],
   "source": [
    "DIA['Adj Close'] = pd.to_datetime(DIA['Adj Close'])\n",
    "DIA.set_index('Adj Close', inplace=True)"
   ]
  },
  {
   "cell_type": "code",
   "execution_count": 30,
   "id": "a4dd5e48",
   "metadata": {},
   "outputs": [
    {
     "name": "stdout",
     "output_type": "stream",
     "text": [
      "<class 'pandas.core.frame.DataFrame'>\n",
      "DatetimeIndex: 5030 entries, 1970-01-01 00:00:00.000000070 to 1970-01-01 00:00:00.000000274\n",
      "Empty DataFrame"
     ]
    }
   ],
   "source": [
    "DIA.info()"
   ]
  },
  {
   "cell_type": "code",
   "execution_count": 31,
   "id": "b45e5422",
   "metadata": {},
   "outputs": [],
   "source": [
    "# Make a function called evaluate_arima_model to find the MSE of a single ARIMA model \n",
    "def evaluate_arima_model(data, arima_order):\n",
    "    # Needs to be an integer because it is later used as an index.\n",
    "    split=int(len(data) * 0.85) \n",
    "    train, test = data[0:split], data[split:len(data)]\n",
    "    past=[x for x in train]\n",
    "    # make predictions\n",
    "    predictions = list()\n",
    "    for i in range(len(test)):\n",
    "        model = ARIMA(past, order=arima_order)\n",
    "        model_fit = model.fit(disp=0)\n",
    "        future = model_fit.forecast()[0]\n",
    "        predictions.append(future)\n",
    "        past.append(test[i])\n",
    "    # calculate out of sample error\n",
    "    error = mean_squared_error(test, predictions)\n",
    "    return error"
   ]
  },
  {
   "cell_type": "code",
   "execution_count": 32,
   "id": "10e18f7d",
   "metadata": {},
   "outputs": [],
   "source": [
    "# Make a function called evaluate_models to evaluate different ARIMA models with several different p, d, and q values.\n",
    "def evaluate_models(dataset, p_values, d_values, q_values):\n",
    "    best_score, best_cfg = float(\"inf\"), None\n",
    "    # Iterate through p_values\n",
    "    for p in p_values:\n",
    "        # Iterate through d_values\n",
    "        for d in d_values:\n",
    "            # Iterate through q_values\n",
    "            for q in q_values:\n",
    "                # p, d, q iterator variables in that order\n",
    "                order = (p,d,q)\n",
    "                try:\n",
    "                    # Make a variable called mse for the Mean squared error\n",
    "                    mse = evaluate_arima_model(dataset, order)\n",
    "                    if mse < best_score:\n",
    "                        best_score, best_cfg = mse, order\n",
    "                    print('ARIMA%s MSE=%.3f' % (order,mse))\n",
    "                except:\n",
    "                    continue\n",
    "    return print('Best ARIMA%s MSE=%.3f' % (best_cfg, best_score))"
   ]
  },
  {
   "cell_type": "code",
   "execution_count": 33,
   "id": "387853cd",
   "metadata": {},
   "outputs": [],
   "source": [
    "# Now, we choose a couple of values to try for each parameter: p_values, d_values and q_values\n",
    "# Fill in the blanks as appropriate\n",
    "p_values = [x for x in range(0, 3)]\n",
    "d_values = [x for x in range(0, 3)]\n",
    "q_values = [x for x in range(0, 3)]"
   ]
  },
  {
   "cell_type": "code",
   "execution_count": 40,
   "id": "90103de9",
   "metadata": {},
   "outputs": [
    {
     "name": "stdout",
     "output_type": "stream",
     "text": [
      "Best ARIMANone MSE=inf\n"
     ]
    }
   ],
   "source": [
    "# Finally, we can find the optimum ARIMA model for our data.\n",
    "# Nb. this can take a while...!\n",
    "import warnings\n",
    "warnings.filterwarnings(\"ignore\")\n",
    "evaluate_models(DIA_log, p_values, d_values, q_values)"
   ]
  },
  {
   "cell_type": "code",
   "execution_count": 35,
   "id": "15571f18",
   "metadata": {},
   "outputs": [],
   "source": [
    "from pmdarima.arima import auto_arima"
   ]
  },
  {
   "cell_type": "code",
   "execution_count": 36,
   "id": "b0c0fdd3",
   "metadata": {
    "scrolled": false
   },
   "outputs": [
    {
     "name": "stdout",
     "output_type": "stream",
     "text": [
      "Performing stepwise search to minimize aic\n",
      " ARIMA(0,1,0)(0,0,0)[0] intercept   : AIC=-26947.729, Time=0.62 sec\n",
      " ARIMA(1,1,0)(0,0,0)[0] intercept   : AIC=-28454.609, Time=0.73 sec\n",
      " ARIMA(0,1,1)(0,0,0)[0] intercept   : AIC=inf, Time=4.50 sec\n",
      " ARIMA(0,1,0)(0,0,0)[0]             : AIC=-26949.728, Time=0.22 sec\n",
      " ARIMA(2,1,0)(0,0,0)[0] intercept   : AIC=-29283.584, Time=2.48 sec\n",
      " ARIMA(3,1,0)(0,0,0)[0] intercept   : AIC=-29611.018, Time=1.09 sec\n",
      " ARIMA(3,1,1)(0,0,0)[0] intercept   : AIC=-30685.545, Time=4.52 sec\n",
      " ARIMA(2,1,1)(0,0,0)[0] intercept   : AIC=-30759.913, Time=4.30 sec\n",
      " ARIMA(1,1,1)(0,0,0)[0] intercept   : AIC=inf, Time=5.75 sec\n",
      " ARIMA(2,1,2)(0,0,0)[0] intercept   : AIC=inf, Time=8.66 sec\n",
      " ARIMA(1,1,2)(0,0,0)[0] intercept   : AIC=-30423.448, Time=1.05 sec\n",
      " ARIMA(3,1,2)(0,0,0)[0] intercept   : AIC=-30486.884, Time=5.29 sec\n",
      " ARIMA(2,1,1)(0,0,0)[0]             : AIC=inf, Time=2.25 sec\n",
      "\n",
      "Best model:  ARIMA(2,1,1)(0,0,0)[0] intercept\n",
      "Total fit time: 41.472 seconds\n"
     ]
    }
   ],
   "source": [
    "arima = auto_arima(DIA_log_diff, start_p = 0, d = 1, start_q = 0, max_p = 3, max_d = 3, max_q = 3, start_P = 0, D = 1, start_Q = 0, max_P = 3, max_D = 3, max_Q =3, seasonal = True, error_action = 'warn', trace = True, supress_warnings = True, stepwise = True, random_state = 42, n_fits = 50)"
   ]
  },
  {
   "cell_type": "code",
   "execution_count": 37,
   "id": "7031e88d",
   "metadata": {
    "scrolled": false
   },
   "outputs": [
    {
     "data": {
      "text/html": [
       "<table class=\"simpletable\">\n",
       "<caption>SARIMAX Results</caption>\n",
       "<tr>\n",
       "  <th>Dep. Variable:</th>           <td>y</td>        <th>  No. Observations:  </th>    <td>5029</td>   \n",
       "</tr>\n",
       "<tr>\n",
       "  <th>Model:</th>           <td>SARIMAX(2, 1, 1)</td> <th>  Log Likelihood     </th>  <td>15384.956</td>\n",
       "</tr>\n",
       "<tr>\n",
       "  <th>Date:</th>            <td>Sat, 13 Nov 2021</td> <th>  AIC                </th> <td>-30759.913</td>\n",
       "</tr>\n",
       "<tr>\n",
       "  <th>Time:</th>                <td>14:15:56</td>     <th>  BIC                </th> <td>-30727.299</td>\n",
       "</tr>\n",
       "<tr>\n",
       "  <th>Sample:</th>                  <td>0</td>        <th>  HQIC               </th> <td>-30748.485</td>\n",
       "</tr>\n",
       "<tr>\n",
       "  <th></th>                      <td> - 5029</td>     <th>                     </th>      <td> </td>    \n",
       "</tr>\n",
       "<tr>\n",
       "  <th>Covariance Type:</th>        <td>opg</td>       <th>                     </th>      <td> </td>    \n",
       "</tr>\n",
       "</table>\n",
       "<table class=\"simpletable\">\n",
       "<tr>\n",
       "      <td></td>         <th>coef</th>     <th>std err</th>      <th>z</th>      <th>P>|z|</th>  <th>[0.025</th>    <th>0.975]</th>  \n",
       "</tr>\n",
       "<tr>\n",
       "  <th>intercept</th> <td>-2.081e-06</td> <td> 2.42e-06</td> <td>   -0.859</td> <td> 0.390</td> <td>-6.83e-06</td> <td> 2.67e-06</td>\n",
       "</tr>\n",
       "<tr>\n",
       "  <th>ar.L1</th>     <td>   -0.0576</td> <td>    0.009</td> <td>   -6.437</td> <td> 0.000</td> <td>   -0.075</td> <td>   -0.040</td>\n",
       "</tr>\n",
       "<tr>\n",
       "  <th>ar.L2</th>     <td>   -0.0536</td> <td>    0.006</td> <td>   -8.558</td> <td> 0.000</td> <td>   -0.066</td> <td>   -0.041</td>\n",
       "</tr>\n",
       "<tr>\n",
       "  <th>ma.L1</th>     <td>   -0.9868</td> <td>    0.002</td> <td> -451.142</td> <td> 0.000</td> <td>   -0.991</td> <td>   -0.982</td>\n",
       "</tr>\n",
       "<tr>\n",
       "  <th>sigma2</th>    <td>    0.0001</td> <td> 1.18e-06</td> <td>  109.607</td> <td> 0.000</td> <td>    0.000</td> <td>    0.000</td>\n",
       "</tr>\n",
       "</table>\n",
       "<table class=\"simpletable\">\n",
       "<tr>\n",
       "  <th>Ljung-Box (L1) (Q):</th>     <td>1.90</td> <th>  Jarque-Bera (JB):  </th> <td>26990.34</td>\n",
       "</tr>\n",
       "<tr>\n",
       "  <th>Prob(Q):</th>                <td>0.17</td> <th>  Prob(JB):          </th>   <td>0.00</td>  \n",
       "</tr>\n",
       "<tr>\n",
       "  <th>Heteroskedasticity (H):</th> <td>0.51</td> <th>  Skew:              </th>   <td>0.32</td>  \n",
       "</tr>\n",
       "<tr>\n",
       "  <th>Prob(H) (two-sided):</th>    <td>0.00</td> <th>  Kurtosis:          </th>   <td>14.33</td> \n",
       "</tr>\n",
       "</table><br/><br/>Warnings:<br/>[1] Covariance matrix calculated using the outer product of gradients (complex-step)."
      ],
      "text/plain": [
       "<class 'statsmodels.iolib.summary.Summary'>\n",
       "\"\"\"\n",
       "                               SARIMAX Results                                \n",
       "==============================================================================\n",
       "Dep. Variable:                      y   No. Observations:                 5029\n",
       "Model:               SARIMAX(2, 1, 1)   Log Likelihood               15384.956\n",
       "Date:                Sat, 13 Nov 2021   AIC                         -30759.913\n",
       "Time:                        14:15:56   BIC                         -30727.299\n",
       "Sample:                             0   HQIC                        -30748.485\n",
       "                               - 5029                                         \n",
       "Covariance Type:                  opg                                         \n",
       "==============================================================================\n",
       "                 coef    std err          z      P>|z|      [0.025      0.975]\n",
       "------------------------------------------------------------------------------\n",
       "intercept  -2.081e-06   2.42e-06     -0.859      0.390   -6.83e-06    2.67e-06\n",
       "ar.L1         -0.0576      0.009     -6.437      0.000      -0.075      -0.040\n",
       "ar.L2         -0.0536      0.006     -8.558      0.000      -0.066      -0.041\n",
       "ma.L1         -0.9868      0.002   -451.142      0.000      -0.991      -0.982\n",
       "sigma2         0.0001   1.18e-06    109.607      0.000       0.000       0.000\n",
       "===================================================================================\n",
       "Ljung-Box (L1) (Q):                   1.90   Jarque-Bera (JB):             26990.34\n",
       "Prob(Q):                              0.17   Prob(JB):                         0.00\n",
       "Heteroskedasticity (H):               0.51   Skew:                             0.32\n",
       "Prob(H) (two-sided):                  0.00   Kurtosis:                        14.33\n",
       "===================================================================================\n",
       "\n",
       "Warnings:\n",
       "[1] Covariance matrix calculated using the outer product of gradients (complex-step).\n",
       "\"\"\""
      ]
     },
     "execution_count": 37,
     "metadata": {},
     "output_type": "execute_result"
    }
   ],
   "source": [
    "arima.summary()"
   ]
  },
  {
   "cell_type": "code",
   "execution_count": null,
   "id": "3e892772",
   "metadata": {},
   "outputs": [],
   "source": [
    "split=int(len(DIA) * 0.85) \n",
    "train, test = DIA[0:split], DIA[split:len(DIA)]\n",
    "train, test = DIA[:'2017'], DIA['2018':]    "
   ]
  },
  {
   "cell_type": "code",
   "execution_count": null,
   "id": "ba52f4f7",
   "metadata": {
    "scrolled": false
   },
   "outputs": [],
   "source": [
    "fig, ax = plt.subplots()\n",
    "\n",
    "# Plot the train and test sets on the axis ax\n",
    "train.plot(ax=ax)\n",
    "test.plot(ax=ax)\n",
    "ax.legend([\"Train\", \"Test\"])\n",
    "ax.set_ylabel('Closing Price')\n",
    "plt.show()"
   ]
  },
  {
   "cell_type": "markdown",
   "id": "b5ac3559",
   "metadata": {},
   "source": [
    "### Scaling the Data"
   ]
  },
  {
   "cell_type": "code",
   "execution_count": null,
   "id": "1c3b4ded",
   "metadata": {
    "scrolled": true
   },
   "outputs": [],
   "source": [
    "scaler = MinMaxScaler(feature_range=(0,1))\n",
    "scaled_data = scaler.fit_transform(train.values.reshape(-1,1))\n",
    "scaled_data.shape"
   ]
  },
  {
   "cell_type": "code",
   "execution_count": null,
   "id": "3652e617",
   "metadata": {},
   "outputs": [],
   "source": [
    "prediction_days = 30\n",
    "\n",
    "X_train = []\n",
    "y_train = []\n",
    "\n",
    "for i in range(prediction_days, len(scaled_data)-5):      \n",
    "    X_train.append(scaled_data[i-prediction_days: i, 0])\n",
    "    y_train.append(scaled_data[i+5, 0])                     \n",
    "\n",
    "X_train, y_train = np.array(X_train), np.array(y_train)\n",
    "\n",
    "X_train = np.reshape(X_train, (X_train.shape[0], X_train.shape[1], 1))"
   ]
  },
  {
   "cell_type": "code",
   "execution_count": null,
   "id": "922d4891",
   "metadata": {
    "scrolled": false
   },
   "outputs": [],
   "source": [
    "print(X_train.shape)\n",
    "print(y_train.shape)"
   ]
  },
  {
   "cell_type": "markdown",
   "id": "9c1832fa",
   "metadata": {},
   "source": [
    "## Modeling"
   ]
  },
  {
   "cell_type": "code",
   "execution_count": null,
   "id": "9532f51d",
   "metadata": {},
   "outputs": [],
   "source": [
    "def LSTM_model():\n",
    "    \n",
    "    model = Sequential()    \n",
    "    model.add(LSTM(units = 50, return_sequences = True, input_shape = (X_train.shape[1],1))) \n",
    "    model.add(Dropout(0.2))\n",
    "    model.add(LSTM(units = 50, return_sequences = True))                                    \n",
    "    model.add(Dropout(0.2))\n",
    "    model.add(LSTM(units = 50))\n",
    "    model.add(Dropout(0.2))\n",
    "    model.add(Dense(units=1, activation = \"linear\"))\n",
    "    \n",
    "    return model"
   ]
  },
  {
   "cell_type": "code",
   "execution_count": null,
   "id": "3641dd97",
   "metadata": {},
   "outputs": [],
   "source": [
    "model = LSTM_model()\n",
    "model.summary()"
   ]
  },
  {
   "cell_type": "code",
   "execution_count": null,
   "id": "edfa5842",
   "metadata": {},
   "outputs": [],
   "source": [
    "model.compile(optimizer='adam', loss='mean_squared_error', metrics = ['accuracy'])"
   ]
  },
  {
   "cell_type": "code",
   "execution_count": null,
   "id": "3d99e231",
   "metadata": {},
   "outputs": [],
   "source": [
    "checkpointer = ModelCheckpoint(filepath = 'best_weights.hdf5', verbose = 1, save_best_only = True)\n",
    "his=model.fit(X_train,y_train,epochs=50,batch_size=32,callbacks=[checkpointer])"
   ]
  },
  {
   "cell_type": "code",
   "execution_count": null,
   "id": "efdca683",
   "metadata": {},
   "outputs": [],
   "source": [
    "plt.plot(his.history['loss'])\n",
    "plt.plot(his.history['accuracy'])\n",
    "plt.title('model loss')\n",
    "plt.ylabel('loss')\n",
    "plt.xlabel('epoch')\n",
    "plt.legend(['loss','accuracy'])\n",
    "plt.show()"
   ]
  },
  {
   "cell_type": "code",
   "execution_count": null,
   "id": "aa6f71af",
   "metadata": {},
   "outputs": [],
   "source": [
    "real_prices = test.values\n",
    "total_dataset = pd.concat((train, test), axis=0)\n",
    "\n",
    "# Let's find the number of days in the training data\n",
    "len_train_data = len(total_dataset)-len(test)\n",
    "\n",
    "# Here we need 30 days prior to predict the first test data. Thus why we are using days from the training set to help predict TEST DAY 1\n",
    "model_inputs = total_dataset[len_train_data-prediction_days:].values\n",
    "model_inputs = model_inputs.reshape(-1,1) # -1 here indicated that we keep the same the dimension meaning dimension (3,) becomes here (3,1)\n",
    "\n",
    "# Normalzing the model inputs as we did previously but now for the test data inputs\n",
    "model_inputs = scaler.transform(model_inputs)"
   ]
  },
  {
   "cell_type": "code",
   "execution_count": null,
   "id": "80d5db62",
   "metadata": {},
   "outputs": [],
   "source": [
    "# Preparing x_test \n",
    "x_test = []\n",
    "for day in range(prediction_days,len(model_inputs)):\n",
    "    x_test.append(model_inputs[day-prediction_days:day,0])\n",
    "\n",
    "x_test = np.array(x_test)\n",
    "x_test = np.reshape(x_test,(x_test.shape[0],x_test.shape[1],1))\n",
    "\n",
    "# Predicting the prices\n",
    "predicted_prices = model.predict(x_test)\n",
    "predicted_prices = scaler.inverse_transform(predicted_prices)"
   ]
  },
  {
   "cell_type": "code",
   "execution_count": null,
   "id": "3fe15572",
   "metadata": {},
   "outputs": [],
   "source": [
    "plt.plot(real_prices, color='red', label=f\"Actual price\")\n",
    "plt.plot(predicted_prices, color= 'blue', label=\"Predicted 5-days-after price\")\n",
    "plt.title(\"IBM Stock\")\n",
    "plt.xlabel(\"Days in test period\")\n",
    "plt.ylabel(\"Price\")\n",
    "plt.legend()\n",
    "plt.show()"
   ]
  }
 ],
 "metadata": {
  "kernelspec": {
   "display_name": "Python 3",
   "language": "python",
   "name": "python3"
  },
  "language_info": {
   "codemirror_mode": {
    "name": "ipython",
    "version": 3
   },
   "file_extension": ".py",
   "mimetype": "text/x-python",
   "name": "python",
   "nbconvert_exporter": "python",
   "pygments_lexer": "ipython3",
   "version": "3.8.8"
  }
 },
 "nbformat": 4,
 "nbformat_minor": 5
}
